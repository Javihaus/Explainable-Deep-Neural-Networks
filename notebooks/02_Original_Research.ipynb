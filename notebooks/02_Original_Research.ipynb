{
  "nbformat": 4,
  "nbformat_minor": 0,
  "metadata": {
    "colab": {
      "name": "2_Exp_KAGGLE_COVID_19_Drug_Discovery_Data.ipynb",
      "provenance": [],
      "collapsed_sections": []
    },
    "kernelspec": {
      "display_name": "Python 3",
      "language": "python",
      "name": "python3"
    },
    "language_info": {
      "codemirror_mode": {
        "name": "ipython",
        "version": 3
      },
      "file_extension": ".py",
      "mimetype": "text/x-python",
      "name": "python",
      "nbconvert_exporter": "python",
      "pygments_lexer": "ipython3",
      "version": "3.7.8"
    }
  },
  "cells": [
    {
      "cell_type": "code",
      "metadata": {
        "id": "OgLFuDN6YLFW"
      },
      "source": [
        "#!pip install umap-learn umap-learn[plot] umap\n",
        "#!pip install holoviews\n",
        "#!pip install -U ipykernel\n",
        "#!pip3 install keras-visualizer\n",
        "#!pip install giotto-tda  "
      ],
      "execution_count": 1,
      "outputs": []
    },
    {
      "cell_type": "code",
      "metadata": {
        "id": "V0z2i61eqn8f"
      },
      "source": [
        "# reload modules before executing user code\n",
        "%load_ext autoreload\n",
        "# reload all modules every time before executing the Python code\n",
        "%autoreload 2"
      ],
      "execution_count": 2,
      "outputs": []
    },
    {
      "cell_type": "code",
      "metadata": {
        "id": "sZ012QPaEblC"
      },
      "source": [
        "import numpy as np\n",
        "import pandas as pd\n",
        "import gtda.diagrams as diag\n",
        "from gtda.diagrams import Scaler, Filtering, PersistenceEntropy, BettiCurve, PairwiseDistance\n",
        "from gtda.homology import VietorisRipsPersistence\n",
        "import gtda.graphs as gr\n",
        "from gtda.pipeline import Pipeline\n",
        "from gtda.plotting import plot_point_cloud, plot_heatmap\n",
        "from gtda.graphs import KNeighborsGraph, GraphGeodesicDistance\n",
        "from gtda.mapper import (\n",
        "    CubicalCover,\n",
        "    OneDimensionalCover,\n",
        "    make_mapper_pipeline,\n",
        "    Projection,\n",
        "    plot_static_mapper_graph,\n",
        "    plot_interactive_mapper_graph)\n",
        "from gtda.mapper import Eccentricity, Entropy\n",
        "\n",
        "import umap.umap_ as umap\n",
        "\n",
        "from sklearn.cluster import DBSCAN\n",
        "from sklearn.metrics import pairwise_distances\n",
        "from sklearn.decomposition import PCA\n",
        "from sklearn.preprocessing import MinMaxScaler\n",
        "\n",
        "import matplotlib.pyplot as plt\n",
        "import plotly.express as px\n",
        "from plotly.subplots import make_subplots\n",
        "import plotly.graph_objects as go\n",
        "import plotly.figure_factory as ff\n"
      ],
      "execution_count": 3,
      "outputs": []
    },
    {
      "cell_type": "markdown",
      "metadata": {
        "id": "4SQzy8aEEblE"
      },
      "source": [
        "## Builiding data"
      ]
    },
    {
      "cell_type": "markdown",
      "metadata": {
        "id": "_l803cRlVQ_e"
      },
      "source": [
        "### PubChem Search"
      ]
    },
    {
      "cell_type": "markdown",
      "metadata": {
        "id": "aYPYmpuuVV4L"
      },
      "source": [
        "*References: Wang Y, Xiao J, Suzek TO, Zhang J, Wang J, Bryant SH. PubChem: a public information system for analyzing bioactivities of small molecules. Nucleic Acids Res. 2009 Jul;37(Web Server issue):W623-33. doi: 10.1093/nar/gkp456. Epub 2009 Jun 4. PMID: 19498078; PMCID: PMC2703903.*"
      ]
    },
    {
      "cell_type": "code",
      "metadata": {
        "id": "MXQf3lhdXNKX"
      },
      "source": [
        "def load_csv(path):\n",
        "    return pd.read_csv(path, \n",
        "                       engine='c', \n",
        "                       parse_dates=True, \n",
        "                       infer_datetime_format=True, \n",
        "                       low_memory=False)\n",
        "\n",
        "DF = load_csv('DDH Data with Properties.csv')\n",
        "DF = DF.dropna()"
      ],
      "execution_count": 4,
      "outputs": []
    },
    {
      "cell_type": "code",
      "metadata": {
        "id": "WnSY_o2ObEB9"
      },
      "source": [
        "def min_max(df):\n",
        "    min_max_scaler = MinMaxScaler(feature_range=(0,1))\n",
        "    df_scaled = min_max_scaler.fit_transform(df[[item for item in df.columns]])\n",
        "    df_scaled= pd.DataFrame(df_scaled)\n",
        "    df = df.mask(df==0).fillna(method='backfill')\n",
        "    return df"
      ],
      "execution_count": 5,
      "outputs": []
    },
    {
      "cell_type": "code",
      "metadata": {
        "id": "4KikwrkIZIkn"
      },
      "source": [
        "df = DF.drop(columns=['CID', \t'SMILES', \t'MolecularFormula', 'InChI', \t'InChIKey', \t'IUPACName'])"
      ],
      "execution_count": 6,
      "outputs": []
    },
    {
      "cell_type": "code",
      "metadata": {
        "id": "YCnsodaqaWdA"
      },
      "source": [
        "\"\"\" pIC50 = 50% Log inhibitory concentration of the compound (in microM).\n",
        "Higher values of pIC50 indicate exponentially more potent inhibitors\"\"\"\n",
        "\n",
        "#train values\n",
        "clean = df[df['pIC50'] != 'BLINDED']\n",
        "clean['pIC50'] = clean['pIC50'].astype('float')\n",
        "clean = clean.dropna()\n",
        "clean = clean.reset_index(drop=True)\n",
        "\n",
        "#test values\n",
        "predict = df[df['pIC50'] == 'BLINDED'] "
      ],
      "execution_count": 7,
      "outputs": []
    },
    {
      "cell_type": "markdown",
      "metadata": {
        "id": "QfIHXhFjZCRK"
      },
      "source": [
        "## Deep Feed-Forward Neural Network\n"
      ]
    },
    {
      "cell_type": "code",
      "metadata": {
        "id": "LfNzJN3-Xa8f"
      },
      "source": [
        "import keras\n",
        "#from keras.utils import to_categorical\n",
        "from keras.layers import Dense, Dropout, BatchNormalization\n",
        "from keras.models import Sequential\n",
        "from datetime import datetime\n",
        "import tensorboard\n",
        "from sklearn.model_selection import train_test_split\n",
        "from tensorflow.keras import regularizers"
      ],
      "execution_count": 8,
      "outputs": []
    },
    {
      "cell_type": "code",
      "metadata": {
        "id": "SOeuq-ReO5by"
      },
      "source": [
        "dataset = clean\n",
        "X = dataset.drop(columns='pIC50')\n",
        "y = dataset['pIC50']\n",
        "y = pd.cut(y, bins=[-3.0,  0.0, 1.5], labels=[0, 1])\n",
        "X_train, X_test, y_train, y_test = train_test_split(X, y, test_size=0.33, random_state=1)"
      ],
      "execution_count": 9,
      "outputs": []
    },
    {
      "cell_type": "code",
      "metadata": {
        "id": "vroUVFoMZIWf"
      },
      "source": [
        "input_dim = len(clean.drop(columns='pIC50').columns)  #floats\n",
        "\n",
        "model = Sequential()\n",
        "#The Dense function in Keras constructs a fully connected neural network layer, \n",
        "#  automatically initializing the weights as biases.\n",
        "#First hidden layer\n",
        "#The input layer is specified as a parameter \n",
        "#  to the first Dense object's constructor.\n",
        "#Regularrizer tells Keras to include the squared values of those parameters in our overall \n",
        "#  loss function, and weight them by 0.01 in the loss function\n",
        "model.add(Dense(50, activation='relu', kernel_initializer='random_normal',\n",
        "                kernel_regularizer=regularizers.l2(0.05), input_dim=input_dim,\n",
        "                ))\n",
        "#model.add(Dropout(0.3))    \n",
        "#Second hidden layer\n",
        "model.add(Dense(40, activation='relu', kernel_initializer='random_normal',\n",
        "                kernel_regularizer=regularizers.l2(0.05) ))\n",
        "\n",
        "model.add(Dense(20, activation='relu', kernel_initializer='random_normal',\n",
        "                kernel_regularizer=regularizers.l2(0.05) ))\n",
        "#model.add(Dropout(0.3))   \n",
        "#Output layer\n",
        "model.add(Dense(1, activation='sigmoid', kernel_initializer='random_normal',\n",
        "                kernel_regularizer=regularizers.l2(0.05) ))\n",
        "#model.add(Dropout(0.3))   \n",
        "# compile the model\n",
        "model.compile(optimizer='adam', \n",
        "              loss='binary_crossentropy', \n",
        "              metrics=['accuracy'])"
      ],
      "execution_count": 10,
      "outputs": []
    },
    {
      "cell_type": "code",
      "metadata": {
        "colab": {
          "base_uri": "https://localhost:8080/"
        },
        "id": "X-rQFWVQPzkY",
        "outputId": "b7e2ea65-34b3-44ee-cf9f-f5252fff2daa"
      },
      "source": [
        "model.summary()"
      ],
      "execution_count": 11,
      "outputs": [
        {
          "output_type": "stream",
          "text": [
            "Model: \"sequential\"\n",
            "_________________________________________________________________\n",
            "Layer (type)                 Output Shape              Param #   \n",
            "=================================================================\n",
            "dense (Dense)                (None, 50)                1700      \n",
            "_________________________________________________________________\n",
            "dense_1 (Dense)              (None, 40)                2040      \n",
            "_________________________________________________________________\n",
            "dense_2 (Dense)              (None, 20)                820       \n",
            "_________________________________________________________________\n",
            "dense_3 (Dense)              (None, 1)                 21        \n",
            "=================================================================\n",
            "Total params: 4,581\n",
            "Trainable params: 4,581\n",
            "Non-trainable params: 0\n",
            "_________________________________________________________________\n"
          ],
          "name": "stdout"
        }
      ]
    },
    {
      "cell_type": "code",
      "metadata": {
        "colab": {
          "base_uri": "https://localhost:8080/"
        },
        "id": "cVXHR0v_tjvV",
        "outputId": "a7171339-f22b-4929-d3d7-c5d8f2c23f32"
      },
      "source": [
        "# fit your model to the training data.\n",
        "history = model.fit(X_train, \n",
        "          y_train,\n",
        "          epochs=100,\n",
        "          batch_size=10,\n",
        "          shuffle=True,\n",
        "          verbose=2,\n",
        "          validation_data=(X_test, y_test))"
      ],
      "execution_count": 12,
      "outputs": [
        {
          "output_type": "stream",
          "text": [
            "Epoch 1/100\n",
            "6/6 - 15s - loss: 1.1903 - accuracy: 0.6500 - val_loss: 1.0778 - val_accuracy: 0.7097\n",
            "Epoch 2/100\n",
            "6/6 - 0s - loss: 0.8544 - accuracy: 0.9167 - val_loss: 1.0023 - val_accuracy: 0.7097\n",
            "Epoch 3/100\n",
            "6/6 - 0s - loss: 0.6654 - accuracy: 0.9167 - val_loss: 1.0791 - val_accuracy: 0.7097\n",
            "Epoch 4/100\n",
            "6/6 - 0s - loss: 0.5718 - accuracy: 0.9167 - val_loss: 1.1848 - val_accuracy: 0.7097\n",
            "Epoch 5/100\n",
            "6/6 - 0s - loss: 0.5410 - accuracy: 0.9167 - val_loss: 1.1626 - val_accuracy: 0.7097\n",
            "Epoch 6/100\n",
            "6/6 - 0s - loss: 0.5067 - accuracy: 0.9167 - val_loss: 1.0622 - val_accuracy: 0.7097\n",
            "Epoch 7/100\n",
            "6/6 - 0s - loss: 0.4637 - accuracy: 0.9167 - val_loss: 0.9806 - val_accuracy: 0.7097\n",
            "Epoch 8/100\n",
            "6/6 - 0s - loss: 0.4363 - accuracy: 0.9167 - val_loss: 0.9610 - val_accuracy: 0.7097\n",
            "Epoch 9/100\n",
            "6/6 - 0s - loss: 0.4145 - accuracy: 0.9167 - val_loss: 0.8900 - val_accuracy: 0.7097\n",
            "Epoch 10/100\n",
            "6/6 - 0s - loss: 0.3987 - accuracy: 0.9167 - val_loss: 0.8538 - val_accuracy: 0.7097\n",
            "Epoch 11/100\n",
            "6/6 - 0s - loss: 0.3815 - accuracy: 0.9167 - val_loss: 0.8848 - val_accuracy: 0.7097\n",
            "Epoch 12/100\n",
            "6/6 - 0s - loss: 0.3672 - accuracy: 0.9167 - val_loss: 0.8754 - val_accuracy: 0.7097\n",
            "Epoch 13/100\n",
            "6/6 - 0s - loss: 0.3549 - accuracy: 0.9167 - val_loss: 0.8711 - val_accuracy: 0.7097\n",
            "Epoch 14/100\n",
            "6/6 - 0s - loss: 0.3466 - accuracy: 0.9167 - val_loss: 0.8811 - val_accuracy: 0.7097\n",
            "Epoch 15/100\n",
            "6/6 - 0s - loss: 0.3370 - accuracy: 0.9167 - val_loss: 0.8594 - val_accuracy: 0.7097\n",
            "Epoch 16/100\n",
            "6/6 - 0s - loss: 0.3305 - accuracy: 0.9167 - val_loss: 0.8401 - val_accuracy: 0.7097\n",
            "Epoch 17/100\n",
            "6/6 - 0s - loss: 0.3239 - accuracy: 0.9167 - val_loss: 0.8245 - val_accuracy: 0.7097\n",
            "Epoch 18/100\n",
            "6/6 - 0s - loss: 0.3187 - accuracy: 0.9167 - val_loss: 0.8184 - val_accuracy: 0.7097\n",
            "Epoch 19/100\n",
            "6/6 - 0s - loss: 0.3145 - accuracy: 0.9167 - val_loss: 0.8106 - val_accuracy: 0.7097\n",
            "Epoch 20/100\n",
            "6/6 - 0s - loss: 0.3106 - accuracy: 0.9167 - val_loss: 0.8144 - val_accuracy: 0.7097\n",
            "Epoch 21/100\n",
            "6/6 - 0s - loss: 0.3074 - accuracy: 0.9167 - val_loss: 0.8291 - val_accuracy: 0.7097\n",
            "Epoch 22/100\n",
            "6/6 - 0s - loss: 0.3039 - accuracy: 0.9167 - val_loss: 0.8322 - val_accuracy: 0.7097\n",
            "Epoch 23/100\n",
            "6/6 - 0s - loss: 0.3001 - accuracy: 0.9167 - val_loss: 0.8119 - val_accuracy: 0.7097\n",
            "Epoch 24/100\n",
            "6/6 - 0s - loss: 0.2978 - accuracy: 0.9167 - val_loss: 0.8104 - val_accuracy: 0.7097\n",
            "Epoch 25/100\n",
            "6/6 - 0s - loss: 0.2968 - accuracy: 0.9167 - val_loss: 0.7707 - val_accuracy: 0.7097\n",
            "Epoch 26/100\n",
            "6/6 - 0s - loss: 0.2938 - accuracy: 0.9167 - val_loss: 0.7788 - val_accuracy: 0.7097\n",
            "Epoch 27/100\n",
            "6/6 - 0s - loss: 0.2906 - accuracy: 0.9167 - val_loss: 0.7992 - val_accuracy: 0.7097\n",
            "Epoch 28/100\n",
            "6/6 - 0s - loss: 0.2904 - accuracy: 0.9167 - val_loss: 0.7853 - val_accuracy: 0.7097\n",
            "Epoch 29/100\n",
            "6/6 - 0s - loss: 0.2885 - accuracy: 0.9167 - val_loss: 0.8282 - val_accuracy: 0.7097\n",
            "Epoch 30/100\n",
            "6/6 - 0s - loss: 0.2872 - accuracy: 0.9167 - val_loss: 0.8293 - val_accuracy: 0.7097\n",
            "Epoch 31/100\n",
            "6/6 - 0s - loss: 0.2841 - accuracy: 0.9167 - val_loss: 0.7812 - val_accuracy: 0.7097\n",
            "Epoch 32/100\n",
            "6/6 - 0s - loss: 0.2818 - accuracy: 0.9167 - val_loss: 0.7789 - val_accuracy: 0.7097\n",
            "Epoch 33/100\n",
            "6/6 - 0s - loss: 0.2817 - accuracy: 0.9167 - val_loss: 0.7808 - val_accuracy: 0.7097\n",
            "Epoch 34/100\n",
            "6/6 - 0s - loss: 0.2807 - accuracy: 0.9167 - val_loss: 0.7677 - val_accuracy: 0.7097\n",
            "Epoch 35/100\n",
            "6/6 - 0s - loss: 0.2800 - accuracy: 0.9167 - val_loss: 0.7973 - val_accuracy: 0.7097\n",
            "Epoch 36/100\n",
            "6/6 - 0s - loss: 0.2777 - accuracy: 0.9167 - val_loss: 0.7971 - val_accuracy: 0.7097\n",
            "Epoch 37/100\n",
            "6/6 - 0s - loss: 0.2786 - accuracy: 0.9167 - val_loss: 0.7537 - val_accuracy: 0.7097\n",
            "Epoch 38/100\n",
            "6/6 - 0s - loss: 0.2752 - accuracy: 0.9167 - val_loss: 0.7690 - val_accuracy: 0.7097\n",
            "Epoch 39/100\n",
            "6/6 - 0s - loss: 0.2752 - accuracy: 0.9167 - val_loss: 0.7723 - val_accuracy: 0.7097\n",
            "Epoch 40/100\n",
            "6/6 - 0s - loss: 0.2725 - accuracy: 0.9167 - val_loss: 0.7826 - val_accuracy: 0.7097\n",
            "Epoch 41/100\n",
            "6/6 - 0s - loss: 0.2718 - accuracy: 0.9167 - val_loss: 0.7898 - val_accuracy: 0.7097\n",
            "Epoch 42/100\n",
            "6/6 - 0s - loss: 0.2735 - accuracy: 0.9167 - val_loss: 0.7676 - val_accuracy: 0.7097\n",
            "Epoch 43/100\n",
            "6/6 - 0s - loss: 0.2712 - accuracy: 0.9167 - val_loss: 0.7685 - val_accuracy: 0.7097\n",
            "Epoch 44/100\n",
            "6/6 - 0s - loss: 0.2704 - accuracy: 0.9167 - val_loss: 0.8010 - val_accuracy: 0.7097\n",
            "Epoch 45/100\n",
            "6/6 - 0s - loss: 0.2699 - accuracy: 0.9167 - val_loss: 0.7880 - val_accuracy: 0.7097\n",
            "Epoch 46/100\n",
            "6/6 - 0s - loss: 0.2691 - accuracy: 0.9167 - val_loss: 0.7930 - val_accuracy: 0.7097\n",
            "Epoch 47/100\n",
            "6/6 - 0s - loss: 0.2670 - accuracy: 0.9167 - val_loss: 0.7569 - val_accuracy: 0.7097\n",
            "Epoch 48/100\n",
            "6/6 - 0s - loss: 0.2667 - accuracy: 0.9167 - val_loss: 0.7491 - val_accuracy: 0.7097\n",
            "Epoch 49/100\n",
            "6/6 - 0s - loss: 0.2666 - accuracy: 0.9167 - val_loss: 0.7527 - val_accuracy: 0.7097\n",
            "Epoch 50/100\n",
            "6/6 - 0s - loss: 0.2658 - accuracy: 0.9167 - val_loss: 0.7608 - val_accuracy: 0.7097\n",
            "Epoch 51/100\n",
            "6/6 - 0s - loss: 0.2674 - accuracy: 0.9167 - val_loss: 0.7550 - val_accuracy: 0.7097\n",
            "Epoch 52/100\n",
            "6/6 - 0s - loss: 0.2669 - accuracy: 0.9167 - val_loss: 0.8099 - val_accuracy: 0.7097\n",
            "Epoch 53/100\n",
            "6/6 - 0s - loss: 0.2662 - accuracy: 0.9167 - val_loss: 0.8045 - val_accuracy: 0.7097\n",
            "Epoch 54/100\n",
            "6/6 - 0s - loss: 0.2629 - accuracy: 0.9167 - val_loss: 0.7711 - val_accuracy: 0.7097\n",
            "Epoch 55/100\n",
            "6/6 - 0s - loss: 0.2702 - accuracy: 0.9167 - val_loss: 0.7148 - val_accuracy: 0.7097\n",
            "Epoch 56/100\n",
            "6/6 - 0s - loss: 0.2635 - accuracy: 0.9167 - val_loss: 0.7493 - val_accuracy: 0.7097\n",
            "Epoch 57/100\n",
            "6/6 - 0s - loss: 0.2653 - accuracy: 0.9167 - val_loss: 0.8032 - val_accuracy: 0.7097\n",
            "Epoch 58/100\n",
            "6/6 - 0s - loss: 0.2631 - accuracy: 0.9167 - val_loss: 0.7694 - val_accuracy: 0.7097\n",
            "Epoch 59/100\n",
            "6/6 - 0s - loss: 0.2643 - accuracy: 0.9167 - val_loss: 0.7414 - val_accuracy: 0.7097\n",
            "Epoch 60/100\n",
            "6/6 - 0s - loss: 0.2619 - accuracy: 0.9167 - val_loss: 0.7396 - val_accuracy: 0.7097\n",
            "Epoch 61/100\n",
            "6/6 - 0s - loss: 0.2607 - accuracy: 0.9167 - val_loss: 0.7645 - val_accuracy: 0.7097\n",
            "Epoch 62/100\n",
            "6/6 - 0s - loss: 0.2616 - accuracy: 0.9167 - val_loss: 0.7706 - val_accuracy: 0.7097\n",
            "Epoch 63/100\n",
            "6/6 - 0s - loss: 0.2621 - accuracy: 0.9167 - val_loss: 0.7967 - val_accuracy: 0.7097\n",
            "Epoch 64/100\n",
            "6/6 - 0s - loss: 0.2593 - accuracy: 0.9167 - val_loss: 0.7666 - val_accuracy: 0.7097\n",
            "Epoch 65/100\n",
            "6/6 - 0s - loss: 0.2627 - accuracy: 0.9167 - val_loss: 0.7202 - val_accuracy: 0.7097\n",
            "Epoch 66/100\n",
            "6/6 - 0s - loss: 0.2610 - accuracy: 0.9167 - val_loss: 0.7632 - val_accuracy: 0.7097\n",
            "Epoch 67/100\n",
            "6/6 - 0s - loss: 0.2598 - accuracy: 0.9167 - val_loss: 0.7477 - val_accuracy: 0.7097\n",
            "Epoch 68/100\n",
            "6/6 - 0s - loss: 0.2581 - accuracy: 0.9167 - val_loss: 0.7463 - val_accuracy: 0.7097\n",
            "Epoch 69/100\n",
            "6/6 - 0s - loss: 0.2594 - accuracy: 0.9167 - val_loss: 0.7403 - val_accuracy: 0.7097\n",
            "Epoch 70/100\n",
            "6/6 - 0s - loss: 0.2560 - accuracy: 0.9167 - val_loss: 0.7618 - val_accuracy: 0.7097\n",
            "Epoch 71/100\n",
            "6/6 - 0s - loss: 0.2610 - accuracy: 0.9167 - val_loss: 0.7925 - val_accuracy: 0.7097\n",
            "Epoch 72/100\n",
            "6/6 - 0s - loss: 0.2577 - accuracy: 0.9167 - val_loss: 0.7849 - val_accuracy: 0.7097\n",
            "Epoch 73/100\n",
            "6/6 - 0s - loss: 0.2561 - accuracy: 0.9167 - val_loss: 0.7583 - val_accuracy: 0.7097\n",
            "Epoch 74/100\n",
            "6/6 - 0s - loss: 0.2617 - accuracy: 0.9167 - val_loss: 0.6976 - val_accuracy: 0.7097\n",
            "Epoch 75/100\n",
            "6/6 - 0s - loss: 0.2591 - accuracy: 0.9167 - val_loss: 0.7136 - val_accuracy: 0.7097\n",
            "Epoch 76/100\n",
            "6/6 - 0s - loss: 0.2571 - accuracy: 0.9167 - val_loss: 0.7726 - val_accuracy: 0.7097\n",
            "Epoch 77/100\n",
            "6/6 - 0s - loss: 0.2570 - accuracy: 0.9167 - val_loss: 0.7953 - val_accuracy: 0.7097\n",
            "Epoch 78/100\n",
            "6/6 - 0s - loss: 0.2567 - accuracy: 0.9167 - val_loss: 0.7534 - val_accuracy: 0.7097\n",
            "Epoch 79/100\n",
            "6/6 - 0s - loss: 0.2553 - accuracy: 0.9167 - val_loss: 0.7473 - val_accuracy: 0.7097\n",
            "Epoch 80/100\n",
            "6/6 - 0s - loss: 0.2546 - accuracy: 0.9167 - val_loss: 0.7442 - val_accuracy: 0.7097\n",
            "Epoch 81/100\n",
            "6/6 - 0s - loss: 0.2547 - accuracy: 0.9167 - val_loss: 0.7398 - val_accuracy: 0.7097\n",
            "Epoch 82/100\n",
            "6/6 - 0s - loss: 0.2576 - accuracy: 0.9167 - val_loss: 0.7806 - val_accuracy: 0.7097\n",
            "Epoch 83/100\n",
            "6/6 - 0s - loss: 0.2565 - accuracy: 0.9167 - val_loss: 0.7295 - val_accuracy: 0.7097\n",
            "Epoch 84/100\n",
            "6/6 - 0s - loss: 0.2572 - accuracy: 0.9167 - val_loss: 0.7517 - val_accuracy: 0.7097\n",
            "Epoch 85/100\n",
            "6/6 - 0s - loss: 0.2548 - accuracy: 0.9167 - val_loss: 0.7632 - val_accuracy: 0.7097\n",
            "Epoch 86/100\n",
            "6/6 - 0s - loss: 0.2588 - accuracy: 0.9167 - val_loss: 0.7179 - val_accuracy: 0.7097\n",
            "Epoch 87/100\n",
            "6/6 - 0s - loss: 0.2541 - accuracy: 0.9167 - val_loss: 0.7319 - val_accuracy: 0.7097\n",
            "Epoch 88/100\n",
            "6/6 - 0s - loss: 0.2547 - accuracy: 0.9167 - val_loss: 0.7786 - val_accuracy: 0.7097\n",
            "Epoch 89/100\n",
            "6/6 - 0s - loss: 0.2558 - accuracy: 0.9167 - val_loss: 0.7367 - val_accuracy: 0.7097\n",
            "Epoch 90/100\n",
            "6/6 - 0s - loss: 0.2528 - accuracy: 0.9167 - val_loss: 0.7473 - val_accuracy: 0.7097\n",
            "Epoch 91/100\n",
            "6/6 - 0s - loss: 0.2526 - accuracy: 0.9167 - val_loss: 0.7317 - val_accuracy: 0.7097\n",
            "Epoch 92/100\n",
            "6/6 - 0s - loss: 0.2521 - accuracy: 0.9167 - val_loss: 0.7570 - val_accuracy: 0.7097\n",
            "Epoch 93/100\n",
            "6/6 - 0s - loss: 0.2557 - accuracy: 0.9167 - val_loss: 0.7681 - val_accuracy: 0.7097\n",
            "Epoch 94/100\n",
            "6/6 - 0s - loss: 0.2517 - accuracy: 0.9167 - val_loss: 0.7391 - val_accuracy: 0.7097\n",
            "Epoch 95/100\n",
            "6/6 - 0s - loss: 0.2610 - accuracy: 0.9167 - val_loss: 0.6924 - val_accuracy: 0.7097\n",
            "Epoch 96/100\n",
            "6/6 - 0s - loss: 0.2520 - accuracy: 0.9167 - val_loss: 0.7192 - val_accuracy: 0.7097\n",
            "Epoch 97/100\n",
            "6/6 - 0s - loss: 0.2551 - accuracy: 0.9167 - val_loss: 0.7869 - val_accuracy: 0.7097\n",
            "Epoch 98/100\n",
            "6/6 - 0s - loss: 0.2520 - accuracy: 0.9167 - val_loss: 0.7663 - val_accuracy: 0.7097\n",
            "Epoch 99/100\n",
            "6/6 - 0s - loss: 0.2533 - accuracy: 0.9167 - val_loss: 0.7484 - val_accuracy: 0.7097\n",
            "Epoch 100/100\n",
            "6/6 - 0s - loss: 0.2527 - accuracy: 0.9167 - val_loss: 0.7533 - val_accuracy: 0.7097\n"
          ],
          "name": "stdout"
        }
      ]
    },
    {
      "cell_type": "code",
      "metadata": {
        "id": "J0iZzgsl3tBV",
        "colab": {
          "base_uri": "https://localhost:8080/",
          "height": 542
        },
        "outputId": "100d87da-f6b7-4d93-e1db-91b8ae6e7df0"
      },
      "source": [
        "import plotly.express as px\n",
        "dH = pd.DataFrame(history.history)\n",
        "fig = go.Figure()\n",
        "\n",
        "fig.add_trace(go.Scatter(x=dH.index, y=dH['loss'],\n",
        "                    mode='lines',\n",
        "                    name='Training loss',\n",
        "                    line_color='red'))\n",
        "fig.add_trace(go.Scatter(x=dH.index, y=dH['val_loss'],\n",
        "                    mode='lines',\n",
        "                    name='Validation loss',\n",
        "                    line_color='orange'))\n",
        "fig.add_trace(go.Scatter(x=dH.index, y=dH['accuracy'],\n",
        "                    mode='lines',\n",
        "                    name='Training accuracy',\n",
        "                    line_color='green'))\n",
        "fig.add_trace(go.Scatter(x=dH.index, y=dH['val_accuracy'],\n",
        "                    mode='lines',\n",
        "                    name='Validation accuracy',\n",
        "                    line_color='olive'))\n",
        "fig.update_layout(\n",
        "    title=\"Accuracy and Loss\",\n",
        "    xaxis_title=\"Number of epochs\")\n",
        "fig.update_layout({'plot_bgcolor': 'aliceblue' , #or azure\n",
        "'paper_bgcolor': 'white',}, template='plotly_white')"
      ],
      "execution_count": 13,
      "outputs": [
        {
          "output_type": "display_data",
          "data": {
            "text/html": [
              "<html>\n",
              "<head><meta charset=\"utf-8\" /></head>\n",
              "<body>\n",
              "    <div>            <script src=\"https://cdnjs.cloudflare.com/ajax/libs/mathjax/2.7.5/MathJax.js?config=TeX-AMS-MML_SVG\"></script><script type=\"text/javascript\">if (window.MathJax) {MathJax.Hub.Config({SVG: {font: \"STIX-Web\"}});}</script>                <script type=\"text/javascript\">window.PlotlyConfig = {MathJaxConfig: 'local'};</script>\n",
              "        <script src=\"https://cdn.plot.ly/plotly-latest.min.js\"></script>                <div id=\"41d2e987-9b71-4f1a-abb9-a9adb3c33fdf\" class=\"plotly-graph-div\" style=\"height:525px; width:100%;\"></div>            <script type=\"text/javascript\">                                    window.PLOTLYENV=window.PLOTLYENV || {};                                    if (document.getElementById(\"41d2e987-9b71-4f1a-abb9-a9adb3c33fdf\")) {                    Plotly.newPlot(                        \"41d2e987-9b71-4f1a-abb9-a9adb3c33fdf\",                        [{\"line\": {\"color\": \"red\"}, \"mode\": \"lines\", \"name\": \"Training loss\", \"type\": \"scatter\", \"x\": [0, 1, 2, 3, 4, 5, 6, 7, 8, 9, 10, 11, 12, 13, 14, 15, 16, 17, 18, 19, 20, 21, 22, 23, 24, 25, 26, 27, 28, 29, 30, 31, 32, 33, 34, 35, 36, 37, 38, 39, 40, 41, 42, 43, 44, 45, 46, 47, 48, 49, 50, 51, 52, 53, 54, 55, 56, 57, 58, 59, 60, 61, 62, 63, 64, 65, 66, 67, 68, 69, 70, 71, 72, 73, 74, 75, 76, 77, 78, 79, 80, 81, 82, 83, 84, 85, 86, 87, 88, 89, 90, 91, 92, 93, 94, 95, 96, 97, 98, 99], \"y\": [1.1902905702590942, 0.8544027805328369, 0.6654015779495239, 0.5718225240707397, 0.5409766435623169, 0.5067155957221985, 0.4637358784675598, 0.4363384246826172, 0.414540559053421, 0.3986988663673401, 0.381494402885437, 0.36718446016311646, 0.3548509180545807, 0.3465677499771118, 0.3369537889957428, 0.3305240571498871, 0.3239091634750366, 0.3186628520488739, 0.31446191668510437, 0.31064826250076294, 0.30742695927619934, 0.3039344847202301, 0.3000710904598236, 0.2977859079837799, 0.29681631922721863, 0.2938033640384674, 0.290617436170578, 0.2904275953769684, 0.28851863741874695, 0.28720933198928833, 0.2841023802757263, 0.2818472683429718, 0.2816767990589142, 0.2806972563266754, 0.27995118498802185, 0.27768611907958984, 0.2786269783973694, 0.2752259075641632, 0.27524349093437195, 0.27245643734931946, 0.2717755436897278, 0.27351701259613037, 0.27122974395751953, 0.27043670415878296, 0.26987454295158386, 0.2690652012825012, 0.26701003313064575, 0.266659140586853, 0.26655784249305725, 0.26578930020332336, 0.26740458607673645, 0.26693862676620483, 0.266203373670578, 0.2629244029521942, 0.27017849683761597, 0.26352062821388245, 0.26526206731796265, 0.26313546299934387, 0.26431453227996826, 0.2618778347969055, 0.26067984104156494, 0.26156947016716003, 0.26206347346305847, 0.25925496220588684, 0.26268258690834045, 0.26100289821624756, 0.2597993314266205, 0.25813233852386475, 0.2593850791454315, 0.2560049295425415, 0.2610023319721222, 0.2576526403427124, 0.2561098635196686, 0.26170483231544495, 0.2590586543083191, 0.25710684061050415, 0.25695380568504333, 0.2567049562931061, 0.25525137782096863, 0.25462964177131653, 0.25473693013191223, 0.2576398551464081, 0.25653547048568726, 0.2572196125984192, 0.25479596853256226, 0.2587936222553253, 0.2541194558143616, 0.2547288239002228, 0.2558153569698334, 0.25277119874954224, 0.2525602877140045, 0.25206032395362854, 0.2557292580604553, 0.2517094910144806, 0.2610341012477875, 0.25202590227127075, 0.25511041283607483, 0.2519741654396057, 0.2532733976840973, 0.2527298331260681]}, {\"line\": {\"color\": \"orange\"}, \"mode\": \"lines\", \"name\": \"Validation loss\", \"type\": \"scatter\", \"x\": [0, 1, 2, 3, 4, 5, 6, 7, 8, 9, 10, 11, 12, 13, 14, 15, 16, 17, 18, 19, 20, 21, 22, 23, 24, 25, 26, 27, 28, 29, 30, 31, 32, 33, 34, 35, 36, 37, 38, 39, 40, 41, 42, 43, 44, 45, 46, 47, 48, 49, 50, 51, 52, 53, 54, 55, 56, 57, 58, 59, 60, 61, 62, 63, 64, 65, 66, 67, 68, 69, 70, 71, 72, 73, 74, 75, 76, 77, 78, 79, 80, 81, 82, 83, 84, 85, 86, 87, 88, 89, 90, 91, 92, 93, 94, 95, 96, 97, 98, 99], \"y\": [1.0777711868286133, 1.0023337602615356, 1.0791035890579224, 1.1847975254058838, 1.1626319885253906, 1.0622433423995972, 0.9805961847305298, 0.9610140919685364, 0.8900091052055359, 0.8538186550140381, 0.8848367929458618, 0.8753502368927002, 0.8710609674453735, 0.881095290184021, 0.8594008684158325, 0.8401262760162354, 0.824547290802002, 0.8184168934822083, 0.8106396198272705, 0.8144286274909973, 0.8291357755661011, 0.8322362303733826, 0.8118841052055359, 0.8103883862495422, 0.7706846594810486, 0.7787606716156006, 0.7992408275604248, 0.7853499054908752, 0.8281627297401428, 0.829327404499054, 0.7811606526374817, 0.7789217233657837, 0.7807956337928772, 0.7677318453788757, 0.7972733378410339, 0.7971049547195435, 0.753720223903656, 0.7690131068229675, 0.7722983956336975, 0.7825712561607361, 0.7897747159004211, 0.7676416635513306, 0.7684714198112488, 0.8010125160217285, 0.7880446910858154, 0.7930485010147095, 0.7569493651390076, 0.7491323947906494, 0.7527461051940918, 0.7608320713043213, 0.7549558281898499, 0.8099482655525208, 0.8045127987861633, 0.7710951566696167, 0.7148230075836182, 0.7493245005607605, 0.8031777143478394, 0.769421398639679, 0.7414147853851318, 0.7396331429481506, 0.7645102739334106, 0.7705510258674622, 0.7967045307159424, 0.7665964365005493, 0.7202257513999939, 0.7631868720054626, 0.7476837635040283, 0.7463395595550537, 0.7402874827384949, 0.7617950439453125, 0.7924705147743225, 0.7848517298698425, 0.7582513093948364, 0.6975972652435303, 0.7135559916496277, 0.7726393938064575, 0.7953442931175232, 0.7534494996070862, 0.7472931742668152, 0.744169294834137, 0.7398484945297241, 0.780589759349823, 0.7294766306877136, 0.751740574836731, 0.7632061839103699, 0.717897891998291, 0.7319454550743103, 0.7786040902137756, 0.7367205619812012, 0.7472519874572754, 0.7317012548446655, 0.7570026516914368, 0.7680706977844238, 0.7390585541725159, 0.6923683881759644, 0.7191570997238159, 0.7868650555610657, 0.7663494348526001, 0.7484220266342163, 0.7533349394798279]}, {\"line\": {\"color\": \"green\"}, \"mode\": \"lines\", \"name\": \"Training accuracy\", \"type\": \"scatter\", \"x\": [0, 1, 2, 3, 4, 5, 6, 7, 8, 9, 10, 11, 12, 13, 14, 15, 16, 17, 18, 19, 20, 21, 22, 23, 24, 25, 26, 27, 28, 29, 30, 31, 32, 33, 34, 35, 36, 37, 38, 39, 40, 41, 42, 43, 44, 45, 46, 47, 48, 49, 50, 51, 52, 53, 54, 55, 56, 57, 58, 59, 60, 61, 62, 63, 64, 65, 66, 67, 68, 69, 70, 71, 72, 73, 74, 75, 76, 77, 78, 79, 80, 81, 82, 83, 84, 85, 86, 87, 88, 89, 90, 91, 92, 93, 94, 95, 96, 97, 98, 99], \"y\": [0.6499999761581421, 0.9166666865348816, 0.9166666865348816, 0.9166666865348816, 0.9166666865348816, 0.9166666865348816, 0.9166666865348816, 0.9166666865348816, 0.9166666865348816, 0.9166666865348816, 0.9166666865348816, 0.9166666865348816, 0.9166666865348816, 0.9166666865348816, 0.9166666865348816, 0.9166666865348816, 0.9166666865348816, 0.9166666865348816, 0.9166666865348816, 0.9166666865348816, 0.9166666865348816, 0.9166666865348816, 0.9166666865348816, 0.9166666865348816, 0.9166666865348816, 0.9166666865348816, 0.9166666865348816, 0.9166666865348816, 0.9166666865348816, 0.9166666865348816, 0.9166666865348816, 0.9166666865348816, 0.9166666865348816, 0.9166666865348816, 0.9166666865348816, 0.9166666865348816, 0.9166666865348816, 0.9166666865348816, 0.9166666865348816, 0.9166666865348816, 0.9166666865348816, 0.9166666865348816, 0.9166666865348816, 0.9166666865348816, 0.9166666865348816, 0.9166666865348816, 0.9166666865348816, 0.9166666865348816, 0.9166666865348816, 0.9166666865348816, 0.9166666865348816, 0.9166666865348816, 0.9166666865348816, 0.9166666865348816, 0.9166666865348816, 0.9166666865348816, 0.9166666865348816, 0.9166666865348816, 0.9166666865348816, 0.9166666865348816, 0.9166666865348816, 0.9166666865348816, 0.9166666865348816, 0.9166666865348816, 0.9166666865348816, 0.9166666865348816, 0.9166666865348816, 0.9166666865348816, 0.9166666865348816, 0.9166666865348816, 0.9166666865348816, 0.9166666865348816, 0.9166666865348816, 0.9166666865348816, 0.9166666865348816, 0.9166666865348816, 0.9166666865348816, 0.9166666865348816, 0.9166666865348816, 0.9166666865348816, 0.9166666865348816, 0.9166666865348816, 0.9166666865348816, 0.9166666865348816, 0.9166666865348816, 0.9166666865348816, 0.9166666865348816, 0.9166666865348816, 0.9166666865348816, 0.9166666865348816, 0.9166666865348816, 0.9166666865348816, 0.9166666865348816, 0.9166666865348816, 0.9166666865348816, 0.9166666865348816, 0.9166666865348816, 0.9166666865348816, 0.9166666865348816, 0.9166666865348816]}, {\"line\": {\"color\": \"olive\"}, \"mode\": \"lines\", \"name\": \"Validation accuracy\", \"type\": \"scatter\", \"x\": [0, 1, 2, 3, 4, 5, 6, 7, 8, 9, 10, 11, 12, 13, 14, 15, 16, 17, 18, 19, 20, 21, 22, 23, 24, 25, 26, 27, 28, 29, 30, 31, 32, 33, 34, 35, 36, 37, 38, 39, 40, 41, 42, 43, 44, 45, 46, 47, 48, 49, 50, 51, 52, 53, 54, 55, 56, 57, 58, 59, 60, 61, 62, 63, 64, 65, 66, 67, 68, 69, 70, 71, 72, 73, 74, 75, 76, 77, 78, 79, 80, 81, 82, 83, 84, 85, 86, 87, 88, 89, 90, 91, 92, 93, 94, 95, 96, 97, 98, 99], \"y\": [0.7096773982048035, 0.7096773982048035, 0.7096773982048035, 0.7096773982048035, 0.7096773982048035, 0.7096773982048035, 0.7096773982048035, 0.7096773982048035, 0.7096773982048035, 0.7096773982048035, 0.7096773982048035, 0.7096773982048035, 0.7096773982048035, 0.7096773982048035, 0.7096773982048035, 0.7096773982048035, 0.7096773982048035, 0.7096773982048035, 0.7096773982048035, 0.7096773982048035, 0.7096773982048035, 0.7096773982048035, 0.7096773982048035, 0.7096773982048035, 0.7096773982048035, 0.7096773982048035, 0.7096773982048035, 0.7096773982048035, 0.7096773982048035, 0.7096773982048035, 0.7096773982048035, 0.7096773982048035, 0.7096773982048035, 0.7096773982048035, 0.7096773982048035, 0.7096773982048035, 0.7096773982048035, 0.7096773982048035, 0.7096773982048035, 0.7096773982048035, 0.7096773982048035, 0.7096773982048035, 0.7096773982048035, 0.7096773982048035, 0.7096773982048035, 0.7096773982048035, 0.7096773982048035, 0.7096773982048035, 0.7096773982048035, 0.7096773982048035, 0.7096773982048035, 0.7096773982048035, 0.7096773982048035, 0.7096773982048035, 0.7096773982048035, 0.7096773982048035, 0.7096773982048035, 0.7096773982048035, 0.7096773982048035, 0.7096773982048035, 0.7096773982048035, 0.7096773982048035, 0.7096773982048035, 0.7096773982048035, 0.7096773982048035, 0.7096773982048035, 0.7096773982048035, 0.7096773982048035, 0.7096773982048035, 0.7096773982048035, 0.7096773982048035, 0.7096773982048035, 0.7096773982048035, 0.7096773982048035, 0.7096773982048035, 0.7096773982048035, 0.7096773982048035, 0.7096773982048035, 0.7096773982048035, 0.7096773982048035, 0.7096773982048035, 0.7096773982048035, 0.7096773982048035, 0.7096773982048035, 0.7096773982048035, 0.7096773982048035, 0.7096773982048035, 0.7096773982048035, 0.7096773982048035, 0.7096773982048035, 0.7096773982048035, 0.7096773982048035, 0.7096773982048035, 0.7096773982048035, 0.7096773982048035, 0.7096773982048035, 0.7096773982048035, 0.7096773982048035, 0.7096773982048035, 0.7096773982048035]}],                        {\"paper_bgcolor\": \"white\", \"plot_bgcolor\": \"aliceblue\", \"template\": {\"data\": {\"bar\": [{\"error_x\": {\"color\": \"#2a3f5f\"}, \"error_y\": {\"color\": \"#2a3f5f\"}, \"marker\": {\"line\": {\"color\": \"white\", \"width\": 0.5}}, \"type\": \"bar\"}], \"barpolar\": [{\"marker\": {\"line\": {\"color\": \"white\", \"width\": 0.5}}, \"type\": \"barpolar\"}], \"carpet\": [{\"aaxis\": {\"endlinecolor\": \"#2a3f5f\", \"gridcolor\": \"#C8D4E3\", \"linecolor\": \"#C8D4E3\", \"minorgridcolor\": \"#C8D4E3\", \"startlinecolor\": \"#2a3f5f\"}, \"baxis\": {\"endlinecolor\": \"#2a3f5f\", \"gridcolor\": \"#C8D4E3\", \"linecolor\": \"#C8D4E3\", \"minorgridcolor\": \"#C8D4E3\", \"startlinecolor\": \"#2a3f5f\"}, \"type\": \"carpet\"}], \"choropleth\": [{\"colorbar\": {\"outlinewidth\": 0, \"ticks\": \"\"}, \"type\": \"choropleth\"}], \"contour\": [{\"colorbar\": {\"outlinewidth\": 0, \"ticks\": \"\"}, \"colorscale\": [[0.0, \"#0d0887\"], [0.1111111111111111, \"#46039f\"], [0.2222222222222222, \"#7201a8\"], [0.3333333333333333, \"#9c179e\"], [0.4444444444444444, \"#bd3786\"], [0.5555555555555556, \"#d8576b\"], [0.6666666666666666, \"#ed7953\"], [0.7777777777777778, \"#fb9f3a\"], [0.8888888888888888, \"#fdca26\"], [1.0, \"#f0f921\"]], \"type\": \"contour\"}], \"contourcarpet\": [{\"colorbar\": {\"outlinewidth\": 0, \"ticks\": \"\"}, \"type\": \"contourcarpet\"}], \"heatmap\": [{\"colorbar\": {\"outlinewidth\": 0, \"ticks\": \"\"}, \"colorscale\": [[0.0, \"#0d0887\"], [0.1111111111111111, \"#46039f\"], [0.2222222222222222, \"#7201a8\"], [0.3333333333333333, \"#9c179e\"], [0.4444444444444444, \"#bd3786\"], [0.5555555555555556, \"#d8576b\"], [0.6666666666666666, \"#ed7953\"], [0.7777777777777778, \"#fb9f3a\"], [0.8888888888888888, \"#fdca26\"], [1.0, \"#f0f921\"]], \"type\": \"heatmap\"}], \"heatmapgl\": [{\"colorbar\": {\"outlinewidth\": 0, \"ticks\": \"\"}, \"colorscale\": [[0.0, \"#0d0887\"], [0.1111111111111111, \"#46039f\"], [0.2222222222222222, \"#7201a8\"], [0.3333333333333333, \"#9c179e\"], [0.4444444444444444, \"#bd3786\"], [0.5555555555555556, \"#d8576b\"], [0.6666666666666666, \"#ed7953\"], [0.7777777777777778, \"#fb9f3a\"], [0.8888888888888888, \"#fdca26\"], [1.0, \"#f0f921\"]], \"type\": \"heatmapgl\"}], \"histogram\": [{\"marker\": {\"colorbar\": {\"outlinewidth\": 0, \"ticks\": \"\"}}, \"type\": \"histogram\"}], \"histogram2d\": [{\"colorbar\": {\"outlinewidth\": 0, \"ticks\": \"\"}, \"colorscale\": [[0.0, \"#0d0887\"], [0.1111111111111111, \"#46039f\"], [0.2222222222222222, \"#7201a8\"], [0.3333333333333333, \"#9c179e\"], [0.4444444444444444, \"#bd3786\"], [0.5555555555555556, \"#d8576b\"], [0.6666666666666666, \"#ed7953\"], [0.7777777777777778, \"#fb9f3a\"], [0.8888888888888888, \"#fdca26\"], [1.0, \"#f0f921\"]], \"type\": \"histogram2d\"}], \"histogram2dcontour\": [{\"colorbar\": {\"outlinewidth\": 0, \"ticks\": \"\"}, \"colorscale\": [[0.0, \"#0d0887\"], [0.1111111111111111, \"#46039f\"], [0.2222222222222222, \"#7201a8\"], [0.3333333333333333, \"#9c179e\"], [0.4444444444444444, \"#bd3786\"], [0.5555555555555556, \"#d8576b\"], [0.6666666666666666, \"#ed7953\"], [0.7777777777777778, \"#fb9f3a\"], [0.8888888888888888, \"#fdca26\"], [1.0, \"#f0f921\"]], \"type\": \"histogram2dcontour\"}], \"mesh3d\": [{\"colorbar\": {\"outlinewidth\": 0, \"ticks\": \"\"}, \"type\": \"mesh3d\"}], \"parcoords\": [{\"line\": {\"colorbar\": {\"outlinewidth\": 0, \"ticks\": \"\"}}, \"type\": \"parcoords\"}], \"pie\": [{\"automargin\": true, \"type\": \"pie\"}], \"scatter\": [{\"marker\": {\"colorbar\": {\"outlinewidth\": 0, \"ticks\": \"\"}}, \"type\": \"scatter\"}], \"scatter3d\": [{\"line\": {\"colorbar\": {\"outlinewidth\": 0, \"ticks\": \"\"}}, \"marker\": {\"colorbar\": {\"outlinewidth\": 0, \"ticks\": \"\"}}, \"type\": \"scatter3d\"}], \"scattercarpet\": [{\"marker\": {\"colorbar\": {\"outlinewidth\": 0, \"ticks\": \"\"}}, \"type\": \"scattercarpet\"}], \"scattergeo\": [{\"marker\": {\"colorbar\": {\"outlinewidth\": 0, \"ticks\": \"\"}}, \"type\": \"scattergeo\"}], \"scattergl\": [{\"marker\": {\"colorbar\": {\"outlinewidth\": 0, \"ticks\": \"\"}}, \"type\": \"scattergl\"}], \"scattermapbox\": [{\"marker\": {\"colorbar\": {\"outlinewidth\": 0, \"ticks\": \"\"}}, \"type\": \"scattermapbox\"}], \"scatterpolar\": [{\"marker\": {\"colorbar\": {\"outlinewidth\": 0, \"ticks\": \"\"}}, \"type\": \"scatterpolar\"}], \"scatterpolargl\": [{\"marker\": {\"colorbar\": {\"outlinewidth\": 0, \"ticks\": \"\"}}, \"type\": \"scatterpolargl\"}], \"scatterternary\": [{\"marker\": {\"colorbar\": {\"outlinewidth\": 0, \"ticks\": \"\"}}, \"type\": \"scatterternary\"}], \"surface\": [{\"colorbar\": {\"outlinewidth\": 0, \"ticks\": \"\"}, \"colorscale\": [[0.0, \"#0d0887\"], [0.1111111111111111, \"#46039f\"], [0.2222222222222222, \"#7201a8\"], [0.3333333333333333, \"#9c179e\"], [0.4444444444444444, \"#bd3786\"], [0.5555555555555556, \"#d8576b\"], [0.6666666666666666, \"#ed7953\"], [0.7777777777777778, \"#fb9f3a\"], [0.8888888888888888, \"#fdca26\"], [1.0, \"#f0f921\"]], \"type\": \"surface\"}], \"table\": [{\"cells\": {\"fill\": {\"color\": \"#EBF0F8\"}, \"line\": {\"color\": \"white\"}}, \"header\": {\"fill\": {\"color\": \"#C8D4E3\"}, \"line\": {\"color\": \"white\"}}, \"type\": \"table\"}]}, \"layout\": {\"annotationdefaults\": {\"arrowcolor\": \"#2a3f5f\", \"arrowhead\": 0, \"arrowwidth\": 1}, \"autotypenumbers\": \"strict\", \"coloraxis\": {\"colorbar\": {\"outlinewidth\": 0, \"ticks\": \"\"}}, \"colorscale\": {\"diverging\": [[0, \"#8e0152\"], [0.1, \"#c51b7d\"], [0.2, \"#de77ae\"], [0.3, \"#f1b6da\"], [0.4, \"#fde0ef\"], [0.5, \"#f7f7f7\"], [0.6, \"#e6f5d0\"], [0.7, \"#b8e186\"], [0.8, \"#7fbc41\"], [0.9, \"#4d9221\"], [1, \"#276419\"]], \"sequential\": [[0.0, \"#0d0887\"], [0.1111111111111111, \"#46039f\"], [0.2222222222222222, \"#7201a8\"], [0.3333333333333333, \"#9c179e\"], [0.4444444444444444, \"#bd3786\"], [0.5555555555555556, \"#d8576b\"], [0.6666666666666666, \"#ed7953\"], [0.7777777777777778, \"#fb9f3a\"], [0.8888888888888888, \"#fdca26\"], [1.0, \"#f0f921\"]], \"sequentialminus\": [[0.0, \"#0d0887\"], [0.1111111111111111, \"#46039f\"], [0.2222222222222222, \"#7201a8\"], [0.3333333333333333, \"#9c179e\"], [0.4444444444444444, \"#bd3786\"], [0.5555555555555556, \"#d8576b\"], [0.6666666666666666, \"#ed7953\"], [0.7777777777777778, \"#fb9f3a\"], [0.8888888888888888, \"#fdca26\"], [1.0, \"#f0f921\"]]}, \"colorway\": [\"#636efa\", \"#EF553B\", \"#00cc96\", \"#ab63fa\", \"#FFA15A\", \"#19d3f3\", \"#FF6692\", \"#B6E880\", \"#FF97FF\", \"#FECB52\"], \"font\": {\"color\": \"#2a3f5f\"}, \"geo\": {\"bgcolor\": \"white\", \"lakecolor\": \"white\", \"landcolor\": \"white\", \"showlakes\": true, \"showland\": true, \"subunitcolor\": \"#C8D4E3\"}, \"hoverlabel\": {\"align\": \"left\"}, \"hovermode\": \"closest\", \"mapbox\": {\"style\": \"light\"}, \"paper_bgcolor\": \"white\", \"plot_bgcolor\": \"white\", \"polar\": {\"angularaxis\": {\"gridcolor\": \"#EBF0F8\", \"linecolor\": \"#EBF0F8\", \"ticks\": \"\"}, \"bgcolor\": \"white\", \"radialaxis\": {\"gridcolor\": \"#EBF0F8\", \"linecolor\": \"#EBF0F8\", \"ticks\": \"\"}}, \"scene\": {\"xaxis\": {\"backgroundcolor\": \"white\", \"gridcolor\": \"#DFE8F3\", \"gridwidth\": 2, \"linecolor\": \"#EBF0F8\", \"showbackground\": true, \"ticks\": \"\", \"zerolinecolor\": \"#EBF0F8\"}, \"yaxis\": {\"backgroundcolor\": \"white\", \"gridcolor\": \"#DFE8F3\", \"gridwidth\": 2, \"linecolor\": \"#EBF0F8\", \"showbackground\": true, \"ticks\": \"\", \"zerolinecolor\": \"#EBF0F8\"}, \"zaxis\": {\"backgroundcolor\": \"white\", \"gridcolor\": \"#DFE8F3\", \"gridwidth\": 2, \"linecolor\": \"#EBF0F8\", \"showbackground\": true, \"ticks\": \"\", \"zerolinecolor\": \"#EBF0F8\"}}, \"shapedefaults\": {\"line\": {\"color\": \"#2a3f5f\"}}, \"ternary\": {\"aaxis\": {\"gridcolor\": \"#DFE8F3\", \"linecolor\": \"#A2B1C6\", \"ticks\": \"\"}, \"baxis\": {\"gridcolor\": \"#DFE8F3\", \"linecolor\": \"#A2B1C6\", \"ticks\": \"\"}, \"bgcolor\": \"white\", \"caxis\": {\"gridcolor\": \"#DFE8F3\", \"linecolor\": \"#A2B1C6\", \"ticks\": \"\"}}, \"title\": {\"x\": 0.05}, \"xaxis\": {\"automargin\": true, \"gridcolor\": \"#EBF0F8\", \"linecolor\": \"#EBF0F8\", \"ticks\": \"\", \"title\": {\"standoff\": 15}, \"zerolinecolor\": \"#EBF0F8\", \"zerolinewidth\": 2}, \"yaxis\": {\"automargin\": true, \"gridcolor\": \"#EBF0F8\", \"linecolor\": \"#EBF0F8\", \"ticks\": \"\", \"title\": {\"standoff\": 15}, \"zerolinecolor\": \"#EBF0F8\", \"zerolinewidth\": 2}}}, \"title\": {\"text\": \"Accuracy and Loss\"}, \"xaxis\": {\"title\": {\"text\": \"Number of epochs\"}}},                        {\"responsive\": true}                    ).then(function(){\n",
              "                            \n",
              "var gd = document.getElementById('41d2e987-9b71-4f1a-abb9-a9adb3c33fdf');\n",
              "var x = new MutationObserver(function (mutations, observer) {{\n",
              "        var display = window.getComputedStyle(gd).display;\n",
              "        if (!display || display === 'none') {{\n",
              "            console.log([gd, 'removed!']);\n",
              "            Plotly.purge(gd);\n",
              "            observer.disconnect();\n",
              "        }}\n",
              "}});\n",
              "\n",
              "// Listen for the removal of the full notebook cells\n",
              "var notebookContainer = gd.closest('#notebook-container');\n",
              "if (notebookContainer) {{\n",
              "    x.observe(notebookContainer, {childList: true});\n",
              "}}\n",
              "\n",
              "// Listen for the clearing of the current output cell\n",
              "var outputEl = gd.closest('.output');\n",
              "if (outputEl) {{\n",
              "    x.observe(outputEl, {childList: true});\n",
              "}}\n",
              "\n",
              "                        })                };                            </script>        </div>\n",
              "</body>\n",
              "</html>"
            ]
          },
          "metadata": {
            "tags": []
          }
        }
      ]
    },
    {
      "cell_type": "code",
      "metadata": {
        "id": "FTVUBOa1ZIJR",
        "colab": {
          "base_uri": "https://localhost:8080/"
        },
        "outputId": "0a9f4a39-3116-4db3-e30f-9f633780fe8f"
      },
      "source": [
        "# Define the Keras TensorBoard callback.\n",
        "logdir=\"logs/fit/\" + datetime.now().strftime(\"%Y%m%d-%H%M%S\")\n",
        "tensorboard_callback = keras.callbacks.TensorBoard(log_dir=logdir)\n",
        "\n",
        "#model fit\n",
        "model_loss, model_accuracy = model.evaluate(\n",
        "    X_test, \n",
        "    y_test, \n",
        "    verbose=2,\n",
        "    callbacks=[tensorboard_callback])\n",
        "print(f\"Validation Loss= {model_loss: .2f}, ; Validation Accuracy: {model_accuracy*100:.2f}%, for binary classification\")"
      ],
      "execution_count": 33,
      "outputs": [
        {
          "output_type": "stream",
          "text": [
            "1/1 - 0s - loss: 0.7533 - accuracy: 0.7097\n",
            "Validation Loss=  0.75, ; Validation Accuracy: 70.97%, for binary classification\n"
          ],
          "name": "stdout"
        }
      ]
    },
    {
      "cell_type": "markdown",
      "metadata": {
        "id": "PfYIV4l4zawz"
      },
      "source": [
        "## Confussion Matrix"
      ]
    },
    {
      "cell_type": "code",
      "metadata": {
        "id": "-1iFAQUIzF6U"
      },
      "source": [
        "y_pred=model.predict(X_test)\n",
        "y_pred =(y_pred > 0.5)"
      ],
      "execution_count": 15,
      "outputs": []
    },
    {
      "cell_type": "code",
      "metadata": {
        "id": "_M4fTV3oy9-Z",
        "colab": {
          "base_uri": "https://localhost:8080/"
        },
        "outputId": "8282ad0f-d9a4-43ff-e86f-ea20f5f65582"
      },
      "source": [
        "from sklearn.metrics import confusion_matrix\n",
        "cm = confusion_matrix(y_test, y_pred)\n",
        "print(cm)"
      ],
      "execution_count": 16,
      "outputs": [
        {
          "output_type": "stream",
          "text": [
            "[[22  0]\n",
            " [ 9  0]]\n"
          ],
          "name": "stdout"
        }
      ]
    },
    {
      "cell_type": "markdown",
      "metadata": {
        "id": "hKh349xgzwL8"
      },
      "source": [
        "## Tensorboard"
      ]
    },
    {
      "cell_type": "code",
      "metadata": {
        "id": "yjJZ3RH7Rjm6"
      },
      "source": [
        "#%load_ext tensorboard\n",
        "#%tensorboard --logdir logs"
      ],
      "execution_count": 17,
      "outputs": []
    },
    {
      "cell_type": "markdown",
      "metadata": {
        "id": "gbYI0Cbyq1Dt"
      },
      "source": [
        "## Visualizing weights"
      ]
    },
    {
      "cell_type": "code",
      "metadata": {
        "id": "M4kp-V1fnsGw",
        "colab": {
          "base_uri": "https://localhost:8080/"
        },
        "outputId": "6b80987d-3142-4f16-8734-b1418e093d8d"
      },
      "source": [
        "layers = model.layers\n",
        "model.get_layer('dense').output[0:]"
      ],
      "execution_count": 18,
      "outputs": [
        {
          "output_type": "execute_result",
          "data": {
            "text/plain": [
              "<KerasTensor: shape=(None, 50) dtype=float32 (created by layer 'tf.__operators__.getitem')>"
            ]
          },
          "metadata": {
            "tags": []
          },
          "execution_count": 18
        }
      ]
    },
    {
      "cell_type": "code",
      "metadata": {
        "id": "l4xGZh7qMOTm",
        "colab": {
          "base_uri": "https://localhost:8080/"
        },
        "outputId": "4a67b979-f502-4e62-ba54-ddac0236a72e"
      },
      "source": [
        "from keras.models import Model\n",
        "data = clean.drop(columns=['pIC50'])\n",
        "\n",
        "layer_name_0 = 'dense'\n",
        "layer_name_1 = 'dense_1'\n",
        "layer_name_2 = 'dense_2'\n",
        "layer_name_3 = 'dense_3'\n",
        "\n",
        "intermediate_layer_model_0 = Model(inputs=model.input,\n",
        "                                 outputs=model.get_layer(layer_name_0).output)\n",
        "intermediate_layer_model_1 = Model(inputs=model.input,\n",
        "                                 outputs=model.get_layer(layer_name_1).output)\n",
        "intermediate_layer_model_2 = Model(inputs=model.input,\n",
        "                                 outputs=model.get_layer(layer_name_2).output)\n",
        "intermediate_layer_model_3 = Model(inputs=model.input,\n",
        "                                 outputs=model.get_layer(layer_name_3).output)\n",
        "\n",
        "intermediate_output_0 = intermediate_layer_model_0.predict(data)\n",
        "intermediate_output_1 = intermediate_layer_model_1.predict(data)\n",
        "intermediate_output_2 = intermediate_layer_model_2.predict(data)\n",
        "intermediate_output_3 = intermediate_layer_model_3.predict(data)"
      ],
      "execution_count": 19,
      "outputs": [
        {
          "output_type": "stream",
          "text": [
            "WARNING:tensorflow:5 out of the last 11 calls to <function Model.make_predict_function.<locals>.predict_function at 0x7efeb6fe90e0> triggered tf.function retracing. Tracing is expensive and the excessive number of tracings could be due to (1) creating @tf.function repeatedly in a loop, (2) passing tensors with different shapes, (3) passing Python objects instead of tensors. For (1), please define your @tf.function outside of the loop. For (2), @tf.function has experimental_relax_shapes=True option that relaxes argument shapes that can avoid unnecessary retracing. For (3), please refer to https://www.tensorflow.org/guide/function#controlling_retracing and https://www.tensorflow.org/api_docs/python/tf/function for  more details.\n"
          ],
          "name": "stdout"
        }
      ]
    },
    {
      "cell_type": "code",
      "metadata": {
        "id": "kL_pfwh2Qs-J"
      },
      "source": [
        "from gtda.homology import VietorisRipsPersistence\n",
        "\n",
        "\"\"\" Connectivity information\n",
        "0-dimensional homology β0 or H0, measures clusters; \n",
        "1-dimensional homology1 β1 or H1, measures loops; and\n",
        "2- dimensional homology β2 or H2, measures voids (empty spaces) \"\"\"\n",
        "homology_dimensions = [0, 1, 2]\n",
        "homology_dimensions = [0, 1, 2]\n",
        "VR = VietorisRipsPersistence(\n",
        "                        homology_dimensions=homology_dimensions,\n",
        "                        coeff=3,\n",
        "                        n_jobs=-1)\n",
        "\n",
        "diagram_raw =VR.fit_transform(np.array(data)[None, : , :])\n",
        "diagram_0 =VR.fit_transform(np.array(intermediate_output_0)[None, : , :])"
      ],
      "execution_count": 20,
      "outputs": []
    },
    {
      "cell_type": "code",
      "metadata": {
        "id": "kuVBVDpzQ4-n",
        "colab": {
          "base_uri": "https://localhost:8080/",
          "height": 1000
        },
        "outputId": "803bf7b3-e830-4d8e-fc27-766be4715519"
      },
      "source": [
        "#plot persistence diagram raw data\n",
        "VR.fit_transform_plot(np.array(data).reshape(1, *np.array(data).shape))"
      ],
      "execution_count": 21,
      "outputs": [
        {
          "output_type": "display_data",
          "data": {
            "text/html": [
              "<html>\n",
              "<head><meta charset=\"utf-8\" /></head>\n",
              "<body>\n",
              "    <div>            <script src=\"https://cdnjs.cloudflare.com/ajax/libs/mathjax/2.7.5/MathJax.js?config=TeX-AMS-MML_SVG\"></script><script type=\"text/javascript\">if (window.MathJax) {MathJax.Hub.Config({SVG: {font: \"STIX-Web\"}});}</script>                <script type=\"text/javascript\">window.PlotlyConfig = {MathJaxConfig: 'local'};</script>\n",
              "        <script src=\"https://cdn.plot.ly/plotly-latest.min.js\"></script>                <div id=\"7f8b6f37-307e-420a-9ee8-236596bf852a\" class=\"plotly-graph-div\" style=\"height:500px; width:500px;\"></div>            <script type=\"text/javascript\">                                    window.PLOTLYENV=window.PLOTLYENV || {};                                    if (document.getElementById(\"7f8b6f37-307e-420a-9ee8-236596bf852a\")) {                    Plotly.newPlot(                        \"7f8b6f37-307e-420a-9ee8-236596bf852a\",                        [{\"hoverinfo\": \"none\", \"line\": {\"color\": \"black\", \"dash\": \"dash\", \"width\": 1}, \"mode\": \"lines\", \"showlegend\": false, \"type\": \"scatter\", \"x\": [-2.7583172607421877, 140.67418029785156], \"y\": [-2.7583172607421877, 140.67418029785156]}, {\"hoverinfo\": \"text\", \"hovertext\": [\"(0.0, 3.2976505756378174)\", \"(0.0, 4.845657825469971)\", \"(0.0, 5.517503261566162)\", \"(0.0, 6.004323482513428)\", \"(0.0, 6.301074504852295)\", \"(0.0, 6.514225959777832)\", \"(0.0, 6.540633201599121)\", \"(0.0, 7.7948174476623535)\", \"(0.0, 8.374797821044922)\", \"(0.0, 8.574625015258789)\", \"(0.0, 12.504822731018066)\", \"(0.0, 14.978039741516113)\", \"(0.0, 17.786897659301758)\", \"(0.0, 18.743732452392578)\", \"(0.0, 21.450979232788086)\", \"(0.0, 23.69904899597168)\", \"(0.0, 25.686954498291016)\", \"(0.0, 25.944984436035156)\", \"(0.0, 27.558338165283203)\", \"(0.0, 28.88836669921875)\", \"(0.0, 30.5909423828125)\", \"(0.0, 30.857913970947266)\", \"(0.0, 31.2603759765625)\", \"(0.0, 31.32986068725586)\", \"(0.0, 31.474750518798828)\", \"(0.0, 31.834497451782227)\", \"(0.0, 32.082176208496094)\", \"(0.0, 32.16295623779297)\", \"(0.0, 32.83965301513672)\", \"(0.0, 32.908451080322266)\", \"(0.0, 33.09174728393555)\", \"(0.0, 33.38726806640625)\", \"(0.0, 33.578330993652344)\", \"(0.0, 33.814151763916016)\", \"(0.0, 34.952674865722656)\", \"(0.0, 35.1606330871582)\", \"(0.0, 36.59839630126953)\", \"(0.0, 36.72821807861328)\", \"(0.0, 36.93353271484375)\", \"(0.0, 37.3729248046875)\", \"(0.0, 37.693782806396484)\", \"(0.0, 37.769752502441406)\", \"(0.0, 37.8925666809082)\", \"(0.0, 38.67920684814453)\", \"(0.0, 39.049774169921875)\", \"(0.0, 39.70161437988281)\", \"(0.0, 41.10408020019531)\", \"(0.0, 41.49137496948242)\", \"(0.0, 41.72199630737305)\", \"(0.0, 43.258724212646484)\", \"(0.0, 45.620094299316406)\", \"(0.0, 46.91685485839844)\", \"(0.0, 47.88861083984375)\", \"(0.0, 47.91581344604492)\", \"(0.0, 48.10103225708008)\", \"(0.0, 48.50918197631836)\", \"(0.0, 48.72892761230469)\", \"(0.0, 48.84406661987305)\", \"(0.0, 48.97361373901367)\", \"(0.0, 49.138511657714844)\", \"(0.0, 49.15210723876953)\", \"(0.0, 49.951534271240234)\", \"(0.0, 50.43505859375)\", \"(0.0, 50.8270149230957)\", \"(0.0, 51.328392028808594)\", \"(0.0, 52.680152893066406)\", \"(0.0, 56.94741439819336)\", \"(0.0, 57.313297271728516)\", \"(0.0, 57.54442596435547)\", \"(0.0, 58.44100570678711)\", \"(0.0, 60.6846923828125)\", \"(0.0, 62.342247009277344)\", \"(0.0, 63.035545349121094)\", \"(0.0, 63.66184997558594)\", \"(0.0, 63.96916198730469)\", \"(0.0, 66.9416275024414)\", \"(0.0, 71.96454620361328)\", \"(0.0, 73.71060180664062)\", \"(0.0, 76.54141998291016)\", \"(0.0, 77.2610092163086)\", \"(0.0, 77.48477172851562)\", \"(0.0, 78.59754180908203)\", \"(0.0, 81.57424926757812)\", \"(0.0, 82.7119369506836)\", \"(0.0, 84.96222686767578)\", \"(0.0, 85.74298095703125)\", \"(0.0, 91.11669158935547)\", \"(0.0, 113.83740997314453)\", \"(0.0, 124.66868591308594)\", \"(0.0, 130.66845703125)\"], \"mode\": \"markers\", \"name\": \"H0\", \"type\": \"scatter\", \"x\": [0.0, 0.0, 0.0, 0.0, 0.0, 0.0, 0.0, 0.0, 0.0, 0.0, 0.0, 0.0, 0.0, 0.0, 0.0, 0.0, 0.0, 0.0, 0.0, 0.0, 0.0, 0.0, 0.0, 0.0, 0.0, 0.0, 0.0, 0.0, 0.0, 0.0, 0.0, 0.0, 0.0, 0.0, 0.0, 0.0, 0.0, 0.0, 0.0, 0.0, 0.0, 0.0, 0.0, 0.0, 0.0, 0.0, 0.0, 0.0, 0.0, 0.0, 0.0, 0.0, 0.0, 0.0, 0.0, 0.0, 0.0, 0.0, 0.0, 0.0, 0.0, 0.0, 0.0, 0.0, 0.0, 0.0, 0.0, 0.0, 0.0, 0.0, 0.0, 0.0, 0.0, 0.0, 0.0, 0.0, 0.0, 0.0, 0.0, 0.0, 0.0, 0.0, 0.0, 0.0, 0.0, 0.0, 0.0, 0.0, 0.0, 0.0], \"y\": [3.2976505756378174, 4.845657825469971, 5.517503261566162, 6.004323482513428, 6.301074504852295, 6.514225959777832, 6.540633201599121, 7.7948174476623535, 8.374797821044922, 8.574625015258789, 12.504822731018066, 14.978039741516113, 17.786897659301758, 18.743732452392578, 21.450979232788086, 23.69904899597168, 25.686954498291016, 25.944984436035156, 27.558338165283203, 28.88836669921875, 30.5909423828125, 30.857913970947266, 31.2603759765625, 31.32986068725586, 31.474750518798828, 31.834497451782227, 32.082176208496094, 32.16295623779297, 32.83965301513672, 32.908451080322266, 33.09174728393555, 33.38726806640625, 33.578330993652344, 33.814151763916016, 34.952674865722656, 35.1606330871582, 36.59839630126953, 36.72821807861328, 36.93353271484375, 37.3729248046875, 37.693782806396484, 37.769752502441406, 37.8925666809082, 38.67920684814453, 39.049774169921875, 39.70161437988281, 41.10408020019531, 41.49137496948242, 41.72199630737305, 43.258724212646484, 45.620094299316406, 46.91685485839844, 47.88861083984375, 47.91581344604492, 48.10103225708008, 48.50918197631836, 48.72892761230469, 48.84406661987305, 48.97361373901367, 49.138511657714844, 49.15210723876953, 49.951534271240234, 50.43505859375, 50.8270149230957, 51.328392028808594, 52.680152893066406, 56.94741439819336, 57.313297271728516, 57.54442596435547, 58.44100570678711, 60.6846923828125, 62.342247009277344, 63.035545349121094, 63.66184997558594, 63.96916198730469, 66.9416275024414, 71.96454620361328, 73.71060180664062, 76.54141998291016, 77.2610092163086, 77.48477172851562, 78.59754180908203, 81.57424926757812, 82.7119369506836, 84.96222686767578, 85.74298095703125, 91.11669158935547, 113.83740997314453, 124.66868591308594, 130.66845703125]}, {\"hoverinfo\": \"text\", \"hovertext\": [\"(114.46065521240234, 137.91586303710938)\", \"(112.52909088134766, 119.78715515136719)\", \"(99.95144653320312, 108.37367248535156)\", \"(97.18032836914062, 98.66161346435547)\", \"(90.58409881591797, 91.52256774902344)\", \"(89.87886047363281, 117.7918472290039)\", \"(85.82341003417969, 86.17285919189453)\", \"(84.4917984008789, 88.6705093383789)\", \"(81.88105773925781, 112.45245361328125)\", \"(80.26261901855469, 82.72512817382812)\", \"(67.21074676513672, 67.21302032470703)\", \"(66.10494232177734, 68.8262939453125)\", \"(58.32300567626953, 69.80075073242188)\", \"(56.70674133300781, 92.23988342285156)\", \"(53.82188415527344, 63.82928466796875)\", \"(49.9574089050293, 62.84370422363281)\", \"(38.552642822265625, 42.32723617553711)\"], \"mode\": \"markers\", \"name\": \"H1\", \"type\": \"scatter\", \"x\": [114.46065521240234, 112.52909088134766, 99.95144653320312, 97.18032836914062, 90.58409881591797, 89.87886047363281, 85.82341003417969, 84.4917984008789, 81.88105773925781, 80.26261901855469, 67.21074676513672, 66.10494232177734, 58.32300567626953, 56.70674133300781, 53.82188415527344, 49.9574089050293, 38.552642822265625], \"y\": [137.91586303710938, 119.78715515136719, 108.37367248535156, 98.66161346435547, 91.52256774902344, 117.7918472290039, 86.17285919189453, 88.6705093383789, 112.45245361328125, 82.72512817382812, 67.21302032470703, 68.8262939453125, 69.80075073242188, 92.23988342285156, 63.82928466796875, 62.84370422363281, 42.32723617553711]}, {\"hoverinfo\": \"text\", \"hovertext\": [\"(92.6863021850586, 92.6992416381836)\"], \"mode\": \"markers\", \"name\": \"H2\", \"type\": \"scatter\", \"x\": [92.6863021850586], \"y\": [92.6992416381836]}],                        {\"height\": 500, \"plot_bgcolor\": \"white\", \"template\": {\"data\": {\"bar\": [{\"error_x\": {\"color\": \"#2a3f5f\"}, \"error_y\": {\"color\": \"#2a3f5f\"}, \"marker\": {\"line\": {\"color\": \"#E5ECF6\", \"width\": 0.5}}, \"type\": \"bar\"}], \"barpolar\": [{\"marker\": {\"line\": {\"color\": \"#E5ECF6\", \"width\": 0.5}}, \"type\": \"barpolar\"}], \"carpet\": [{\"aaxis\": {\"endlinecolor\": \"#2a3f5f\", \"gridcolor\": \"white\", \"linecolor\": \"white\", \"minorgridcolor\": \"white\", \"startlinecolor\": \"#2a3f5f\"}, \"baxis\": {\"endlinecolor\": \"#2a3f5f\", \"gridcolor\": \"white\", \"linecolor\": \"white\", \"minorgridcolor\": \"white\", \"startlinecolor\": \"#2a3f5f\"}, \"type\": \"carpet\"}], \"choropleth\": [{\"colorbar\": {\"outlinewidth\": 0, \"ticks\": \"\"}, \"type\": \"choropleth\"}], \"contour\": [{\"colorbar\": {\"outlinewidth\": 0, \"ticks\": \"\"}, \"colorscale\": [[0.0, \"#0d0887\"], [0.1111111111111111, \"#46039f\"], [0.2222222222222222, \"#7201a8\"], [0.3333333333333333, \"#9c179e\"], [0.4444444444444444, \"#bd3786\"], [0.5555555555555556, \"#d8576b\"], [0.6666666666666666, \"#ed7953\"], [0.7777777777777778, \"#fb9f3a\"], [0.8888888888888888, \"#fdca26\"], [1.0, \"#f0f921\"]], \"type\": \"contour\"}], \"contourcarpet\": [{\"colorbar\": {\"outlinewidth\": 0, \"ticks\": \"\"}, \"type\": \"contourcarpet\"}], \"heatmap\": [{\"colorbar\": {\"outlinewidth\": 0, \"ticks\": \"\"}, \"colorscale\": [[0.0, \"#0d0887\"], [0.1111111111111111, \"#46039f\"], [0.2222222222222222, \"#7201a8\"], [0.3333333333333333, \"#9c179e\"], [0.4444444444444444, \"#bd3786\"], [0.5555555555555556, \"#d8576b\"], [0.6666666666666666, \"#ed7953\"], [0.7777777777777778, \"#fb9f3a\"], [0.8888888888888888, \"#fdca26\"], [1.0, \"#f0f921\"]], \"type\": \"heatmap\"}], \"heatmapgl\": [{\"colorbar\": {\"outlinewidth\": 0, \"ticks\": \"\"}, \"colorscale\": [[0.0, \"#0d0887\"], [0.1111111111111111, \"#46039f\"], [0.2222222222222222, \"#7201a8\"], [0.3333333333333333, \"#9c179e\"], [0.4444444444444444, \"#bd3786\"], [0.5555555555555556, \"#d8576b\"], [0.6666666666666666, \"#ed7953\"], [0.7777777777777778, \"#fb9f3a\"], [0.8888888888888888, \"#fdca26\"], [1.0, \"#f0f921\"]], \"type\": \"heatmapgl\"}], \"histogram\": [{\"marker\": {\"colorbar\": {\"outlinewidth\": 0, \"ticks\": \"\"}}, \"type\": \"histogram\"}], \"histogram2d\": [{\"colorbar\": {\"outlinewidth\": 0, \"ticks\": \"\"}, \"colorscale\": [[0.0, \"#0d0887\"], [0.1111111111111111, \"#46039f\"], [0.2222222222222222, \"#7201a8\"], [0.3333333333333333, \"#9c179e\"], [0.4444444444444444, \"#bd3786\"], [0.5555555555555556, \"#d8576b\"], [0.6666666666666666, \"#ed7953\"], [0.7777777777777778, \"#fb9f3a\"], [0.8888888888888888, \"#fdca26\"], [1.0, \"#f0f921\"]], \"type\": \"histogram2d\"}], \"histogram2dcontour\": [{\"colorbar\": {\"outlinewidth\": 0, \"ticks\": \"\"}, \"colorscale\": [[0.0, \"#0d0887\"], [0.1111111111111111, \"#46039f\"], [0.2222222222222222, \"#7201a8\"], [0.3333333333333333, \"#9c179e\"], [0.4444444444444444, \"#bd3786\"], [0.5555555555555556, \"#d8576b\"], [0.6666666666666666, \"#ed7953\"], [0.7777777777777778, \"#fb9f3a\"], [0.8888888888888888, \"#fdca26\"], [1.0, \"#f0f921\"]], \"type\": \"histogram2dcontour\"}], \"mesh3d\": [{\"colorbar\": {\"outlinewidth\": 0, \"ticks\": \"\"}, \"type\": \"mesh3d\"}], \"parcoords\": [{\"line\": {\"colorbar\": {\"outlinewidth\": 0, \"ticks\": \"\"}}, \"type\": \"parcoords\"}], \"pie\": [{\"automargin\": true, \"type\": \"pie\"}], \"scatter\": [{\"marker\": {\"colorbar\": {\"outlinewidth\": 0, \"ticks\": \"\"}}, \"type\": \"scatter\"}], \"scatter3d\": [{\"line\": {\"colorbar\": {\"outlinewidth\": 0, \"ticks\": \"\"}}, \"marker\": {\"colorbar\": {\"outlinewidth\": 0, \"ticks\": \"\"}}, \"type\": \"scatter3d\"}], \"scattercarpet\": [{\"marker\": {\"colorbar\": {\"outlinewidth\": 0, \"ticks\": \"\"}}, \"type\": \"scattercarpet\"}], \"scattergeo\": [{\"marker\": {\"colorbar\": {\"outlinewidth\": 0, \"ticks\": \"\"}}, \"type\": \"scattergeo\"}], \"scattergl\": [{\"marker\": {\"colorbar\": {\"outlinewidth\": 0, \"ticks\": \"\"}}, \"type\": \"scattergl\"}], \"scattermapbox\": [{\"marker\": {\"colorbar\": {\"outlinewidth\": 0, \"ticks\": \"\"}}, \"type\": \"scattermapbox\"}], \"scatterpolar\": [{\"marker\": {\"colorbar\": {\"outlinewidth\": 0, \"ticks\": \"\"}}, \"type\": \"scatterpolar\"}], \"scatterpolargl\": [{\"marker\": {\"colorbar\": {\"outlinewidth\": 0, \"ticks\": \"\"}}, \"type\": \"scatterpolargl\"}], \"scatterternary\": [{\"marker\": {\"colorbar\": {\"outlinewidth\": 0, \"ticks\": \"\"}}, \"type\": \"scatterternary\"}], \"surface\": [{\"colorbar\": {\"outlinewidth\": 0, \"ticks\": \"\"}, \"colorscale\": [[0.0, \"#0d0887\"], [0.1111111111111111, \"#46039f\"], [0.2222222222222222, \"#7201a8\"], [0.3333333333333333, \"#9c179e\"], [0.4444444444444444, \"#bd3786\"], [0.5555555555555556, \"#d8576b\"], [0.6666666666666666, \"#ed7953\"], [0.7777777777777778, \"#fb9f3a\"], [0.8888888888888888, \"#fdca26\"], [1.0, \"#f0f921\"]], \"type\": \"surface\"}], \"table\": [{\"cells\": {\"fill\": {\"color\": \"#EBF0F8\"}, \"line\": {\"color\": \"white\"}}, \"header\": {\"fill\": {\"color\": \"#C8D4E3\"}, \"line\": {\"color\": \"white\"}}, \"type\": \"table\"}]}, \"layout\": {\"annotationdefaults\": {\"arrowcolor\": \"#2a3f5f\", \"arrowhead\": 0, \"arrowwidth\": 1}, \"autotypenumbers\": \"strict\", \"coloraxis\": {\"colorbar\": {\"outlinewidth\": 0, \"ticks\": \"\"}}, \"colorscale\": {\"diverging\": [[0, \"#8e0152\"], [0.1, \"#c51b7d\"], [0.2, \"#de77ae\"], [0.3, \"#f1b6da\"], [0.4, \"#fde0ef\"], [0.5, \"#f7f7f7\"], [0.6, \"#e6f5d0\"], [0.7, \"#b8e186\"], [0.8, \"#7fbc41\"], [0.9, \"#4d9221\"], [1, \"#276419\"]], \"sequential\": [[0.0, \"#0d0887\"], [0.1111111111111111, \"#46039f\"], [0.2222222222222222, \"#7201a8\"], [0.3333333333333333, \"#9c179e\"], [0.4444444444444444, \"#bd3786\"], [0.5555555555555556, \"#d8576b\"], [0.6666666666666666, \"#ed7953\"], [0.7777777777777778, \"#fb9f3a\"], [0.8888888888888888, \"#fdca26\"], [1.0, \"#f0f921\"]], \"sequentialminus\": [[0.0, \"#0d0887\"], [0.1111111111111111, \"#46039f\"], [0.2222222222222222, \"#7201a8\"], [0.3333333333333333, \"#9c179e\"], [0.4444444444444444, \"#bd3786\"], [0.5555555555555556, \"#d8576b\"], [0.6666666666666666, \"#ed7953\"], [0.7777777777777778, \"#fb9f3a\"], [0.8888888888888888, \"#fdca26\"], [1.0, \"#f0f921\"]]}, \"colorway\": [\"#636efa\", \"#EF553B\", \"#00cc96\", \"#ab63fa\", \"#FFA15A\", \"#19d3f3\", \"#FF6692\", \"#B6E880\", \"#FF97FF\", \"#FECB52\"], \"font\": {\"color\": \"#2a3f5f\"}, \"geo\": {\"bgcolor\": \"white\", \"lakecolor\": \"white\", \"landcolor\": \"#E5ECF6\", \"showlakes\": true, \"showland\": true, \"subunitcolor\": \"white\"}, \"hoverlabel\": {\"align\": \"left\"}, \"hovermode\": \"closest\", \"mapbox\": {\"style\": \"light\"}, \"paper_bgcolor\": \"white\", \"plot_bgcolor\": \"#E5ECF6\", \"polar\": {\"angularaxis\": {\"gridcolor\": \"white\", \"linecolor\": \"white\", \"ticks\": \"\"}, \"bgcolor\": \"#E5ECF6\", \"radialaxis\": {\"gridcolor\": \"white\", \"linecolor\": \"white\", \"ticks\": \"\"}}, \"scene\": {\"xaxis\": {\"backgroundcolor\": \"#E5ECF6\", \"gridcolor\": \"white\", \"gridwidth\": 2, \"linecolor\": \"white\", \"showbackground\": true, \"ticks\": \"\", \"zerolinecolor\": \"white\"}, \"yaxis\": {\"backgroundcolor\": \"#E5ECF6\", \"gridcolor\": \"white\", \"gridwidth\": 2, \"linecolor\": \"white\", \"showbackground\": true, \"ticks\": \"\", \"zerolinecolor\": \"white\"}, \"zaxis\": {\"backgroundcolor\": \"#E5ECF6\", \"gridcolor\": \"white\", \"gridwidth\": 2, \"linecolor\": \"white\", \"showbackground\": true, \"ticks\": \"\", \"zerolinecolor\": \"white\"}}, \"shapedefaults\": {\"line\": {\"color\": \"#2a3f5f\"}}, \"ternary\": {\"aaxis\": {\"gridcolor\": \"white\", \"linecolor\": \"white\", \"ticks\": \"\"}, \"baxis\": {\"gridcolor\": \"white\", \"linecolor\": \"white\", \"ticks\": \"\"}, \"bgcolor\": \"#E5ECF6\", \"caxis\": {\"gridcolor\": \"white\", \"linecolor\": \"white\", \"ticks\": \"\"}}, \"title\": {\"x\": 0.05}, \"xaxis\": {\"automargin\": true, \"gridcolor\": \"white\", \"linecolor\": \"white\", \"ticks\": \"\", \"title\": {\"standoff\": 15}, \"zerolinecolor\": \"white\", \"zerolinewidth\": 2}, \"yaxis\": {\"automargin\": true, \"gridcolor\": \"white\", \"linecolor\": \"white\", \"ticks\": \"\", \"title\": {\"standoff\": 15}, \"zerolinecolor\": \"white\", \"zerolinewidth\": 2}}}, \"width\": 500, \"xaxis\": {\"autorange\": false, \"exponentformat\": \"e\", \"linecolor\": \"black\", \"linewidth\": 1, \"mirror\": false, \"range\": [-2.7583172607421877, 140.67418029785156], \"showexponent\": \"all\", \"showline\": true, \"side\": \"bottom\", \"ticks\": \"outside\", \"title\": {\"text\": \"Birth\"}, \"type\": \"linear\", \"zeroline\": true}, \"yaxis\": {\"autorange\": false, \"exponentformat\": \"e\", \"linecolor\": \"black\", \"linewidth\": 1, \"mirror\": false, \"range\": [-2.7583172607421877, 140.67418029785156], \"scaleanchor\": \"x\", \"scaleratio\": 1, \"showexponent\": \"all\", \"showline\": true, \"side\": \"left\", \"ticks\": \"outside\", \"title\": {\"text\": \"Death\"}, \"type\": \"linear\", \"zeroline\": true}},                        {\"responsive\": true}                    ).then(function(){\n",
              "                            \n",
              "var gd = document.getElementById('7f8b6f37-307e-420a-9ee8-236596bf852a');\n",
              "var x = new MutationObserver(function (mutations, observer) {{\n",
              "        var display = window.getComputedStyle(gd).display;\n",
              "        if (!display || display === 'none') {{\n",
              "            console.log([gd, 'removed!']);\n",
              "            Plotly.purge(gd);\n",
              "            observer.disconnect();\n",
              "        }}\n",
              "}});\n",
              "\n",
              "// Listen for the removal of the full notebook cells\n",
              "var notebookContainer = gd.closest('#notebook-container');\n",
              "if (notebookContainer) {{\n",
              "    x.observe(notebookContainer, {childList: true});\n",
              "}}\n",
              "\n",
              "// Listen for the clearing of the current output cell\n",
              "var outputEl = gd.closest('.output');\n",
              "if (outputEl) {{\n",
              "    x.observe(outputEl, {childList: true});\n",
              "}}\n",
              "\n",
              "                        })                };                            </script>        </div>\n",
              "</body>\n",
              "</html>"
            ]
          },
          "metadata": {
            "tags": []
          }
        },
        {
          "output_type": "execute_result",
          "data": {
            "text/plain": [
              "array([[[  0.        ,   3.29765058,   0.        ],\n",
              "        [  0.        ,   4.84565783,   0.        ],\n",
              "        [  0.        ,   5.51750326,   0.        ],\n",
              "        [  0.        ,   6.00432348,   0.        ],\n",
              "        [  0.        ,   6.3010745 ,   0.        ],\n",
              "        [  0.        ,   6.51422596,   0.        ],\n",
              "        [  0.        ,   6.5406332 ,   0.        ],\n",
              "        [  0.        ,   7.79481745,   0.        ],\n",
              "        [  0.        ,   8.37479782,   0.        ],\n",
              "        [  0.        ,   8.57462502,   0.        ],\n",
              "        [  0.        ,  12.50482273,   0.        ],\n",
              "        [  0.        ,  14.97803974,   0.        ],\n",
              "        [  0.        ,  17.78689766,   0.        ],\n",
              "        [  0.        ,  18.74373245,   0.        ],\n",
              "        [  0.        ,  21.45097923,   0.        ],\n",
              "        [  0.        ,  23.699049  ,   0.        ],\n",
              "        [  0.        ,  25.6869545 ,   0.        ],\n",
              "        [  0.        ,  25.94498444,   0.        ],\n",
              "        [  0.        ,  27.55833817,   0.        ],\n",
              "        [  0.        ,  28.8883667 ,   0.        ],\n",
              "        [  0.        ,  30.59094238,   0.        ],\n",
              "        [  0.        ,  30.85791397,   0.        ],\n",
              "        [  0.        ,  31.26037598,   0.        ],\n",
              "        [  0.        ,  31.32986069,   0.        ],\n",
              "        [  0.        ,  31.47475052,   0.        ],\n",
              "        [  0.        ,  31.83449745,   0.        ],\n",
              "        [  0.        ,  32.08217621,   0.        ],\n",
              "        [  0.        ,  32.16295624,   0.        ],\n",
              "        [  0.        ,  32.83965302,   0.        ],\n",
              "        [  0.        ,  32.90845108,   0.        ],\n",
              "        [  0.        ,  33.09174728,   0.        ],\n",
              "        [  0.        ,  33.38726807,   0.        ],\n",
              "        [  0.        ,  33.57833099,   0.        ],\n",
              "        [  0.        ,  33.81415176,   0.        ],\n",
              "        [  0.        ,  34.95267487,   0.        ],\n",
              "        [  0.        ,  35.16063309,   0.        ],\n",
              "        [  0.        ,  36.5983963 ,   0.        ],\n",
              "        [  0.        ,  36.72821808,   0.        ],\n",
              "        [  0.        ,  36.93353271,   0.        ],\n",
              "        [  0.        ,  37.3729248 ,   0.        ],\n",
              "        [  0.        ,  37.69378281,   0.        ],\n",
              "        [  0.        ,  37.7697525 ,   0.        ],\n",
              "        [  0.        ,  37.89256668,   0.        ],\n",
              "        [  0.        ,  38.67920685,   0.        ],\n",
              "        [  0.        ,  39.04977417,   0.        ],\n",
              "        [  0.        ,  39.70161438,   0.        ],\n",
              "        [  0.        ,  41.1040802 ,   0.        ],\n",
              "        [  0.        ,  41.49137497,   0.        ],\n",
              "        [  0.        ,  41.72199631,   0.        ],\n",
              "        [  0.        ,  43.25872421,   0.        ],\n",
              "        [  0.        ,  45.6200943 ,   0.        ],\n",
              "        [  0.        ,  46.91685486,   0.        ],\n",
              "        [  0.        ,  47.88861084,   0.        ],\n",
              "        [  0.        ,  47.91581345,   0.        ],\n",
              "        [  0.        ,  48.10103226,   0.        ],\n",
              "        [  0.        ,  48.50918198,   0.        ],\n",
              "        [  0.        ,  48.72892761,   0.        ],\n",
              "        [  0.        ,  48.84406662,   0.        ],\n",
              "        [  0.        ,  48.97361374,   0.        ],\n",
              "        [  0.        ,  49.13851166,   0.        ],\n",
              "        [  0.        ,  49.15210724,   0.        ],\n",
              "        [  0.        ,  49.95153427,   0.        ],\n",
              "        [  0.        ,  50.43505859,   0.        ],\n",
              "        [  0.        ,  50.82701492,   0.        ],\n",
              "        [  0.        ,  51.32839203,   0.        ],\n",
              "        [  0.        ,  52.68015289,   0.        ],\n",
              "        [  0.        ,  56.9474144 ,   0.        ],\n",
              "        [  0.        ,  57.31329727,   0.        ],\n",
              "        [  0.        ,  57.54442596,   0.        ],\n",
              "        [  0.        ,  58.44100571,   0.        ],\n",
              "        [  0.        ,  60.68469238,   0.        ],\n",
              "        [  0.        ,  62.34224701,   0.        ],\n",
              "        [  0.        ,  63.03554535,   0.        ],\n",
              "        [  0.        ,  63.66184998,   0.        ],\n",
              "        [  0.        ,  63.96916199,   0.        ],\n",
              "        [  0.        ,  66.9416275 ,   0.        ],\n",
              "        [  0.        ,  71.9645462 ,   0.        ],\n",
              "        [  0.        ,  73.71060181,   0.        ],\n",
              "        [  0.        ,  76.54141998,   0.        ],\n",
              "        [  0.        ,  77.26100922,   0.        ],\n",
              "        [  0.        ,  77.48477173,   0.        ],\n",
              "        [  0.        ,  78.59754181,   0.        ],\n",
              "        [  0.        ,  81.57424927,   0.        ],\n",
              "        [  0.        ,  82.71193695,   0.        ],\n",
              "        [  0.        ,  84.96222687,   0.        ],\n",
              "        [  0.        ,  85.74298096,   0.        ],\n",
              "        [  0.        ,  91.11669159,   0.        ],\n",
              "        [  0.        , 113.83740997,   0.        ],\n",
              "        [  0.        , 124.66868591,   0.        ],\n",
              "        [  0.        , 130.66845703,   0.        ],\n",
              "        [114.46065521, 137.91586304,   1.        ],\n",
              "        [112.52909088, 119.78715515,   1.        ],\n",
              "        [ 99.95144653, 108.37367249,   1.        ],\n",
              "        [ 97.18032837,  98.66161346,   1.        ],\n",
              "        [ 90.58409882,  91.52256775,   1.        ],\n",
              "        [ 89.87886047, 117.79184723,   1.        ],\n",
              "        [ 85.82341003,  86.17285919,   1.        ],\n",
              "        [ 84.4917984 ,  88.67050934,   1.        ],\n",
              "        [ 81.88105774, 112.45245361,   1.        ],\n",
              "        [ 80.26261902,  82.72512817,   1.        ],\n",
              "        [ 67.21074677,  67.21302032,   1.        ],\n",
              "        [ 66.10494232,  68.82629395,   1.        ],\n",
              "        [ 58.32300568,  69.80075073,   1.        ],\n",
              "        [ 56.70674133,  92.23988342,   1.        ],\n",
              "        [ 53.82188416,  63.82928467,   1.        ],\n",
              "        [ 49.95740891,  62.84370422,   1.        ],\n",
              "        [ 38.55264282,  42.32723618,   1.        ],\n",
              "        [ 92.68630219,  92.69924164,   2.        ]]])"
            ]
          },
          "metadata": {
            "tags": []
          },
          "execution_count": 21
        }
      ]
    },
    {
      "cell_type": "code",
      "metadata": {
        "id": "_BYOtQFDRD5U",
        "colab": {
          "base_uri": "https://localhost:8080/",
          "height": 1000
        },
        "outputId": "bb1b8f24-d6d8-4be5-a88c-f52b6f161fe4"
      },
      "source": [
        "#plot persistence diagram \n",
        "VR.fit_transform_plot(np.array(intermediate_output_1).reshape(1, *np.array(intermediate_output_1).shape))"
      ],
      "execution_count": 22,
      "outputs": [
        {
          "output_type": "display_data",
          "data": {
            "text/html": [
              "<html>\n",
              "<head><meta charset=\"utf-8\" /></head>\n",
              "<body>\n",
              "    <div>            <script src=\"https://cdnjs.cloudflare.com/ajax/libs/mathjax/2.7.5/MathJax.js?config=TeX-AMS-MML_SVG\"></script><script type=\"text/javascript\">if (window.MathJax) {MathJax.Hub.Config({SVG: {font: \"STIX-Web\"}});}</script>                <script type=\"text/javascript\">window.PlotlyConfig = {MathJaxConfig: 'local'};</script>\n",
              "        <script src=\"https://cdn.plot.ly/plotly-latest.min.js\"></script>                <div id=\"4c4c8966-f35f-4466-9d7f-08ec8cbcef3e\" class=\"plotly-graph-div\" style=\"height:500px; width:500px;\"></div>            <script type=\"text/javascript\">                                    window.PLOTLYENV=window.PLOTLYENV || {};                                    if (document.getElementById(\"4c4c8966-f35f-4466-9d7f-08ec8cbcef3e\")) {                    Plotly.newPlot(                        \"4c4c8966-f35f-4466-9d7f-08ec8cbcef3e\",                        [{\"hoverinfo\": \"none\", \"line\": {\"color\": \"black\", \"dash\": \"dash\", \"width\": 1}, \"mode\": \"lines\", \"showlegend\": false, \"type\": \"scatter\", \"x\": [-0.18744476318359377, 9.559682922363281], \"y\": [-0.18744476318359377, 9.559682922363281]}, {\"hoverinfo\": \"text\", \"hovertext\": [\"(0.0, 0.06822317838668823)\", \"(0.0, 0.0836353749036789)\", \"(0.0, 0.08766717463731766)\", \"(0.0, 0.11250205338001251)\", \"(0.0, 0.11520229279994965)\", \"(0.0, 0.11846818774938583)\", \"(0.0, 0.12466089427471161)\", \"(0.0, 0.1295061558485031)\", \"(0.0, 0.1327153742313385)\", \"(0.0, 0.13716281950473785)\", \"(0.0, 0.1822606772184372)\", \"(0.0, 0.19013729691505432)\", \"(0.0, 0.2457488477230072)\", \"(0.0, 0.25341495871543884)\", \"(0.0, 0.2558046281337738)\", \"(0.0, 0.26434823870658875)\", \"(0.0, 0.27189627289772034)\", \"(0.0, 0.2929826080799103)\", \"(0.0, 0.29506561160087585)\", \"(0.0, 0.3158785104751587)\", \"(0.0, 0.3366778790950775)\", \"(0.0, 0.33698827028274536)\", \"(0.0, 0.3576063811779022)\", \"(0.0, 0.35846957564353943)\", \"(0.0, 0.36949899792671204)\", \"(0.0, 0.3733437657356262)\", \"(0.0, 0.41011250019073486)\", \"(0.0, 0.4168891906738281)\", \"(0.0, 0.4260713756084442)\", \"(0.0, 0.431241899728775)\", \"(0.0, 0.4328385293483734)\", \"(0.0, 0.43758097290992737)\", \"(0.0, 0.4376867413520813)\", \"(0.0, 0.4412383735179901)\", \"(0.0, 0.45023515820503235)\", \"(0.0, 0.4581274390220642)\", \"(0.0, 0.46626192331314087)\", \"(0.0, 0.4923776388168335)\", \"(0.0, 0.5067751407623291)\", \"(0.0, 0.5085166692733765)\", \"(0.0, 0.5118870139122009)\", \"(0.0, 0.5178303718566895)\", \"(0.0, 0.5298112034797668)\", \"(0.0, 0.5560257434844971)\", \"(0.0, 0.6169171333312988)\", \"(0.0, 0.6217070817947388)\", \"(0.0, 0.622961699962616)\", \"(0.0, 0.6375329494476318)\", \"(0.0, 0.6473968625068665)\", \"(0.0, 0.6622006893157959)\", \"(0.0, 0.6638583540916443)\", \"(0.0, 0.664481520652771)\", \"(0.0, 0.673404335975647)\", \"(0.0, 0.6760560870170593)\", \"(0.0, 0.7037544250488281)\", \"(0.0, 0.7082273960113525)\", \"(0.0, 0.7164695262908936)\", \"(0.0, 0.7326631546020508)\", \"(0.0, 0.734829306602478)\", \"(0.0, 0.7467088103294373)\", \"(0.0, 0.781249463558197)\", \"(0.0, 0.9007531404495239)\", \"(0.0, 0.9640770554542542)\", \"(0.0, 0.9714587330818176)\", \"(0.0, 0.9784890413284302)\", \"(0.0, 1.0384265184402466)\", \"(0.0, 1.0408741235733032)\", \"(0.0, 1.050255537033081)\", \"(0.0, 1.1399736404418945)\", \"(0.0, 1.1732206344604492)\", \"(0.0, 1.268067479133606)\", \"(0.0, 1.2888330221176147)\", \"(0.0, 1.3171472549438477)\", \"(0.0, 1.3579190969467163)\", \"(0.0, 1.431267499923706)\", \"(0.0, 1.477617621421814)\", \"(0.0, 1.5298899412155151)\", \"(0.0, 1.658612608909607)\", \"(0.0, 1.7245492935180664)\", \"(0.0, 1.8045426607131958)\", \"(0.0, 1.96172297000885)\", \"(0.0, 1.9952363967895508)\", \"(0.0, 2.239516019821167)\", \"(0.0, 2.320568561553955)\", \"(0.0, 2.337212562561035)\", \"(0.0, 2.5798683166503906)\", \"(0.0, 2.8929848670959473)\", \"(0.0, 5.398799896240234)\", \"(0.0, 6.237949848175049)\", \"(0.0, 9.372238159179688)\"], \"mode\": \"markers\", \"name\": \"H0\", \"type\": \"scatter\", \"x\": [0.0, 0.0, 0.0, 0.0, 0.0, 0.0, 0.0, 0.0, 0.0, 0.0, 0.0, 0.0, 0.0, 0.0, 0.0, 0.0, 0.0, 0.0, 0.0, 0.0, 0.0, 0.0, 0.0, 0.0, 0.0, 0.0, 0.0, 0.0, 0.0, 0.0, 0.0, 0.0, 0.0, 0.0, 0.0, 0.0, 0.0, 0.0, 0.0, 0.0, 0.0, 0.0, 0.0, 0.0, 0.0, 0.0, 0.0, 0.0, 0.0, 0.0, 0.0, 0.0, 0.0, 0.0, 0.0, 0.0, 0.0, 0.0, 0.0, 0.0, 0.0, 0.0, 0.0, 0.0, 0.0, 0.0, 0.0, 0.0, 0.0, 0.0, 0.0, 0.0, 0.0, 0.0, 0.0, 0.0, 0.0, 0.0, 0.0, 0.0, 0.0, 0.0, 0.0, 0.0, 0.0, 0.0, 0.0, 0.0, 0.0, 0.0], \"y\": [0.06822317838668823, 0.0836353749036789, 0.08766717463731766, 0.11250205338001251, 0.11520229279994965, 0.11846818774938583, 0.12466089427471161, 0.1295061558485031, 0.1327153742313385, 0.13716281950473785, 0.1822606772184372, 0.19013729691505432, 0.2457488477230072, 0.25341495871543884, 0.2558046281337738, 0.26434823870658875, 0.27189627289772034, 0.2929826080799103, 0.29506561160087585, 0.3158785104751587, 0.3366778790950775, 0.33698827028274536, 0.3576063811779022, 0.35846957564353943, 0.36949899792671204, 0.3733437657356262, 0.41011250019073486, 0.4168891906738281, 0.4260713756084442, 0.431241899728775, 0.4328385293483734, 0.43758097290992737, 0.4376867413520813, 0.4412383735179901, 0.45023515820503235, 0.4581274390220642, 0.46626192331314087, 0.4923776388168335, 0.5067751407623291, 0.5085166692733765, 0.5118870139122009, 0.5178303718566895, 0.5298112034797668, 0.5560257434844971, 0.6169171333312988, 0.6217070817947388, 0.622961699962616, 0.6375329494476318, 0.6473968625068665, 0.6622006893157959, 0.6638583540916443, 0.664481520652771, 0.673404335975647, 0.6760560870170593, 0.7037544250488281, 0.7082273960113525, 0.7164695262908936, 0.7326631546020508, 0.734829306602478, 0.7467088103294373, 0.781249463558197, 0.9007531404495239, 0.9640770554542542, 0.9714587330818176, 0.9784890413284302, 1.0384265184402466, 1.0408741235733032, 1.050255537033081, 1.1399736404418945, 1.1732206344604492, 1.268067479133606, 1.2888330221176147, 1.3171472549438477, 1.3579190969467163, 1.431267499923706, 1.477617621421814, 1.5298899412155151, 1.658612608909607, 1.7245492935180664, 1.8045426607131958, 1.96172297000885, 1.9952363967895508, 2.239516019821167, 2.320568561553955, 2.337212562561035, 2.5798683166503906, 2.8929848670959473, 5.398799896240234, 6.237949848175049, 9.372238159179688]}, {\"hoverinfo\": \"text\", \"hovertext\": [\"(0.7379399538040161, 0.8021301031112671)\"], \"mode\": \"markers\", \"name\": \"H1\", \"type\": \"scatter\", \"x\": [0.7379399538040161], \"y\": [0.8021301031112671]}, {\"hoverinfo\": \"text\", \"hovertext\": [], \"mode\": \"markers\", \"name\": \"H2\", \"type\": \"scatter\", \"x\": [], \"y\": []}],                        {\"height\": 500, \"plot_bgcolor\": \"white\", \"template\": {\"data\": {\"bar\": [{\"error_x\": {\"color\": \"#2a3f5f\"}, \"error_y\": {\"color\": \"#2a3f5f\"}, \"marker\": {\"line\": {\"color\": \"#E5ECF6\", \"width\": 0.5}}, \"type\": \"bar\"}], \"barpolar\": [{\"marker\": {\"line\": {\"color\": \"#E5ECF6\", \"width\": 0.5}}, \"type\": \"barpolar\"}], \"carpet\": [{\"aaxis\": {\"endlinecolor\": \"#2a3f5f\", \"gridcolor\": \"white\", \"linecolor\": \"white\", \"minorgridcolor\": \"white\", \"startlinecolor\": \"#2a3f5f\"}, \"baxis\": {\"endlinecolor\": \"#2a3f5f\", \"gridcolor\": \"white\", \"linecolor\": \"white\", \"minorgridcolor\": \"white\", \"startlinecolor\": \"#2a3f5f\"}, \"type\": \"carpet\"}], \"choropleth\": [{\"colorbar\": {\"outlinewidth\": 0, \"ticks\": \"\"}, \"type\": \"choropleth\"}], \"contour\": [{\"colorbar\": {\"outlinewidth\": 0, \"ticks\": \"\"}, \"colorscale\": [[0.0, \"#0d0887\"], [0.1111111111111111, \"#46039f\"], [0.2222222222222222, \"#7201a8\"], [0.3333333333333333, \"#9c179e\"], [0.4444444444444444, \"#bd3786\"], [0.5555555555555556, \"#d8576b\"], [0.6666666666666666, \"#ed7953\"], [0.7777777777777778, \"#fb9f3a\"], [0.8888888888888888, \"#fdca26\"], [1.0, \"#f0f921\"]], \"type\": \"contour\"}], \"contourcarpet\": [{\"colorbar\": {\"outlinewidth\": 0, \"ticks\": \"\"}, \"type\": \"contourcarpet\"}], \"heatmap\": [{\"colorbar\": {\"outlinewidth\": 0, \"ticks\": \"\"}, \"colorscale\": [[0.0, \"#0d0887\"], [0.1111111111111111, \"#46039f\"], [0.2222222222222222, \"#7201a8\"], [0.3333333333333333, \"#9c179e\"], [0.4444444444444444, \"#bd3786\"], [0.5555555555555556, \"#d8576b\"], [0.6666666666666666, \"#ed7953\"], [0.7777777777777778, \"#fb9f3a\"], [0.8888888888888888, \"#fdca26\"], [1.0, \"#f0f921\"]], \"type\": \"heatmap\"}], \"heatmapgl\": [{\"colorbar\": {\"outlinewidth\": 0, \"ticks\": \"\"}, \"colorscale\": [[0.0, \"#0d0887\"], [0.1111111111111111, \"#46039f\"], [0.2222222222222222, \"#7201a8\"], [0.3333333333333333, \"#9c179e\"], [0.4444444444444444, \"#bd3786\"], [0.5555555555555556, \"#d8576b\"], [0.6666666666666666, \"#ed7953\"], [0.7777777777777778, \"#fb9f3a\"], [0.8888888888888888, \"#fdca26\"], [1.0, \"#f0f921\"]], \"type\": \"heatmapgl\"}], \"histogram\": [{\"marker\": {\"colorbar\": {\"outlinewidth\": 0, \"ticks\": \"\"}}, \"type\": \"histogram\"}], \"histogram2d\": [{\"colorbar\": {\"outlinewidth\": 0, \"ticks\": \"\"}, \"colorscale\": [[0.0, \"#0d0887\"], [0.1111111111111111, \"#46039f\"], [0.2222222222222222, \"#7201a8\"], [0.3333333333333333, \"#9c179e\"], [0.4444444444444444, \"#bd3786\"], [0.5555555555555556, \"#d8576b\"], [0.6666666666666666, \"#ed7953\"], [0.7777777777777778, \"#fb9f3a\"], [0.8888888888888888, \"#fdca26\"], [1.0, \"#f0f921\"]], \"type\": \"histogram2d\"}], \"histogram2dcontour\": [{\"colorbar\": {\"outlinewidth\": 0, \"ticks\": \"\"}, \"colorscale\": [[0.0, \"#0d0887\"], [0.1111111111111111, \"#46039f\"], [0.2222222222222222, \"#7201a8\"], [0.3333333333333333, \"#9c179e\"], [0.4444444444444444, \"#bd3786\"], [0.5555555555555556, \"#d8576b\"], [0.6666666666666666, \"#ed7953\"], [0.7777777777777778, \"#fb9f3a\"], [0.8888888888888888, \"#fdca26\"], [1.0, \"#f0f921\"]], \"type\": \"histogram2dcontour\"}], \"mesh3d\": [{\"colorbar\": {\"outlinewidth\": 0, \"ticks\": \"\"}, \"type\": \"mesh3d\"}], \"parcoords\": [{\"line\": {\"colorbar\": {\"outlinewidth\": 0, \"ticks\": \"\"}}, \"type\": \"parcoords\"}], \"pie\": [{\"automargin\": true, \"type\": \"pie\"}], \"scatter\": [{\"marker\": {\"colorbar\": {\"outlinewidth\": 0, \"ticks\": \"\"}}, \"type\": \"scatter\"}], \"scatter3d\": [{\"line\": {\"colorbar\": {\"outlinewidth\": 0, \"ticks\": \"\"}}, \"marker\": {\"colorbar\": {\"outlinewidth\": 0, \"ticks\": \"\"}}, \"type\": \"scatter3d\"}], \"scattercarpet\": [{\"marker\": {\"colorbar\": {\"outlinewidth\": 0, \"ticks\": \"\"}}, \"type\": \"scattercarpet\"}], \"scattergeo\": [{\"marker\": {\"colorbar\": {\"outlinewidth\": 0, \"ticks\": \"\"}}, \"type\": \"scattergeo\"}], \"scattergl\": [{\"marker\": {\"colorbar\": {\"outlinewidth\": 0, \"ticks\": \"\"}}, \"type\": \"scattergl\"}], \"scattermapbox\": [{\"marker\": {\"colorbar\": {\"outlinewidth\": 0, \"ticks\": \"\"}}, \"type\": \"scattermapbox\"}], \"scatterpolar\": [{\"marker\": {\"colorbar\": {\"outlinewidth\": 0, \"ticks\": \"\"}}, \"type\": \"scatterpolar\"}], \"scatterpolargl\": [{\"marker\": {\"colorbar\": {\"outlinewidth\": 0, \"ticks\": \"\"}}, \"type\": \"scatterpolargl\"}], \"scatterternary\": [{\"marker\": {\"colorbar\": {\"outlinewidth\": 0, \"ticks\": \"\"}}, \"type\": \"scatterternary\"}], \"surface\": [{\"colorbar\": {\"outlinewidth\": 0, \"ticks\": \"\"}, \"colorscale\": [[0.0, \"#0d0887\"], [0.1111111111111111, \"#46039f\"], [0.2222222222222222, \"#7201a8\"], [0.3333333333333333, \"#9c179e\"], [0.4444444444444444, \"#bd3786\"], [0.5555555555555556, \"#d8576b\"], [0.6666666666666666, \"#ed7953\"], [0.7777777777777778, \"#fb9f3a\"], [0.8888888888888888, \"#fdca26\"], [1.0, \"#f0f921\"]], \"type\": \"surface\"}], \"table\": [{\"cells\": {\"fill\": {\"color\": \"#EBF0F8\"}, \"line\": {\"color\": \"white\"}}, \"header\": {\"fill\": {\"color\": \"#C8D4E3\"}, \"line\": {\"color\": \"white\"}}, \"type\": \"table\"}]}, \"layout\": {\"annotationdefaults\": {\"arrowcolor\": \"#2a3f5f\", \"arrowhead\": 0, \"arrowwidth\": 1}, \"autotypenumbers\": \"strict\", \"coloraxis\": {\"colorbar\": {\"outlinewidth\": 0, \"ticks\": \"\"}}, \"colorscale\": {\"diverging\": [[0, \"#8e0152\"], [0.1, \"#c51b7d\"], [0.2, \"#de77ae\"], [0.3, \"#f1b6da\"], [0.4, \"#fde0ef\"], [0.5, \"#f7f7f7\"], [0.6, \"#e6f5d0\"], [0.7, \"#b8e186\"], [0.8, \"#7fbc41\"], [0.9, \"#4d9221\"], [1, \"#276419\"]], \"sequential\": [[0.0, \"#0d0887\"], [0.1111111111111111, \"#46039f\"], [0.2222222222222222, \"#7201a8\"], [0.3333333333333333, \"#9c179e\"], [0.4444444444444444, \"#bd3786\"], [0.5555555555555556, \"#d8576b\"], [0.6666666666666666, \"#ed7953\"], [0.7777777777777778, \"#fb9f3a\"], [0.8888888888888888, \"#fdca26\"], [1.0, \"#f0f921\"]], \"sequentialminus\": [[0.0, \"#0d0887\"], [0.1111111111111111, \"#46039f\"], [0.2222222222222222, \"#7201a8\"], [0.3333333333333333, \"#9c179e\"], [0.4444444444444444, \"#bd3786\"], [0.5555555555555556, \"#d8576b\"], [0.6666666666666666, \"#ed7953\"], [0.7777777777777778, \"#fb9f3a\"], [0.8888888888888888, \"#fdca26\"], [1.0, \"#f0f921\"]]}, \"colorway\": [\"#636efa\", \"#EF553B\", \"#00cc96\", \"#ab63fa\", \"#FFA15A\", \"#19d3f3\", \"#FF6692\", \"#B6E880\", \"#FF97FF\", \"#FECB52\"], \"font\": {\"color\": \"#2a3f5f\"}, \"geo\": {\"bgcolor\": \"white\", \"lakecolor\": \"white\", \"landcolor\": \"#E5ECF6\", \"showlakes\": true, \"showland\": true, \"subunitcolor\": \"white\"}, \"hoverlabel\": {\"align\": \"left\"}, \"hovermode\": \"closest\", \"mapbox\": {\"style\": \"light\"}, \"paper_bgcolor\": \"white\", \"plot_bgcolor\": \"#E5ECF6\", \"polar\": {\"angularaxis\": {\"gridcolor\": \"white\", \"linecolor\": \"white\", \"ticks\": \"\"}, \"bgcolor\": \"#E5ECF6\", \"radialaxis\": {\"gridcolor\": \"white\", \"linecolor\": \"white\", \"ticks\": \"\"}}, \"scene\": {\"xaxis\": {\"backgroundcolor\": \"#E5ECF6\", \"gridcolor\": \"white\", \"gridwidth\": 2, \"linecolor\": \"white\", \"showbackground\": true, \"ticks\": \"\", \"zerolinecolor\": \"white\"}, \"yaxis\": {\"backgroundcolor\": \"#E5ECF6\", \"gridcolor\": \"white\", \"gridwidth\": 2, \"linecolor\": \"white\", \"showbackground\": true, \"ticks\": \"\", \"zerolinecolor\": \"white\"}, \"zaxis\": {\"backgroundcolor\": \"#E5ECF6\", \"gridcolor\": \"white\", \"gridwidth\": 2, \"linecolor\": \"white\", \"showbackground\": true, \"ticks\": \"\", \"zerolinecolor\": \"white\"}}, \"shapedefaults\": {\"line\": {\"color\": \"#2a3f5f\"}}, \"ternary\": {\"aaxis\": {\"gridcolor\": \"white\", \"linecolor\": \"white\", \"ticks\": \"\"}, \"baxis\": {\"gridcolor\": \"white\", \"linecolor\": \"white\", \"ticks\": \"\"}, \"bgcolor\": \"#E5ECF6\", \"caxis\": {\"gridcolor\": \"white\", \"linecolor\": \"white\", \"ticks\": \"\"}}, \"title\": {\"x\": 0.05}, \"xaxis\": {\"automargin\": true, \"gridcolor\": \"white\", \"linecolor\": \"white\", \"ticks\": \"\", \"title\": {\"standoff\": 15}, \"zerolinecolor\": \"white\", \"zerolinewidth\": 2}, \"yaxis\": {\"automargin\": true, \"gridcolor\": \"white\", \"linecolor\": \"white\", \"ticks\": \"\", \"title\": {\"standoff\": 15}, \"zerolinecolor\": \"white\", \"zerolinewidth\": 2}}}, \"width\": 500, \"xaxis\": {\"autorange\": false, \"exponentformat\": \"e\", \"linecolor\": \"black\", \"linewidth\": 1, \"mirror\": false, \"range\": [-0.18744476318359377, 9.559682922363281], \"showexponent\": \"all\", \"showline\": true, \"side\": \"bottom\", \"ticks\": \"outside\", \"title\": {\"text\": \"Birth\"}, \"type\": \"linear\", \"zeroline\": true}, \"yaxis\": {\"autorange\": false, \"exponentformat\": \"e\", \"linecolor\": \"black\", \"linewidth\": 1, \"mirror\": false, \"range\": [-0.18744476318359377, 9.559682922363281], \"scaleanchor\": \"x\", \"scaleratio\": 1, \"showexponent\": \"all\", \"showline\": true, \"side\": \"left\", \"ticks\": \"outside\", \"title\": {\"text\": \"Death\"}, \"type\": \"linear\", \"zeroline\": true}},                        {\"responsive\": true}                    ).then(function(){\n",
              "                            \n",
              "var gd = document.getElementById('4c4c8966-f35f-4466-9d7f-08ec8cbcef3e');\n",
              "var x = new MutationObserver(function (mutations, observer) {{\n",
              "        var display = window.getComputedStyle(gd).display;\n",
              "        if (!display || display === 'none') {{\n",
              "            console.log([gd, 'removed!']);\n",
              "            Plotly.purge(gd);\n",
              "            observer.disconnect();\n",
              "        }}\n",
              "}});\n",
              "\n",
              "// Listen for the removal of the full notebook cells\n",
              "var notebookContainer = gd.closest('#notebook-container');\n",
              "if (notebookContainer) {{\n",
              "    x.observe(notebookContainer, {childList: true});\n",
              "}}\n",
              "\n",
              "// Listen for the clearing of the current output cell\n",
              "var outputEl = gd.closest('.output');\n",
              "if (outputEl) {{\n",
              "    x.observe(outputEl, {childList: true});\n",
              "}}\n",
              "\n",
              "                        })                };                            </script>        </div>\n",
              "</body>\n",
              "</html>"
            ]
          },
          "metadata": {
            "tags": []
          }
        },
        {
          "output_type": "execute_result",
          "data": {
            "text/plain": [
              "array([[[0.        , 0.06822318, 0.        ],\n",
              "        [0.        , 0.08363537, 0.        ],\n",
              "        [0.        , 0.08766717, 0.        ],\n",
              "        [0.        , 0.11250205, 0.        ],\n",
              "        [0.        , 0.11520229, 0.        ],\n",
              "        [0.        , 0.11846819, 0.        ],\n",
              "        [0.        , 0.12466089, 0.        ],\n",
              "        [0.        , 0.12950616, 0.        ],\n",
              "        [0.        , 0.13271537, 0.        ],\n",
              "        [0.        , 0.13716282, 0.        ],\n",
              "        [0.        , 0.18226068, 0.        ],\n",
              "        [0.        , 0.1901373 , 0.        ],\n",
              "        [0.        , 0.24574885, 0.        ],\n",
              "        [0.        , 0.25341496, 0.        ],\n",
              "        [0.        , 0.25580463, 0.        ],\n",
              "        [0.        , 0.26434824, 0.        ],\n",
              "        [0.        , 0.27189627, 0.        ],\n",
              "        [0.        , 0.29298261, 0.        ],\n",
              "        [0.        , 0.29506561, 0.        ],\n",
              "        [0.        , 0.31587851, 0.        ],\n",
              "        [0.        , 0.33667788, 0.        ],\n",
              "        [0.        , 0.33698827, 0.        ],\n",
              "        [0.        , 0.35760638, 0.        ],\n",
              "        [0.        , 0.35846958, 0.        ],\n",
              "        [0.        , 0.369499  , 0.        ],\n",
              "        [0.        , 0.37334377, 0.        ],\n",
              "        [0.        , 0.4101125 , 0.        ],\n",
              "        [0.        , 0.41688919, 0.        ],\n",
              "        [0.        , 0.42607138, 0.        ],\n",
              "        [0.        , 0.4312419 , 0.        ],\n",
              "        [0.        , 0.43283853, 0.        ],\n",
              "        [0.        , 0.43758097, 0.        ],\n",
              "        [0.        , 0.43768674, 0.        ],\n",
              "        [0.        , 0.44123837, 0.        ],\n",
              "        [0.        , 0.45023516, 0.        ],\n",
              "        [0.        , 0.45812744, 0.        ],\n",
              "        [0.        , 0.46626192, 0.        ],\n",
              "        [0.        , 0.49237764, 0.        ],\n",
              "        [0.        , 0.50677514, 0.        ],\n",
              "        [0.        , 0.50851667, 0.        ],\n",
              "        [0.        , 0.51188701, 0.        ],\n",
              "        [0.        , 0.51783037, 0.        ],\n",
              "        [0.        , 0.5298112 , 0.        ],\n",
              "        [0.        , 0.55602574, 0.        ],\n",
              "        [0.        , 0.61691713, 0.        ],\n",
              "        [0.        , 0.62170708, 0.        ],\n",
              "        [0.        , 0.6229617 , 0.        ],\n",
              "        [0.        , 0.63753295, 0.        ],\n",
              "        [0.        , 0.64739686, 0.        ],\n",
              "        [0.        , 0.66220069, 0.        ],\n",
              "        [0.        , 0.66385835, 0.        ],\n",
              "        [0.        , 0.66448152, 0.        ],\n",
              "        [0.        , 0.67340434, 0.        ],\n",
              "        [0.        , 0.67605609, 0.        ],\n",
              "        [0.        , 0.70375443, 0.        ],\n",
              "        [0.        , 0.7082274 , 0.        ],\n",
              "        [0.        , 0.71646953, 0.        ],\n",
              "        [0.        , 0.73266315, 0.        ],\n",
              "        [0.        , 0.73482931, 0.        ],\n",
              "        [0.        , 0.74670881, 0.        ],\n",
              "        [0.        , 0.78124946, 0.        ],\n",
              "        [0.        , 0.90075314, 0.        ],\n",
              "        [0.        , 0.96407706, 0.        ],\n",
              "        [0.        , 0.97145873, 0.        ],\n",
              "        [0.        , 0.97848904, 0.        ],\n",
              "        [0.        , 1.03842652, 0.        ],\n",
              "        [0.        , 1.04087412, 0.        ],\n",
              "        [0.        , 1.05025554, 0.        ],\n",
              "        [0.        , 1.13997364, 0.        ],\n",
              "        [0.        , 1.17322063, 0.        ],\n",
              "        [0.        , 1.26806748, 0.        ],\n",
              "        [0.        , 1.28883302, 0.        ],\n",
              "        [0.        , 1.31714725, 0.        ],\n",
              "        [0.        , 1.3579191 , 0.        ],\n",
              "        [0.        , 1.4312675 , 0.        ],\n",
              "        [0.        , 1.47761762, 0.        ],\n",
              "        [0.        , 1.52988994, 0.        ],\n",
              "        [0.        , 1.65861261, 0.        ],\n",
              "        [0.        , 1.72454929, 0.        ],\n",
              "        [0.        , 1.80454266, 0.        ],\n",
              "        [0.        , 1.96172297, 0.        ],\n",
              "        [0.        , 1.9952364 , 0.        ],\n",
              "        [0.        , 2.23951602, 0.        ],\n",
              "        [0.        , 2.32056856, 0.        ],\n",
              "        [0.        , 2.33721256, 0.        ],\n",
              "        [0.        , 2.57986832, 0.        ],\n",
              "        [0.        , 2.89298487, 0.        ],\n",
              "        [0.        , 5.3987999 , 0.        ],\n",
              "        [0.        , 6.23794985, 0.        ],\n",
              "        [0.        , 9.37223816, 0.        ],\n",
              "        [0.73793995, 0.8021301 , 1.        ],\n",
              "        [0.        , 0.        , 2.        ]]])"
            ]
          },
          "metadata": {
            "tags": []
          },
          "execution_count": 22
        }
      ]
    },
    {
      "cell_type": "markdown",
      "metadata": {
        "id": "auLmaKCmXjzs"
      },
      "source": [
        "## Mapper algorithm"
      ]
    },
    {
      "cell_type": "code",
      "metadata": {
        "id": "_mwwhIMCOcMn"
      },
      "source": [
        "\"\"\" 1. Define filter function – can be any scikit-learn transformer\n",
        " It is returning a selection of columns of the data \"\"\"\n",
        "#filter_func = Projection() #columns=[0,1]\n",
        "#filter_func = Entropy() \n",
        "filter_func = Eccentricity(metric= 'euclidean') #Eccentricities of points in a point cloud or abstract metric space.\n",
        "\"\"\" The distance function (metric) can be: ‘braycurtis’, ‘canberra’, ‘chebyshev’, ‘cityblock’, \n",
        "‘correlation’, ‘cosine’, ‘dice’, ‘euclidean’, ‘hamming’, ‘jaccard’, ‘jensenshannon’, \n",
        "‘kulsinski’, ‘mahalanobis’, ‘matching’, ‘minkowski’, ‘rogerstanimoto’, ‘russellrao’, \n",
        "‘seuclidean’, ‘sokalmichener’, ‘sokalsneath’, ‘sqeuclidean’, ‘yule’.\"\"\"\n",
        "\"\"\" 2. Define cover \"\"\"\n",
        "cover = CubicalCover(n_intervals=20,\n",
        "                     overlap_frac=0.5)\n",
        "\"\"\" 3. Choose clustering algorithm – default is DBSCAN \"\"\"\n",
        "clusterer = DBSCAN(eps=8, \n",
        "                   min_samples=2, \n",
        "                   metric='euclidean')\n",
        "\n",
        "\"\"\" 4. Initialise pipeline \"\"\"\n",
        "pipe_mapper = make_mapper_pipeline(\n",
        "    filter_func=filter_func,\n",
        "    cover=cover,\n",
        "    clusterer=clusterer,\n",
        "    verbose=False,\n",
        "    n_jobs=-1)"
      ],
      "execution_count": 23,
      "outputs": []
    },
    {
      "cell_type": "code",
      "metadata": {
        "id": "CougIX7MR3xx",
        "colab": {
          "base_uri": "https://localhost:8080/",
          "height": 542
        },
        "outputId": "102eaee6-2341-49a7-84d8-8a41db6fe898"
      },
      "source": [
        "plotly_params = {\"node_trace\": {\"marker_colorscale\": \"RdBu\"}}\n",
        "fig = plot_static_mapper_graph(pipe_mapper,\n",
        "                               X, \n",
        "                               layout='fruchterman_reingold',\n",
        "                               #color_by_columns_dropdown=True,\n",
        "                               color_variable =clean['pIC50'],\n",
        "                               node_scale =20,\n",
        "                               plotly_params=plotly_params)\n",
        "fig.show(config={'scrollZoom': True})"
      ],
      "execution_count": 24,
      "outputs": [
        {
          "output_type": "display_data",
          "data": {
            "text/html": [
              "<html>\n",
              "<head><meta charset=\"utf-8\" /></head>\n",
              "<body>\n",
              "    <div>            <script src=\"https://cdnjs.cloudflare.com/ajax/libs/mathjax/2.7.5/MathJax.js?config=TeX-AMS-MML_SVG\"></script><script type=\"text/javascript\">if (window.MathJax) {MathJax.Hub.Config({SVG: {font: \"STIX-Web\"}});}</script>                <script type=\"text/javascript\">window.PlotlyConfig = {MathJaxConfig: 'local'};</script>\n",
              "        <script src=\"https://cdn.plot.ly/plotly-latest.min.js\"></script>                <div id=\"f34dd3af-c917-42ac-940b-23936a8a7aab\" class=\"plotly-graph-div\" style=\"height:525px; width:100%;\"></div>            <script type=\"text/javascript\">                                    window.PLOTLYENV=window.PLOTLYENV || {};                                    if (document.getElementById(\"f34dd3af-c917-42ac-940b-23936a8a7aab\")) {                    Plotly.newPlot(                        \"f34dd3af-c917-42ac-940b-23936a8a7aab\",                        [{\"hoverinfo\": \"none\", \"line\": {\"color\": \"#888\", \"width\": 1}, \"mode\": \"lines\", \"name\": \"edge_trace\", \"type\": \"scatter\", \"uid\": \"d85eb7fc-afff-4068-be19-f3d73bb86572\", \"x\": [2.7671339084069184, 1.7398474560821848, null, 2.7671339084069184, 3.8230409783523895, null, 1.7398474560821848, 1.102214094944858, null, 1.7670177272816934, 2.823622661879356, null, 1.7670177272816934, 1.0868969144709615, null, 2.823622661879356, 3.872543107950214, null, 3.872543107950214, 4.85563361159242, null, 5.586963980177471, 4.813716643436484, null, 4.813716643436484, 3.8230409783523895, null, 4.85563361159242, 5.637135967603806, null, 1.102214094944858, 1.0868969144709615, null, -1.213464228343876, -1.8716602142663896, null, -1.8716602142663896, -2.797295608532026, null, -1.8716602142663896, -1.621484720666939, null, -0.5686423825755003, -1.1146308452224887, null, -1.1146308452224887, -1.621484720666939, null, -1.324032472747753, -0.8068411657697052, null, 3.1520164083155002, 3.9677667469672206, null, 1.1429773616524634, 1.3193726647208859, null, 3.43078530774225, 4.235023415624021, null, -0.008267088913486311, 0.625582298113971, null, -2.5194624633429195, -2.59642292322265, null], \"y\": [-0.4722550362630611, -0.15751777065108225, null, -0.4722550362630611, -0.4560559023219248, null, -0.15751777065108225, 0.7161423422316473, null, 2.6447788848520486, 2.8252118216139457, null, 2.6447788848520486, 1.8087318802505241, null, 2.8252118216139457, 2.6309348512462507, null, 2.6309348512462507, 2.4487182018170603, null, 0.043789188107134266, -0.4107424049599818, null, -0.4107424049599818, -0.4560559023219248, null, 2.4487182018170603, 2.007381581427215, null, 0.7161423422316473, 1.8087318802505241, null, 0.7152187123648251, -0.042518179946288835, null, -0.042518179946288835, 0.2515800744452021, null, -0.042518179946288835, -1.0441956561630639, null, -2.5658051887144824, -1.856406712901393, null, -1.856406712901393, -1.0441956561630639, null, 4.110144308864803, 3.379516972417544, null, -2.689923237372475, -2.375778311700819, null, -2.3261378100159167, -3.1529955383326973, null, 4.844653427282446, 4.497497948225805, null, 5.271688367432603, 4.702403705752906, null, 2.9521107412781307, 2.118483799267272, null]}, {\"hoverinfo\": \"text\", \"hovertext\": [\"Node ID: 0<br>Pullback set label: 3<br>Partial cluster label: -1<br>Node size: 22<br>Summary statistic: -1.12\", \"Node ID: 1<br>Pullback set label: 4<br>Partial cluster label: -1<br>Node size: 17<br>Summary statistic: -0.803\", \"Node ID: 2<br>Pullback set label: 7<br>Partial cluster label: -1<br>Node size: 6<br>Summary statistic: -1.51\", \"Node ID: 3<br>Pullback set label: 8<br>Partial cluster label: -1<br>Node size: 6<br>Summary statistic: -1.3\", \"Node ID: 4<br>Pullback set label: 9<br>Partial cluster label: -1<br>Node size: 5<br>Summary statistic: -1.08\", \"Node ID: 5<br>Pullback set label: 0<br>Partial cluster label: -1<br>Node size: 22<br>Summary statistic: -1.36\", \"Node ID: 6<br>Pullback set label: 1<br>Partial cluster label: -1<br>Node size: 18<br>Summary statistic: -1.25\", \"Node ID: 7<br>Pullback set label: 10<br>Partial cluster label: -1<br>Node size: 4<br>Summary statistic: -0.888\", \"Node ID: 8<br>Pullback set label: 2<br>Partial cluster label: -1<br>Node size: 17<br>Summary statistic: -1.17\", \"Node ID: 9<br>Pullback set label: 5<br>Partial cluster label: -1<br>Node size: 7<br>Summary statistic: -0.904\", \"Node ID: 10<br>Pullback set label: 6<br>Partial cluster label: -1<br>Node size: 5<br>Summary statistic: -2.04\", \"Node ID: 11<br>Pullback set label: 15<br>Partial cluster label: -1<br>Node size: 1<br>Summary statistic: -1.6\", \"Node ID: 12<br>Pullback set label: 16<br>Partial cluster label: -1<br>Node size: 3<br>Summary statistic: -0.806\", \"Node ID: 13<br>Pullback set label: 12<br>Partial cluster label: -1<br>Node size: 1<br>Summary statistic: -1.78\", \"Node ID: 14<br>Pullback set label: 13<br>Partial cluster label: -1<br>Node size: 1<br>Summary statistic: 0.0458\", \"Node ID: 15<br>Pullback set label: 14<br>Partial cluster label: -1<br>Node size: 2<br>Summary statistic: 0.101\", \"Node ID: 16<br>Pullback set label: 17<br>Partial cluster label: -1<br>Node size: 2<br>Summary statistic: -1.17\", \"Node ID: 17<br>Pullback set label: 0<br>Partial cluster label: 0<br>Node size: 2<br>Summary statistic: 0.491\", \"Node ID: 18<br>Pullback set label: 1<br>Partial cluster label: 0<br>Node size: 2<br>Summary statistic: 0.491\", \"Node ID: 19<br>Pullback set label: 15<br>Partial cluster label: 0<br>Node size: 2<br>Summary statistic: 0.471\", \"Node ID: 20<br>Pullback set label: 9<br>Partial cluster label: 0<br>Node size: 2<br>Summary statistic: 0.321\", \"Node ID: 21<br>Pullback set label: 10<br>Partial cluster label: 0<br>Node size: 2<br>Summary statistic: 0.321\", \"Node ID: 22<br>Pullback set label: 11<br>Partial cluster label: -1<br>Node size: 1<br>Summary statistic: -1.51\", \"Node ID: 23<br>Pullback set label: 1<br>Partial cluster label: 1<br>Node size: 3<br>Summary statistic: -0.473\", \"Node ID: 24<br>Pullback set label: 2<br>Partial cluster label: 0<br>Node size: 3<br>Summary statistic: -0.473\", \"Node ID: 25<br>Pullback set label: 0<br>Partial cluster label: 1<br>Node size: 2<br>Summary statistic: -1.16\", \"Node ID: 26<br>Pullback set label: 1<br>Partial cluster label: 2<br>Node size: 2<br>Summary statistic: -1.16\", \"Node ID: 27<br>Pullback set label: 1<br>Partial cluster label: 3<br>Node size: 2<br>Summary statistic: -0.922\", \"Node ID: 28<br>Pullback set label: 2<br>Partial cluster label: 1<br>Node size: 2<br>Summary statistic: -0.922\", \"Node ID: 29<br>Pullback set label: 9<br>Partial cluster label: 1<br>Node size: 2<br>Summary statistic: -1.07\", \"Node ID: 30<br>Pullback set label: 10<br>Partial cluster label: 1<br>Node size: 2<br>Summary statistic: -1.07\"], \"marker\": {\"color\": [-1.1239379427272729, -0.8025490655882352, -1.5133654593333334, -1.3034259075, -1.0780173750000002, -1.3602340668181816, -1.2458740568333333, -0.8884746385000001, -1.1687913150000002, -0.9038924592857143, -2.0421920512, -1.602059991, -0.8063212766666666, -1.77815125, 0.045757491, 0.10126235650000001, -1.1719995345, 0.49148333050000004, 0.49148333050000004, 0.470961687, 0.321249832, 0.321249832, -1.50623436, -0.47337939300000004, -0.47337939300000004, -1.1619462225000001, -1.1619462225000001, -0.9222013059999999, -0.9222013059999999, -1.07324681, -1.07324681], \"colorbar\": {\"thickness\": 15, \"title\": {\"side\": \"right\", \"text\": \"\"}, \"xanchor\": \"left\"}, \"colorscale\": [[0.0, \"rgb(103,0,31)\"], [0.1, \"rgb(178,24,43)\"], [0.2, \"rgb(214,96,77)\"], [0.3, \"rgb(244,165,130)\"], [0.4, \"rgb(253,219,199)\"], [0.5, \"rgb(247,247,247)\"], [0.6, \"rgb(209,229,240)\"], [0.7, \"rgb(146,197,222)\"], [0.8, \"rgb(67,147,195)\"], [0.9, \"rgb(33,102,172)\"], [1.0, \"rgb(5,48,97)\"]], \"line\": {\"color\": \"#888\", \"width\": 1}, \"opacity\": 1.0, \"reversescale\": false, \"showscale\": true, \"size\": [22, 17, 6, 6, 5, 22, 18, 4, 17, 7, 5, 1, 3, 1, 1, 2, 2, 2, 2, 2, 2, 2, 1, 3, 3, 2, 2, 2, 2, 2, 2], \"sizemin\": 4, \"sizemode\": \"area\", \"sizeref\": 0.11}, \"mode\": \"markers\", \"name\": \"node_trace\", \"type\": \"scatter\", \"uid\": \"ef33f84e-c380-4da0-80f7-35babccc77ad\", \"x\": [2.7671339084069184, 1.7398474560821848, 1.7670177272816934, 2.823622661879356, 3.872543107950214, 5.586963980177471, 4.813716643436484, 4.85563361159242, 3.8230409783523895, 1.102214094944858, 1.0868969144709615, -1.213464228343876, -1.8716602142663896, 1.954105509401225, -0.5686423825755003, -1.1146308452224887, -2.797295608532026, -1.324032472747753, -0.8068411657697052, -1.621484720666939, 3.1520164083155002, 3.9677667469672206, 5.637135967603806, 1.1429773616524634, 1.3193726647208859, 3.43078530774225, 4.235023415624021, -0.008267088913486311, 0.625582298113971, -2.5194624633429195, -2.59642292322265], \"y\": [-0.4722550362630611, -0.15751777065108225, 2.6447788848520486, 2.8252118216139457, 2.6309348512462507, 0.043789188107134266, -0.4107424049599818, 2.4487182018170603, -0.4560559023219248, 0.7161423422316473, 1.8087318802505241, 0.7152187123648251, -0.042518179946288835, 5.419870881664557, -2.5658051887144824, -1.856406712901393, 0.2515800744452021, 4.110144308864803, 3.379516972417544, -1.0441956561630639, -2.689923237372475, -2.375778311700819, 2.007381581427215, -2.3261378100159167, -3.1529955383326973, 4.844653427282446, 4.497497948225805, 5.271688367432603, 4.702403705752906, 2.9521107412781307, 2.118483799267272]}],                        {\"autosize\": false, \"hovermode\": \"closest\", \"margin\": {\"b\": 20, \"l\": 5, \"r\": 5, \"t\": 40}, \"showlegend\": false, \"template\": {\"data\": {\"bar\": [{\"error_x\": {\"color\": \"rgb(36,36,36)\"}, \"error_y\": {\"color\": \"rgb(36,36,36)\"}, \"marker\": {\"line\": {\"color\": \"white\", \"width\": 0.5}}, \"type\": \"bar\"}], \"barpolar\": [{\"marker\": {\"line\": {\"color\": \"white\", \"width\": 0.5}}, \"type\": \"barpolar\"}], \"carpet\": [{\"aaxis\": {\"endlinecolor\": \"rgb(36,36,36)\", \"gridcolor\": \"white\", \"linecolor\": \"white\", \"minorgridcolor\": \"white\", \"startlinecolor\": \"rgb(36,36,36)\"}, \"baxis\": {\"endlinecolor\": \"rgb(36,36,36)\", \"gridcolor\": \"white\", \"linecolor\": \"white\", \"minorgridcolor\": \"white\", \"startlinecolor\": \"rgb(36,36,36)\"}, \"type\": \"carpet\"}], \"choropleth\": [{\"colorbar\": {\"outlinewidth\": 1, \"tickcolor\": \"rgb(36,36,36)\", \"ticks\": \"outside\"}, \"type\": \"choropleth\"}], \"contour\": [{\"colorbar\": {\"outlinewidth\": 1, \"tickcolor\": \"rgb(36,36,36)\", \"ticks\": \"outside\"}, \"colorscale\": [[0.0, \"#440154\"], [0.1111111111111111, \"#482878\"], [0.2222222222222222, \"#3e4989\"], [0.3333333333333333, \"#31688e\"], [0.4444444444444444, \"#26828e\"], [0.5555555555555556, \"#1f9e89\"], [0.6666666666666666, \"#35b779\"], [0.7777777777777778, \"#6ece58\"], [0.8888888888888888, \"#b5de2b\"], [1.0, \"#fde725\"]], \"type\": \"contour\"}], \"contourcarpet\": [{\"colorbar\": {\"outlinewidth\": 1, \"tickcolor\": \"rgb(36,36,36)\", \"ticks\": \"outside\"}, \"type\": \"contourcarpet\"}], \"heatmap\": [{\"colorbar\": {\"outlinewidth\": 1, \"tickcolor\": \"rgb(36,36,36)\", \"ticks\": \"outside\"}, \"colorscale\": [[0.0, \"#440154\"], [0.1111111111111111, \"#482878\"], [0.2222222222222222, \"#3e4989\"], [0.3333333333333333, \"#31688e\"], [0.4444444444444444, \"#26828e\"], [0.5555555555555556, \"#1f9e89\"], [0.6666666666666666, \"#35b779\"], [0.7777777777777778, \"#6ece58\"], [0.8888888888888888, \"#b5de2b\"], [1.0, \"#fde725\"]], \"type\": \"heatmap\"}], \"heatmapgl\": [{\"colorbar\": {\"outlinewidth\": 1, \"tickcolor\": \"rgb(36,36,36)\", \"ticks\": \"outside\"}, \"colorscale\": [[0.0, \"#440154\"], [0.1111111111111111, \"#482878\"], [0.2222222222222222, \"#3e4989\"], [0.3333333333333333, \"#31688e\"], [0.4444444444444444, \"#26828e\"], [0.5555555555555556, \"#1f9e89\"], [0.6666666666666666, \"#35b779\"], [0.7777777777777778, \"#6ece58\"], [0.8888888888888888, \"#b5de2b\"], [1.0, \"#fde725\"]], \"type\": \"heatmapgl\"}], \"histogram\": [{\"marker\": {\"line\": {\"color\": \"white\", \"width\": 0.6}}, \"type\": \"histogram\"}], \"histogram2d\": [{\"colorbar\": {\"outlinewidth\": 1, \"tickcolor\": \"rgb(36,36,36)\", \"ticks\": \"outside\"}, \"colorscale\": [[0.0, \"#440154\"], [0.1111111111111111, \"#482878\"], [0.2222222222222222, \"#3e4989\"], [0.3333333333333333, \"#31688e\"], [0.4444444444444444, \"#26828e\"], [0.5555555555555556, \"#1f9e89\"], [0.6666666666666666, \"#35b779\"], [0.7777777777777778, \"#6ece58\"], [0.8888888888888888, \"#b5de2b\"], [1.0, \"#fde725\"]], \"type\": \"histogram2d\"}], \"histogram2dcontour\": [{\"colorbar\": {\"outlinewidth\": 1, \"tickcolor\": \"rgb(36,36,36)\", \"ticks\": \"outside\"}, \"colorscale\": [[0.0, \"#440154\"], [0.1111111111111111, \"#482878\"], [0.2222222222222222, \"#3e4989\"], [0.3333333333333333, \"#31688e\"], [0.4444444444444444, \"#26828e\"], [0.5555555555555556, \"#1f9e89\"], [0.6666666666666666, \"#35b779\"], [0.7777777777777778, \"#6ece58\"], [0.8888888888888888, \"#b5de2b\"], [1.0, \"#fde725\"]], \"type\": \"histogram2dcontour\"}], \"mesh3d\": [{\"colorbar\": {\"outlinewidth\": 1, \"tickcolor\": \"rgb(36,36,36)\", \"ticks\": \"outside\"}, \"type\": \"mesh3d\"}], \"parcoords\": [{\"line\": {\"colorbar\": {\"outlinewidth\": 1, \"tickcolor\": \"rgb(36,36,36)\", \"ticks\": \"outside\"}}, \"type\": \"parcoords\"}], \"pie\": [{\"automargin\": true, \"type\": \"pie\"}], \"scatter\": [{\"marker\": {\"colorbar\": {\"outlinewidth\": 1, \"tickcolor\": \"rgb(36,36,36)\", \"ticks\": \"outside\"}}, \"type\": \"scatter\"}], \"scatter3d\": [{\"line\": {\"colorbar\": {\"outlinewidth\": 1, \"tickcolor\": \"rgb(36,36,36)\", \"ticks\": \"outside\"}}, \"marker\": {\"colorbar\": {\"outlinewidth\": 1, \"tickcolor\": \"rgb(36,36,36)\", \"ticks\": \"outside\"}}, \"type\": \"scatter3d\"}], \"scattercarpet\": [{\"marker\": {\"colorbar\": {\"outlinewidth\": 1, \"tickcolor\": \"rgb(36,36,36)\", \"ticks\": \"outside\"}}, \"type\": \"scattercarpet\"}], \"scattergeo\": [{\"marker\": {\"colorbar\": {\"outlinewidth\": 1, \"tickcolor\": \"rgb(36,36,36)\", \"ticks\": \"outside\"}}, \"type\": \"scattergeo\"}], \"scattergl\": [{\"marker\": {\"colorbar\": {\"outlinewidth\": 1, \"tickcolor\": \"rgb(36,36,36)\", \"ticks\": \"outside\"}}, \"type\": \"scattergl\"}], \"scattermapbox\": [{\"marker\": {\"colorbar\": {\"outlinewidth\": 1, \"tickcolor\": \"rgb(36,36,36)\", \"ticks\": \"outside\"}}, \"type\": \"scattermapbox\"}], \"scatterpolar\": [{\"marker\": {\"colorbar\": {\"outlinewidth\": 1, \"tickcolor\": \"rgb(36,36,36)\", \"ticks\": \"outside\"}}, \"type\": \"scatterpolar\"}], \"scatterpolargl\": [{\"marker\": {\"colorbar\": {\"outlinewidth\": 1, \"tickcolor\": \"rgb(36,36,36)\", \"ticks\": \"outside\"}}, \"type\": \"scatterpolargl\"}], \"scatterternary\": [{\"marker\": {\"colorbar\": {\"outlinewidth\": 1, \"tickcolor\": \"rgb(36,36,36)\", \"ticks\": \"outside\"}}, \"type\": \"scatterternary\"}], \"surface\": [{\"colorbar\": {\"outlinewidth\": 1, \"tickcolor\": \"rgb(36,36,36)\", \"ticks\": \"outside\"}, \"colorscale\": [[0.0, \"#440154\"], [0.1111111111111111, \"#482878\"], [0.2222222222222222, \"#3e4989\"], [0.3333333333333333, \"#31688e\"], [0.4444444444444444, \"#26828e\"], [0.5555555555555556, \"#1f9e89\"], [0.6666666666666666, \"#35b779\"], [0.7777777777777778, \"#6ece58\"], [0.8888888888888888, \"#b5de2b\"], [1.0, \"#fde725\"]], \"type\": \"surface\"}], \"table\": [{\"cells\": {\"fill\": {\"color\": \"rgb(237,237,237)\"}, \"line\": {\"color\": \"white\"}}, \"header\": {\"fill\": {\"color\": \"rgb(217,217,217)\"}, \"line\": {\"color\": \"white\"}}, \"type\": \"table\"}]}, \"layout\": {\"annotationdefaults\": {\"arrowhead\": 0, \"arrowwidth\": 1}, \"autotypenumbers\": \"strict\", \"coloraxis\": {\"colorbar\": {\"outlinewidth\": 1, \"tickcolor\": \"rgb(36,36,36)\", \"ticks\": \"outside\"}}, \"colorscale\": {\"diverging\": [[0.0, \"rgb(103,0,31)\"], [0.1, \"rgb(178,24,43)\"], [0.2, \"rgb(214,96,77)\"], [0.3, \"rgb(244,165,130)\"], [0.4, \"rgb(253,219,199)\"], [0.5, \"rgb(247,247,247)\"], [0.6, \"rgb(209,229,240)\"], [0.7, \"rgb(146,197,222)\"], [0.8, \"rgb(67,147,195)\"], [0.9, \"rgb(33,102,172)\"], [1.0, \"rgb(5,48,97)\"]], \"sequential\": [[0.0, \"#440154\"], [0.1111111111111111, \"#482878\"], [0.2222222222222222, \"#3e4989\"], [0.3333333333333333, \"#31688e\"], [0.4444444444444444, \"#26828e\"], [0.5555555555555556, \"#1f9e89\"], [0.6666666666666666, \"#35b779\"], [0.7777777777777778, \"#6ece58\"], [0.8888888888888888, \"#b5de2b\"], [1.0, \"#fde725\"]], \"sequentialminus\": [[0.0, \"#440154\"], [0.1111111111111111, \"#482878\"], [0.2222222222222222, \"#3e4989\"], [0.3333333333333333, \"#31688e\"], [0.4444444444444444, \"#26828e\"], [0.5555555555555556, \"#1f9e89\"], [0.6666666666666666, \"#35b779\"], [0.7777777777777778, \"#6ece58\"], [0.8888888888888888, \"#b5de2b\"], [1.0, \"#fde725\"]]}, \"colorway\": [\"#1F77B4\", \"#FF7F0E\", \"#2CA02C\", \"#D62728\", \"#9467BD\", \"#8C564B\", \"#E377C2\", \"#7F7F7F\", \"#BCBD22\", \"#17BECF\"], \"font\": {\"color\": \"rgb(36,36,36)\"}, \"geo\": {\"bgcolor\": \"white\", \"lakecolor\": \"white\", \"landcolor\": \"white\", \"showlakes\": true, \"showland\": true, \"subunitcolor\": \"white\"}, \"hoverlabel\": {\"align\": \"left\"}, \"hovermode\": \"closest\", \"mapbox\": {\"style\": \"light\"}, \"paper_bgcolor\": \"white\", \"plot_bgcolor\": \"white\", \"polar\": {\"angularaxis\": {\"gridcolor\": \"rgb(232,232,232)\", \"linecolor\": \"rgb(36,36,36)\", \"showgrid\": false, \"showline\": true, \"ticks\": \"outside\"}, \"bgcolor\": \"white\", \"radialaxis\": {\"gridcolor\": \"rgb(232,232,232)\", \"linecolor\": \"rgb(36,36,36)\", \"showgrid\": false, \"showline\": true, \"ticks\": \"outside\"}}, \"scene\": {\"xaxis\": {\"backgroundcolor\": \"white\", \"gridcolor\": \"rgb(232,232,232)\", \"gridwidth\": 2, \"linecolor\": \"rgb(36,36,36)\", \"showbackground\": true, \"showgrid\": false, \"showline\": true, \"ticks\": \"outside\", \"zeroline\": false, \"zerolinecolor\": \"rgb(36,36,36)\"}, \"yaxis\": {\"backgroundcolor\": \"white\", \"gridcolor\": \"rgb(232,232,232)\", \"gridwidth\": 2, \"linecolor\": \"rgb(36,36,36)\", \"showbackground\": true, \"showgrid\": false, \"showline\": true, \"ticks\": \"outside\", \"zeroline\": false, \"zerolinecolor\": \"rgb(36,36,36)\"}, \"zaxis\": {\"backgroundcolor\": \"white\", \"gridcolor\": \"rgb(232,232,232)\", \"gridwidth\": 2, \"linecolor\": \"rgb(36,36,36)\", \"showbackground\": true, \"showgrid\": false, \"showline\": true, \"ticks\": \"outside\", \"zeroline\": false, \"zerolinecolor\": \"rgb(36,36,36)\"}}, \"shapedefaults\": {\"fillcolor\": \"black\", \"line\": {\"width\": 0}, \"opacity\": 0.3}, \"ternary\": {\"aaxis\": {\"gridcolor\": \"rgb(232,232,232)\", \"linecolor\": \"rgb(36,36,36)\", \"showgrid\": false, \"showline\": true, \"ticks\": \"outside\"}, \"baxis\": {\"gridcolor\": \"rgb(232,232,232)\", \"linecolor\": \"rgb(36,36,36)\", \"showgrid\": false, \"showline\": true, \"ticks\": \"outside\"}, \"bgcolor\": \"white\", \"caxis\": {\"gridcolor\": \"rgb(232,232,232)\", \"linecolor\": \"rgb(36,36,36)\", \"showgrid\": false, \"showline\": true, \"ticks\": \"outside\"}}, \"title\": {\"x\": 0.05}, \"xaxis\": {\"automargin\": true, \"gridcolor\": \"rgb(232,232,232)\", \"linecolor\": \"rgb(36,36,36)\", \"showgrid\": false, \"showline\": true, \"ticks\": \"outside\", \"title\": {\"standoff\": 15}, \"zeroline\": false, \"zerolinecolor\": \"rgb(36,36,36)\"}, \"yaxis\": {\"automargin\": true, \"gridcolor\": \"rgb(232,232,232)\", \"linecolor\": \"rgb(36,36,36)\", \"showgrid\": false, \"showline\": true, \"ticks\": \"outside\", \"title\": {\"standoff\": 15}, \"zeroline\": false, \"zerolinecolor\": \"rgb(36,36,36)\"}}}, \"title\": {\"text\": \"\"}, \"updatemenus\": [{\"direction\": \"down\", \"pad\": {\"r\": 10, \"t\": 10}, \"showactive\": true, \"x\": 0.11, \"xanchor\": \"left\", \"y\": 1.1, \"yanchor\": \"top\"}], \"xaxis\": {\"showgrid\": false, \"showline\": false, \"showticklabels\": false, \"ticks\": \"\", \"title\": {\"text\": \"\"}, \"zeroline\": false}, \"yaxis\": {\"showgrid\": false, \"showline\": false, \"showticklabels\": false, \"ticks\": \"\", \"title\": {\"text\": \"\"}, \"zeroline\": false}},                        {\"scrollZoom\": true, \"responsive\": true}                    ).then(function(){\n",
              "                            \n",
              "var gd = document.getElementById('f34dd3af-c917-42ac-940b-23936a8a7aab');\n",
              "var x = new MutationObserver(function (mutations, observer) {{\n",
              "        var display = window.getComputedStyle(gd).display;\n",
              "        if (!display || display === 'none') {{\n",
              "            console.log([gd, 'removed!']);\n",
              "            Plotly.purge(gd);\n",
              "            observer.disconnect();\n",
              "        }}\n",
              "}});\n",
              "\n",
              "// Listen for the removal of the full notebook cells\n",
              "var notebookContainer = gd.closest('#notebook-container');\n",
              "if (notebookContainer) {{\n",
              "    x.observe(notebookContainer, {childList: true});\n",
              "}}\n",
              "\n",
              "// Listen for the clearing of the current output cell\n",
              "var outputEl = gd.closest('.output');\n",
              "if (outputEl) {{\n",
              "    x.observe(outputEl, {childList: true});\n",
              "}}\n",
              "\n",
              "                        })                };                            </script>        </div>\n",
              "</body>\n",
              "</html>"
            ]
          },
          "metadata": {
            "tags": []
          }
        }
      ]
    },
    {
      "cell_type": "code",
      "metadata": {
        "colab": {
          "base_uri": "https://localhost:8080/",
          "height": 542
        },
        "id": "AQjSJoAXR6Ck",
        "outputId": "b7c01d8a-adc8-4dee-e4d9-dbc25ce84401"
      },
      "source": [
        "plotly_params = {\"node_trace\": {\"marker_colorscale\": \"RdBu\"}}\n",
        "fig = plot_static_mapper_graph(pipe_mapper,\n",
        "                               intermediate_output_0, \n",
        "                               layout='fruchterman_reingold',\n",
        "                               #color_by_columns_dropdown=True,\n",
        "                               color_variable =clean['pIC50'],\n",
        "                               node_scale =20,\n",
        "                               plotly_params=plotly_params)\n",
        "fig.show(config={'scrollZoom': True})"
      ],
      "execution_count": 25,
      "outputs": [
        {
          "output_type": "display_data",
          "data": {
            "text/html": [
              "<html>\n",
              "<head><meta charset=\"utf-8\" /></head>\n",
              "<body>\n",
              "    <div>            <script src=\"https://cdnjs.cloudflare.com/ajax/libs/mathjax/2.7.5/MathJax.js?config=TeX-AMS-MML_SVG\"></script><script type=\"text/javascript\">if (window.MathJax) {MathJax.Hub.Config({SVG: {font: \"STIX-Web\"}});}</script>                <script type=\"text/javascript\">window.PlotlyConfig = {MathJaxConfig: 'local'};</script>\n",
              "        <script src=\"https://cdn.plot.ly/plotly-latest.min.js\"></script>                <div id=\"e5c06c7d-99bb-45eb-8854-3f5ecc01f112\" class=\"plotly-graph-div\" style=\"height:525px; width:100%;\"></div>            <script type=\"text/javascript\">                                    window.PLOTLYENV=window.PLOTLYENV || {};                                    if (document.getElementById(\"e5c06c7d-99bb-45eb-8854-3f5ecc01f112\")) {                    Plotly.newPlot(                        \"e5c06c7d-99bb-45eb-8854-3f5ecc01f112\",                        [{\"hoverinfo\": \"none\", \"line\": {\"color\": \"#888\", \"width\": 1}, \"mode\": \"lines\", \"name\": \"edge_trace\", \"type\": \"scatter\", \"uid\": \"a0909a35-2429-49c3-9fda-f7555157940a\", \"x\": [4.5707713235248635, 4.635610409075688, null, 4.635610409075688, 4.7809411588483925, null, 4.7809411588483925, 5.2292432768996875, null, -4.500941252334109, -4.52030573374765, null, 5.2292432768996875, 5.543406982027462, null, -1.039778689694397, -2.113698639915559, null, -1.039778689694397, 0.11896467612407709, null, -2.113698639915559, -3.114646678112571, null, 0.9102684647934826, 0.9979813949013535, null, 0.9102684647934826, 0.784288300873306, null, 0.9979813949013535, 0.7731118345417632, null, 0.14612737908271384, 1.0848385802580123, null, 0.14612737908271384, -0.8262290124847634, null, -1.6692459562942998, -0.8468869944075874, null, -1.6692459562942998, -2.5455496435828673, null, -3.7808690920585826, -3.2531232504636525, null, 3.6007614196229554, 3.307835042830792, null, -0.9611412206343775, -0.1607061060332654, null, -0.1607061060332654, 0.784288300873306, null, 1.1050118990067495, 0.5785317070348747, null, 1.1050118990067495, 2.076693713682172, null, 0.5785317070348747, 0.11896467612407709, null, 4.292641979465787, 3.515103940754503, null, 0.784288300873306, 1.643850511710515, null, 0.7731118345417632, 0.11896467612407709, null, -2.5455496435828673, -3.3615340933947215, null, -2.9370052904417534, -2.077533548721013, null, 2.076693713682172, 2.806676836156837, null, 2.8403079195057748, 2.806676836156837, null], \"y\": [-2.0274929926224123, -1.1198607200410393, null, -1.1198607200410393, -0.1954745079047702, null, -0.1954745079047702, 0.6411648820866563, null, 0.6579332198329247, 1.5499148100190376, null, 0.6411648820866563, 1.4950416857850257, null, -0.791115241971735, -0.49480525742281684, null, -0.791115241971735, -1.095941203363193, null, -0.49480525742281684, -0.37889283893166015, null, 2.0575748653373434, 0.9549043970274798, null, 2.0575748653373434, 3.2027602370322903, null, 0.9549043970274798, -0.12152498790672613, null, 6.0605744507141335, 6.008455384973736, null, 6.0605744507141335, 6.043933419503977, null, -3.193750734748263, -3.7019704417552157, null, -3.193750734748263, -2.6468334632250983, null, 3.870471606930048, 4.632148067968807, null, 2.2558698288239034, 1.4145108947097491, null, 4.387786845793387, 3.7932539757148382, null, 3.7932539757148382, 3.2027602370322903, null, -3.1717127671883047, -2.2014096306598927, null, -3.1717127671883047, -3.449106733984627, null, -2.2014096306598927, -1.095941203363193, null, 4.574008918627573, 4.283561783630881, null, 3.2027602370322903, 3.8149318560417047, null, -0.12152498790672613, -1.095941203363193, null, -2.6468334632250983, -2.0963834581909766, null, 1.9055797164467816, 1.7299275037429718, null, -3.449106733984627, -2.7571795931839014, null, -1.7563713525564826, -2.7571795931839014, null]}, {\"hoverinfo\": \"text\", \"hovertext\": [\"Node ID: 0<br>Pullback set label: 0<br>Partial cluster label: 0<br>Node size: 5<br>Summary statistic: -1.07\", \"Node ID: 1<br>Pullback set label: 1<br>Partial cluster label: -1<br>Node size: 2<br>Summary statistic: -0.739\", \"Node ID: 2<br>Pullback set label: 2<br>Partial cluster label: 0<br>Node size: 2<br>Summary statistic: -1.09\", \"Node ID: 3<br>Pullback set label: 1<br>Partial cluster label: 0<br>Node size: 3<br>Summary statistic: -1.48\", \"Node ID: 4<br>Pullback set label: 2<br>Partial cluster label: 1<br>Node size: 3<br>Summary statistic: -1.48\", \"Node ID: 5<br>Pullback set label: 3<br>Partial cluster label: -1<br>Node size: 2<br>Summary statistic: -0.327\", \"Node ID: 6<br>Pullback set label: 7<br>Partial cluster label: -1<br>Node size: 3<br>Summary statistic: -0.0769\", \"Node ID: 7<br>Pullback set label: 8<br>Partial cluster label: -1<br>Node size: 3<br>Summary statistic: -0.979\", \"Node ID: 8<br>Pullback set label: 16<br>Partial cluster label: -1<br>Node size: 2<br>Summary statistic: -1.17\", \"Node ID: 9<br>Pullback set label: 3<br>Partial cluster label: 0<br>Node size: 4<br>Summary statistic: -1.63\", \"Node ID: 10<br>Pullback set label: 4<br>Partial cluster label: 0<br>Node size: 2<br>Summary statistic: -1.45\", \"Node ID: 11<br>Pullback set label: 0<br>Partial cluster label: 1<br>Node size: 6<br>Summary statistic: -1.69\", \"Node ID: 12<br>Pullback set label: 11<br>Partial cluster label: 0<br>Node size: 3<br>Summary statistic: -1.31\", \"Node ID: 13<br>Pullback set label: 12<br>Partial cluster label: -1<br>Node size: 1<br>Summary statistic: -1.78\", \"Node ID: 14<br>Pullback set label: 13<br>Partial cluster label: -1<br>Node size: 2<br>Summary statistic: -0.811\", \"Node ID: 15<br>Pullback set label: 14<br>Partial cluster label: -1<br>Node size: 1<br>Summary statistic: -1.78\", \"Node ID: 16<br>Pullback set label: 6<br>Partial cluster label: 0<br>Node size: 2<br>Summary statistic: -2.42\", \"Node ID: 17<br>Pullback set label: 7<br>Partial cluster label: 0<br>Node size: 2<br>Summary statistic: -2.42\", \"Node ID: 18<br>Pullback set label: 8<br>Partial cluster label: 0<br>Node size: 2<br>Summary statistic: -1.95\", \"Node ID: 19<br>Pullback set label: 9<br>Partial cluster label: 0<br>Node size: 2<br>Summary statistic: -1.95\", \"Node ID: 20<br>Pullback set label: 0<br>Partial cluster label: -1<br>Node size: 2<br>Summary statistic: -1.82\", \"Node ID: 21<br>Pullback set label: 0<br>Partial cluster label: 2<br>Node size: 25<br>Summary statistic: -1.03\", \"Node ID: 22<br>Pullback set label: 1<br>Partial cluster label: 1<br>Node size: 14<br>Summary statistic: -0.599\", \"Node ID: 23<br>Pullback set label: 4<br>Partial cluster label: 1<br>Node size: 3<br>Summary statistic: -1.48\", \"Node ID: 24<br>Pullback set label: 5<br>Partial cluster label: 0<br>Node size: 2<br>Summary statistic: -1.74\", \"Node ID: 25<br>Pullback set label: 1<br>Partial cluster label: 2<br>Node size: 3<br>Summary statistic: -1.26\", \"Node ID: 26<br>Pullback set label: 2<br>Partial cluster label: 2<br>Node size: 3<br>Summary statistic: -1.26\", \"Node ID: 27<br>Pullback set label: 2<br>Partial cluster label: 3<br>Node size: 12<br>Summary statistic: -0.687\", \"Node ID: 28<br>Pullback set label: 2<br>Partial cluster label: -1<br>Node size: 1<br>Summary statistic: 0.523\", \"Node ID: 29<br>Pullback set label: 5<br>Partial cluster label: -1<br>Node size: 2<br>Summary statistic: -1.04\", \"Node ID: 30<br>Pullback set label: 6<br>Partial cluster label: -1<br>Node size: 3<br>Summary statistic: -0.194\", \"Node ID: 31<br>Pullback set label: 3<br>Partial cluster label: 1<br>Node size: 2<br>Summary statistic: -1.26\", \"Node ID: 32<br>Pullback set label: 14<br>Partial cluster label: 0<br>Node size: 3<br>Summary statistic: -0.22\", \"Node ID: 33<br>Pullback set label: 15<br>Partial cluster label: 0<br>Node size: 2<br>Summary statistic: -0.408\", \"Node ID: 34<br>Pullback set label: 8<br>Partial cluster label: 1<br>Node size: 3<br>Summary statistic: 0.516\", \"Node ID: 35<br>Pullback set label: 9<br>Partial cluster label: 1<br>Node size: 3<br>Summary statistic: 0.516\", \"Node ID: 36<br>Pullback set label: 3<br>Partial cluster label: 2<br>Node size: 4<br>Summary statistic: -0.949\", \"Node ID: 37<br>Pullback set label: 9<br>Partial cluster label: -1<br>Node size: 1<br>Summary statistic: -1.51\", \"Node ID: 38<br>Pullback set label: 1<br>Partial cluster label: 3<br>Node size: 3<br>Summary statistic: -1.47\", \"Node ID: 39<br>Pullback set label: 2<br>Partial cluster label: 4<br>Node size: 5<br>Summary statistic: -1.25\", \"Node ID: 40<br>Pullback set label: 10<br>Partial cluster label: 0<br>Node size: 2<br>Summary statistic: -1.07\"], \"marker\": {\"color\": [-1.0692999342, -0.7385606275000001, -1.0880456295, -1.4805859863333335, -1.4805859863333335, -0.32660625700000007, -0.07690143766666664, -0.9791993746666666, -1.1719995345, -1.6323575885000001, -1.4515449935, -1.6883889615, -1.3082149566666668, -1.77815125, -0.810692014, -1.77815125, -2.42254902, -2.42254902, -1.950838116, -1.950838116, -1.820489029, -1.0255727986399998, -0.5987769912142857, -1.4761888683333335, -1.740075363, -1.261301193, -1.261301193, -0.6866203012500001, 0.522878745, -1.039590623, -0.19350709000000002, -1.2577713505, -0.22004553899999998, -0.4084519195, 0.5163593263333334, 0.5163593263333334, -0.9489619905000001, -1.50623436, -1.4650281143333335, -1.2478973910000002, -1.07324681], \"colorbar\": {\"thickness\": 15, \"title\": {\"side\": \"right\", \"text\": \"\"}, \"xanchor\": \"left\"}, \"colorscale\": [[0.0, \"rgb(103,0,31)\"], [0.1, \"rgb(178,24,43)\"], [0.2, \"rgb(214,96,77)\"], [0.3, \"rgb(244,165,130)\"], [0.4, \"rgb(253,219,199)\"], [0.5, \"rgb(247,247,247)\"], [0.6, \"rgb(209,229,240)\"], [0.7, \"rgb(146,197,222)\"], [0.8, \"rgb(67,147,195)\"], [0.9, \"rgb(33,102,172)\"], [1.0, \"rgb(5,48,97)\"]], \"line\": {\"color\": \"#888\", \"width\": 1}, \"opacity\": 1.0, \"reversescale\": false, \"showscale\": true, \"size\": [5, 2, 2, 3, 3, 2, 3, 3, 2, 4, 2, 6, 3, 1, 2, 1, 2, 2, 2, 2, 2, 25, 14, 3, 2, 3, 3, 12, 1, 2, 3, 2, 3, 2, 3, 3, 4, 1, 3, 5, 2], \"sizemin\": 4, \"sizemode\": \"area\", \"sizeref\": 0.125}, \"mode\": \"markers\", \"name\": \"node_trace\", \"type\": \"scatter\", \"uid\": \"8c19db5e-4d30-451f-a411-ac39f77bbb84\", \"x\": [4.5707713235248635, 4.635610409075688, 4.7809411588483925, -4.500941252334109, -4.52030573374765, 5.2292432768996875, -1.039778689694397, -2.113698639915559, 5.225398827497977, 0.9102684647934826, 0.9979813949013535, 2.7355929527073446, 0.14612737908271384, 1.0848385802580123, -1.6692459562942998, -0.8468869944075874, -3.7808690920585826, -3.2531232504636525, 3.6007614196229554, 3.307835042830792, -2.2827666273562612, -0.9611412206343775, -0.1607061060332654, 1.1050118990067495, 0.5785317070348747, 4.292641979465787, 3.515103940754503, 0.784288300873306, 5.543406982027462, 0.7731118345417632, 0.11896467612407709, 1.643850511710515, -2.5455496435828673, -3.3615340933947215, -2.9370052904417534, -2.077533548721013, 2.076693713682172, -3.114646678112571, 2.8403079195057748, 2.806676836156837, -0.8262290124847634], \"y\": [-2.0274929926224123, -1.1198607200410393, -0.1954745079047702, 0.6579332198329247, 1.5499148100190376, 0.6411648820866563, -0.791115241971735, -0.49480525742281684, 3.170967060689982, 2.0575748653373434, 0.9549043970274798, 5.728895253076054, 6.0605744507141335, 6.008455384973736, -3.193750734748263, -3.7019704417552157, 3.870471606930048, 4.632148067968807, 2.2558698288239034, 1.4145108947097491, 3.5750417697050665, 4.387786845793387, 3.7932539757148382, -3.1717127671883047, -2.2014096306598927, 4.574008918627573, 4.283561783630881, 3.2027602370322903, 1.4950416857850257, -0.12152498790672613, -1.095941203363193, 3.8149318560417047, -2.6468334632250983, -2.0963834581909766, 1.9055797164467816, 1.7299275037429718, -3.449106733984627, -0.37889283893166015, -1.7563713525564826, -2.7571795931839014, 6.043933419503977]}],                        {\"autosize\": false, \"hovermode\": \"closest\", \"margin\": {\"b\": 20, \"l\": 5, \"r\": 5, \"t\": 40}, \"showlegend\": false, \"template\": {\"data\": {\"bar\": [{\"error_x\": {\"color\": \"rgb(36,36,36)\"}, \"error_y\": {\"color\": \"rgb(36,36,36)\"}, \"marker\": {\"line\": {\"color\": \"white\", \"width\": 0.5}}, \"type\": \"bar\"}], \"barpolar\": [{\"marker\": {\"line\": {\"color\": \"white\", \"width\": 0.5}}, \"type\": \"barpolar\"}], \"carpet\": [{\"aaxis\": {\"endlinecolor\": \"rgb(36,36,36)\", \"gridcolor\": \"white\", \"linecolor\": \"white\", \"minorgridcolor\": \"white\", \"startlinecolor\": \"rgb(36,36,36)\"}, \"baxis\": {\"endlinecolor\": \"rgb(36,36,36)\", \"gridcolor\": \"white\", \"linecolor\": \"white\", \"minorgridcolor\": \"white\", \"startlinecolor\": \"rgb(36,36,36)\"}, \"type\": \"carpet\"}], \"choropleth\": [{\"colorbar\": {\"outlinewidth\": 1, \"tickcolor\": \"rgb(36,36,36)\", \"ticks\": \"outside\"}, \"type\": \"choropleth\"}], \"contour\": [{\"colorbar\": {\"outlinewidth\": 1, \"tickcolor\": \"rgb(36,36,36)\", \"ticks\": \"outside\"}, \"colorscale\": [[0.0, \"#440154\"], [0.1111111111111111, \"#482878\"], [0.2222222222222222, \"#3e4989\"], [0.3333333333333333, \"#31688e\"], [0.4444444444444444, \"#26828e\"], [0.5555555555555556, \"#1f9e89\"], [0.6666666666666666, \"#35b779\"], [0.7777777777777778, \"#6ece58\"], [0.8888888888888888, \"#b5de2b\"], [1.0, \"#fde725\"]], \"type\": \"contour\"}], \"contourcarpet\": [{\"colorbar\": {\"outlinewidth\": 1, \"tickcolor\": \"rgb(36,36,36)\", \"ticks\": \"outside\"}, \"type\": \"contourcarpet\"}], \"heatmap\": [{\"colorbar\": {\"outlinewidth\": 1, \"tickcolor\": \"rgb(36,36,36)\", \"ticks\": \"outside\"}, \"colorscale\": [[0.0, \"#440154\"], [0.1111111111111111, \"#482878\"], [0.2222222222222222, \"#3e4989\"], [0.3333333333333333, \"#31688e\"], [0.4444444444444444, \"#26828e\"], [0.5555555555555556, \"#1f9e89\"], [0.6666666666666666, \"#35b779\"], [0.7777777777777778, \"#6ece58\"], [0.8888888888888888, \"#b5de2b\"], [1.0, \"#fde725\"]], \"type\": \"heatmap\"}], \"heatmapgl\": [{\"colorbar\": {\"outlinewidth\": 1, \"tickcolor\": \"rgb(36,36,36)\", \"ticks\": \"outside\"}, \"colorscale\": [[0.0, \"#440154\"], [0.1111111111111111, \"#482878\"], [0.2222222222222222, \"#3e4989\"], [0.3333333333333333, \"#31688e\"], [0.4444444444444444, \"#26828e\"], [0.5555555555555556, \"#1f9e89\"], [0.6666666666666666, \"#35b779\"], [0.7777777777777778, \"#6ece58\"], [0.8888888888888888, \"#b5de2b\"], [1.0, \"#fde725\"]], \"type\": \"heatmapgl\"}], \"histogram\": [{\"marker\": {\"line\": {\"color\": \"white\", \"width\": 0.6}}, \"type\": \"histogram\"}], \"histogram2d\": [{\"colorbar\": {\"outlinewidth\": 1, \"tickcolor\": \"rgb(36,36,36)\", \"ticks\": \"outside\"}, \"colorscale\": [[0.0, \"#440154\"], [0.1111111111111111, \"#482878\"], [0.2222222222222222, \"#3e4989\"], [0.3333333333333333, \"#31688e\"], [0.4444444444444444, \"#26828e\"], [0.5555555555555556, \"#1f9e89\"], [0.6666666666666666, \"#35b779\"], [0.7777777777777778, \"#6ece58\"], [0.8888888888888888, \"#b5de2b\"], [1.0, \"#fde725\"]], \"type\": \"histogram2d\"}], \"histogram2dcontour\": [{\"colorbar\": {\"outlinewidth\": 1, \"tickcolor\": \"rgb(36,36,36)\", \"ticks\": \"outside\"}, \"colorscale\": [[0.0, \"#440154\"], [0.1111111111111111, \"#482878\"], [0.2222222222222222, \"#3e4989\"], [0.3333333333333333, \"#31688e\"], [0.4444444444444444, \"#26828e\"], [0.5555555555555556, \"#1f9e89\"], [0.6666666666666666, \"#35b779\"], [0.7777777777777778, \"#6ece58\"], [0.8888888888888888, \"#b5de2b\"], [1.0, \"#fde725\"]], \"type\": \"histogram2dcontour\"}], \"mesh3d\": [{\"colorbar\": {\"outlinewidth\": 1, \"tickcolor\": \"rgb(36,36,36)\", \"ticks\": \"outside\"}, \"type\": \"mesh3d\"}], \"parcoords\": [{\"line\": {\"colorbar\": {\"outlinewidth\": 1, \"tickcolor\": \"rgb(36,36,36)\", \"ticks\": \"outside\"}}, \"type\": \"parcoords\"}], \"pie\": [{\"automargin\": true, \"type\": \"pie\"}], \"scatter\": [{\"marker\": {\"colorbar\": {\"outlinewidth\": 1, \"tickcolor\": \"rgb(36,36,36)\", \"ticks\": \"outside\"}}, \"type\": \"scatter\"}], \"scatter3d\": [{\"line\": {\"colorbar\": {\"outlinewidth\": 1, \"tickcolor\": \"rgb(36,36,36)\", \"ticks\": \"outside\"}}, \"marker\": {\"colorbar\": {\"outlinewidth\": 1, \"tickcolor\": \"rgb(36,36,36)\", \"ticks\": \"outside\"}}, \"type\": \"scatter3d\"}], \"scattercarpet\": [{\"marker\": {\"colorbar\": {\"outlinewidth\": 1, \"tickcolor\": \"rgb(36,36,36)\", \"ticks\": \"outside\"}}, \"type\": \"scattercarpet\"}], \"scattergeo\": [{\"marker\": {\"colorbar\": {\"outlinewidth\": 1, \"tickcolor\": \"rgb(36,36,36)\", \"ticks\": \"outside\"}}, \"type\": \"scattergeo\"}], \"scattergl\": [{\"marker\": {\"colorbar\": {\"outlinewidth\": 1, \"tickcolor\": \"rgb(36,36,36)\", \"ticks\": \"outside\"}}, \"type\": \"scattergl\"}], \"scattermapbox\": [{\"marker\": {\"colorbar\": {\"outlinewidth\": 1, \"tickcolor\": \"rgb(36,36,36)\", \"ticks\": \"outside\"}}, \"type\": \"scattermapbox\"}], \"scatterpolar\": [{\"marker\": {\"colorbar\": {\"outlinewidth\": 1, \"tickcolor\": \"rgb(36,36,36)\", \"ticks\": \"outside\"}}, \"type\": \"scatterpolar\"}], \"scatterpolargl\": [{\"marker\": {\"colorbar\": {\"outlinewidth\": 1, \"tickcolor\": \"rgb(36,36,36)\", \"ticks\": \"outside\"}}, \"type\": \"scatterpolargl\"}], \"scatterternary\": [{\"marker\": {\"colorbar\": {\"outlinewidth\": 1, \"tickcolor\": \"rgb(36,36,36)\", \"ticks\": \"outside\"}}, \"type\": \"scatterternary\"}], \"surface\": [{\"colorbar\": {\"outlinewidth\": 1, \"tickcolor\": \"rgb(36,36,36)\", \"ticks\": \"outside\"}, \"colorscale\": [[0.0, \"#440154\"], [0.1111111111111111, \"#482878\"], [0.2222222222222222, \"#3e4989\"], [0.3333333333333333, \"#31688e\"], [0.4444444444444444, \"#26828e\"], [0.5555555555555556, \"#1f9e89\"], [0.6666666666666666, \"#35b779\"], [0.7777777777777778, \"#6ece58\"], [0.8888888888888888, \"#b5de2b\"], [1.0, \"#fde725\"]], \"type\": \"surface\"}], \"table\": [{\"cells\": {\"fill\": {\"color\": \"rgb(237,237,237)\"}, \"line\": {\"color\": \"white\"}}, \"header\": {\"fill\": {\"color\": \"rgb(217,217,217)\"}, \"line\": {\"color\": \"white\"}}, \"type\": \"table\"}]}, \"layout\": {\"annotationdefaults\": {\"arrowhead\": 0, \"arrowwidth\": 1}, \"autotypenumbers\": \"strict\", \"coloraxis\": {\"colorbar\": {\"outlinewidth\": 1, \"tickcolor\": \"rgb(36,36,36)\", \"ticks\": \"outside\"}}, \"colorscale\": {\"diverging\": [[0.0, \"rgb(103,0,31)\"], [0.1, \"rgb(178,24,43)\"], [0.2, \"rgb(214,96,77)\"], [0.3, \"rgb(244,165,130)\"], [0.4, \"rgb(253,219,199)\"], [0.5, \"rgb(247,247,247)\"], [0.6, \"rgb(209,229,240)\"], [0.7, \"rgb(146,197,222)\"], [0.8, \"rgb(67,147,195)\"], [0.9, \"rgb(33,102,172)\"], [1.0, \"rgb(5,48,97)\"]], \"sequential\": [[0.0, \"#440154\"], [0.1111111111111111, \"#482878\"], [0.2222222222222222, \"#3e4989\"], [0.3333333333333333, \"#31688e\"], [0.4444444444444444, \"#26828e\"], [0.5555555555555556, \"#1f9e89\"], [0.6666666666666666, \"#35b779\"], [0.7777777777777778, \"#6ece58\"], [0.8888888888888888, \"#b5de2b\"], [1.0, \"#fde725\"]], \"sequentialminus\": [[0.0, \"#440154\"], [0.1111111111111111, \"#482878\"], [0.2222222222222222, \"#3e4989\"], [0.3333333333333333, \"#31688e\"], [0.4444444444444444, \"#26828e\"], [0.5555555555555556, \"#1f9e89\"], [0.6666666666666666, \"#35b779\"], [0.7777777777777778, \"#6ece58\"], [0.8888888888888888, \"#b5de2b\"], [1.0, \"#fde725\"]]}, \"colorway\": [\"#1F77B4\", \"#FF7F0E\", \"#2CA02C\", \"#D62728\", \"#9467BD\", \"#8C564B\", \"#E377C2\", \"#7F7F7F\", \"#BCBD22\", \"#17BECF\"], \"font\": {\"color\": \"rgb(36,36,36)\"}, \"geo\": {\"bgcolor\": \"white\", \"lakecolor\": \"white\", \"landcolor\": \"white\", \"showlakes\": true, \"showland\": true, \"subunitcolor\": \"white\"}, \"hoverlabel\": {\"align\": \"left\"}, \"hovermode\": \"closest\", \"mapbox\": {\"style\": \"light\"}, \"paper_bgcolor\": \"white\", \"plot_bgcolor\": \"white\", \"polar\": {\"angularaxis\": {\"gridcolor\": \"rgb(232,232,232)\", \"linecolor\": \"rgb(36,36,36)\", \"showgrid\": false, \"showline\": true, \"ticks\": \"outside\"}, \"bgcolor\": \"white\", \"radialaxis\": {\"gridcolor\": \"rgb(232,232,232)\", \"linecolor\": \"rgb(36,36,36)\", \"showgrid\": false, \"showline\": true, \"ticks\": \"outside\"}}, \"scene\": {\"xaxis\": {\"backgroundcolor\": \"white\", \"gridcolor\": \"rgb(232,232,232)\", \"gridwidth\": 2, \"linecolor\": \"rgb(36,36,36)\", \"showbackground\": true, \"showgrid\": false, \"showline\": true, \"ticks\": \"outside\", \"zeroline\": false, \"zerolinecolor\": \"rgb(36,36,36)\"}, \"yaxis\": {\"backgroundcolor\": \"white\", \"gridcolor\": \"rgb(232,232,232)\", \"gridwidth\": 2, \"linecolor\": \"rgb(36,36,36)\", \"showbackground\": true, \"showgrid\": false, \"showline\": true, \"ticks\": \"outside\", \"zeroline\": false, \"zerolinecolor\": \"rgb(36,36,36)\"}, \"zaxis\": {\"backgroundcolor\": \"white\", \"gridcolor\": \"rgb(232,232,232)\", \"gridwidth\": 2, \"linecolor\": \"rgb(36,36,36)\", \"showbackground\": true, \"showgrid\": false, \"showline\": true, \"ticks\": \"outside\", \"zeroline\": false, \"zerolinecolor\": \"rgb(36,36,36)\"}}, \"shapedefaults\": {\"fillcolor\": \"black\", \"line\": {\"width\": 0}, \"opacity\": 0.3}, \"ternary\": {\"aaxis\": {\"gridcolor\": \"rgb(232,232,232)\", \"linecolor\": \"rgb(36,36,36)\", \"showgrid\": false, \"showline\": true, \"ticks\": \"outside\"}, \"baxis\": {\"gridcolor\": \"rgb(232,232,232)\", \"linecolor\": \"rgb(36,36,36)\", \"showgrid\": false, \"showline\": true, \"ticks\": \"outside\"}, \"bgcolor\": \"white\", \"caxis\": {\"gridcolor\": \"rgb(232,232,232)\", \"linecolor\": \"rgb(36,36,36)\", \"showgrid\": false, \"showline\": true, \"ticks\": \"outside\"}}, \"title\": {\"x\": 0.05}, \"xaxis\": {\"automargin\": true, \"gridcolor\": \"rgb(232,232,232)\", \"linecolor\": \"rgb(36,36,36)\", \"showgrid\": false, \"showline\": true, \"ticks\": \"outside\", \"title\": {\"standoff\": 15}, \"zeroline\": false, \"zerolinecolor\": \"rgb(36,36,36)\"}, \"yaxis\": {\"automargin\": true, \"gridcolor\": \"rgb(232,232,232)\", \"linecolor\": \"rgb(36,36,36)\", \"showgrid\": false, \"showline\": true, \"ticks\": \"outside\", \"title\": {\"standoff\": 15}, \"zeroline\": false, \"zerolinecolor\": \"rgb(36,36,36)\"}}}, \"title\": {\"text\": \"\"}, \"updatemenus\": [{\"direction\": \"down\", \"pad\": {\"r\": 10, \"t\": 10}, \"showactive\": true, \"x\": 0.11, \"xanchor\": \"left\", \"y\": 1.1, \"yanchor\": \"top\"}], \"xaxis\": {\"showgrid\": false, \"showline\": false, \"showticklabels\": false, \"ticks\": \"\", \"title\": {\"text\": \"\"}, \"zeroline\": false}, \"yaxis\": {\"showgrid\": false, \"showline\": false, \"showticklabels\": false, \"ticks\": \"\", \"title\": {\"text\": \"\"}, \"zeroline\": false}},                        {\"scrollZoom\": true, \"responsive\": true}                    ).then(function(){\n",
              "                            \n",
              "var gd = document.getElementById('e5c06c7d-99bb-45eb-8854-3f5ecc01f112');\n",
              "var x = new MutationObserver(function (mutations, observer) {{\n",
              "        var display = window.getComputedStyle(gd).display;\n",
              "        if (!display || display === 'none') {{\n",
              "            console.log([gd, 'removed!']);\n",
              "            Plotly.purge(gd);\n",
              "            observer.disconnect();\n",
              "        }}\n",
              "}});\n",
              "\n",
              "// Listen for the removal of the full notebook cells\n",
              "var notebookContainer = gd.closest('#notebook-container');\n",
              "if (notebookContainer) {{\n",
              "    x.observe(notebookContainer, {childList: true});\n",
              "}}\n",
              "\n",
              "// Listen for the clearing of the current output cell\n",
              "var outputEl = gd.closest('.output');\n",
              "if (outputEl) {{\n",
              "    x.observe(outputEl, {childList: true});\n",
              "}}\n",
              "\n",
              "                        })                };                            </script>        </div>\n",
              "</body>\n",
              "</html>"
            ]
          },
          "metadata": {
            "tags": []
          }
        }
      ]
    },
    {
      "cell_type": "code",
      "metadata": {
        "colab": {
          "base_uri": "https://localhost:8080/",
          "height": 542
        },
        "id": "bY9L6haPTlOH",
        "outputId": "7071a3c6-7686-4838-98db-fc3584bab742"
      },
      "source": [
        "plotly_params = {\"node_trace\": {\"marker_colorscale\": \"RdBu\"}}\n",
        "fig = plot_static_mapper_graph(pipe_mapper,\n",
        "                               intermediate_output_1, \n",
        "                               layout='fruchterman_reingold',\n",
        "                               #color_by_columns_dropdown=True,\n",
        "                               color_variable =clean['pIC50'],\n",
        "                               node_scale =20,\n",
        "                               plotly_params=plotly_params)\n",
        "fig.show(config={'scrollZoom': True})"
      ],
      "execution_count": 26,
      "outputs": [
        {
          "output_type": "display_data",
          "data": {
            "text/html": [
              "<html>\n",
              "<head><meta charset=\"utf-8\" /></head>\n",
              "<body>\n",
              "    <div>            <script src=\"https://cdnjs.cloudflare.com/ajax/libs/mathjax/2.7.5/MathJax.js?config=TeX-AMS-MML_SVG\"></script><script type=\"text/javascript\">if (window.MathJax) {MathJax.Hub.Config({SVG: {font: \"STIX-Web\"}});}</script>                <script type=\"text/javascript\">window.PlotlyConfig = {MathJaxConfig: 'local'};</script>\n",
              "        <script src=\"https://cdn.plot.ly/plotly-latest.min.js\"></script>                <div id=\"47562cf1-9a80-4d35-a01b-4c60f62fd146\" class=\"plotly-graph-div\" style=\"height:525px; width:100%;\"></div>            <script type=\"text/javascript\">                                    window.PLOTLYENV=window.PLOTLYENV || {};                                    if (document.getElementById(\"47562cf1-9a80-4d35-a01b-4c60f62fd146\")) {                    Plotly.newPlot(                        \"47562cf1-9a80-4d35-a01b-4c60f62fd146\",                        [{\"hoverinfo\": \"none\", \"line\": {\"color\": \"#888\", \"width\": 1}, \"mode\": \"lines\", \"name\": \"edge_trace\", \"type\": \"scatter\", \"uid\": \"2107f67d-20b5-4328-9276-d74dc4ce03d3\", \"x\": [2.685675659705944, 3.4803987027152283, null, 2.685675659705944, 1.7046122892103157, null, 3.4803987027152283, 4.167890417093406, null, 4.167890417093406, 2.9449085982321384, null, -3.0772324179877977, -2.522804243591575, null, -3.0772324179877977, -2.923014796716609, null, -2.522804243591575, -1.568565328249876, null, 0.5232711264160588, 1.0250975564889162, null, -0.39114130091965266, -1.453600897749544, null, -0.39114130091965266, 0.7130484006710998, null, -1.453600897749544, -2.3335306887739815, null, -1.814877950469293, -2.6437781048758784, null, -1.814877950469293, -1.019631768251217, null, -0.013074920588917025, -0.7012840530391715, null, -0.013074920588917025, 0.9092620536408721, null, 2.2690896000329213, 2.871759168300522, null, 1.7046122892103157, 0.7130484006710998, null, 2.00856398654074, 0.9092620536408721, null, 2.00856398654074, 2.9449085982321384, null, -2.3335306887739815, -2.923014796716609, null], \"y\": [1.946682574015531, 0.6441303064811974, null, 1.946682574015531, 2.806346167474473, null, 0.6441303064811974, 0.8675905222710966, null, 0.8675905222710966, 0.8651414668064941, null, 0.5118606878634522, -0.39278712706302304, null, 0.5118606878634522, 1.588903490374756, null, -0.39278712706302304, -0.9177975579606121, null, -3.0075976448699997, -3.6908527880983115, null, 3.61882921343765, 3.2623907021390006, null, 3.61882921343765, 3.4641649452188576, null, 3.2623907021390006, 2.546124317239677, null, -2.7529862287182696, -2.29442267856135, null, -2.7529862287182696, -3.205416515658623, null, 0.5355415185092733, 1.287120797589268, null, 0.5355415185092733, -0.02384628757558243, null, -2.270810911319736, -2.8710459574242058, null, 2.806346167474473, 3.4641649452188576, null, 0.06425661420627192, -0.02384628757558243, null, 0.06425661420627192, 0.8651414668064941, null, 2.546124317239677, 1.588903490374756, null]}, {\"hoverinfo\": \"text\", \"hovertext\": [\"Node ID: 0<br>Pullback set label: 0<br>Partial cluster label: 0<br>Node size: 41<br>Summary statistic: -1.16\", \"Node ID: 1<br>Pullback set label: 1<br>Partial cluster label: 0<br>Node size: 4<br>Summary statistic: -1.26\", \"Node ID: 2<br>Pullback set label: 2<br>Partial cluster label: 0<br>Node size: 7<br>Summary statistic: -0.985\", \"Node ID: 3<br>Pullback set label: 7<br>Partial cluster label: 0<br>Node size: 4<br>Summary statistic: 0.0915\", \"Node ID: 4<br>Pullback set label: 8<br>Partial cluster label: 0<br>Node size: 4<br>Summary statistic: 0.018\", \"Node ID: 5<br>Pullback set label: 15<br>Partial cluster label: 0<br>Node size: 2<br>Summary statistic: -1.17\", \"Node ID: 6<br>Pullback set label: 3<br>Partial cluster label: 0<br>Node size: 4<br>Summary statistic: -1.63\", \"Node ID: 7<br>Pullback set label: 4<br>Partial cluster label: 0<br>Node size: 4<br>Summary statistic: -1.64\", \"Node ID: 8<br>Pullback set label: 11<br>Partial cluster label: 0<br>Node size: 3<br>Summary statistic: -1.31\", \"Node ID: 9<br>Pullback set label: 12<br>Partial cluster label: -1<br>Node size: 1<br>Summary statistic: -1.78\", \"Node ID: 10<br>Pullback set label: 13<br>Partial cluster label: -1<br>Node size: 1<br>Summary statistic: -1.78\", \"Node ID: 11<br>Pullback set label: 6<br>Partial cluster label: 0<br>Node size: 4<br>Summary statistic: -1.45\", \"Node ID: 12<br>Pullback set label: 7<br>Partial cluster label: 1<br>Node size: 2<br>Summary statistic: -2.42\", \"Node ID: 13<br>Pullback set label: 8<br>Partial cluster label: 1<br>Node size: 3<br>Summary statistic: -1.8\", \"Node ID: 14<br>Pullback set label: 9<br>Partial cluster label: 0<br>Node size: 3<br>Summary statistic: -1.8\", \"Node ID: 15<br>Pullback set label: 1<br>Partial cluster label: 1<br>Node size: 17<br>Summary statistic: -0.742\", \"Node ID: 16<br>Pullback set label: 2<br>Partial cluster label: 1<br>Node size: 14<br>Summary statistic: -0.773\", \"Node ID: 17<br>Pullback set label: 4<br>Partial cluster label: 1<br>Node size: 3<br>Summary statistic: -1.48\", \"Node ID: 18<br>Pullback set label: 5<br>Partial cluster label: 0<br>Node size: 4<br>Summary statistic: -0.971\", \"Node ID: 19<br>Pullback set label: 3<br>Partial cluster label: 1<br>Node size: 5<br>Summary statistic: -0.873\", \"Node ID: 20<br>Pullback set label: 5<br>Partial cluster label: 1<br>Node size: 2<br>Summary statistic: -1.04\", \"Node ID: 21<br>Pullback set label: 6<br>Partial cluster label: 1<br>Node size: 2<br>Summary statistic: 0.211\", \"Node ID: 22<br>Pullback set label: 13<br>Partial cluster label: 0<br>Node size: 3<br>Summary statistic: -0.22\", \"Node ID: 23<br>Pullback set label: 9<br>Partial cluster label: -1<br>Node size: 1<br>Summary statistic: 0.907\", \"Node ID: 24<br>Pullback set label: 10<br>Partial cluster label: 0<br>Node size: 2<br>Summary statistic: -1.07\", \"Node ID: 25<br>Pullback set label: 14<br>Partial cluster label: -1<br>Node size: 1<br>Summary statistic: -0.742\"], \"marker\": {\"color\": [-1.1639455650731703, -1.25705643825, -0.9846713527142859, 0.09150946500000001, 0.01798918100000002, -1.1719995345, -1.6323575885000001, -1.6437969612500003, -1.3082149566666668, -1.77815125, -1.77815125, -1.450592505, -2.42254902, -1.8026368640000001, -1.8026368640000001, -0.7424042163529411, -0.7734550422142857, -1.4761888683333335, -0.9711605857500001, -0.8731339916000002, -1.039590623, 0.21125410049999999, -0.22004553899999998, 0.906578315, -1.07324681, -0.741939078], \"colorbar\": {\"thickness\": 15, \"title\": {\"side\": \"right\", \"text\": \"\"}, \"xanchor\": \"left\"}, \"colorscale\": [[0.0, \"rgb(103,0,31)\"], [0.1, \"rgb(178,24,43)\"], [0.2, \"rgb(214,96,77)\"], [0.3, \"rgb(244,165,130)\"], [0.4, \"rgb(253,219,199)\"], [0.5, \"rgb(247,247,247)\"], [0.6, \"rgb(209,229,240)\"], [0.7, \"rgb(146,197,222)\"], [0.8, \"rgb(67,147,195)\"], [0.9, \"rgb(33,102,172)\"], [1.0, \"rgb(5,48,97)\"]], \"line\": {\"color\": \"#888\", \"width\": 1}, \"opacity\": 1.0, \"reversescale\": false, \"showscale\": true, \"size\": [41, 4, 7, 4, 4, 2, 4, 4, 3, 1, 1, 4, 2, 3, 3, 17, 14, 3, 4, 5, 2, 2, 3, 1, 2, 1], \"sizemin\": 4, \"sizemode\": \"area\", \"sizeref\": 0.205}, \"mode\": \"markers\", \"name\": \"node_trace\", \"type\": \"scatter\", \"uid\": \"9f25ca67-05a9-476e-be8b-f0c35e0e05c6\", \"x\": [2.685675659705944, 3.4803987027152283, 4.167890417093406, -3.0772324179877977, -2.522804243591575, 0.5232711264160588, -0.39114130091965266, -1.453600897749544, -1.814877950469293, -2.6437781048758784, 2.853598047959476, -0.013074920588917025, -0.7012840530391715, 2.2690896000329213, 2.871759168300522, 1.7046122892103157, 0.7130484006710998, 2.00856398654074, 0.9092620536408721, 2.9449085982321384, -2.3335306887739815, -2.923014796716609, 4.083251894292761, -1.568565328249876, -1.019631768251217, 1.0250975564889162], \"y\": [1.946682574015531, 0.6441303064811974, 0.8675905222710966, 0.5118606878634522, -0.39278712706302304, -3.0075976448699997, 3.61882921343765, 3.2623907021390006, -2.7529862287182696, -2.29442267856135, 3.7408141595256392, 0.5355415185092733, 1.287120797589268, -2.270810911319736, -2.8710459574242058, 2.806346167474473, 3.4641649452188576, 0.06425661420627192, -0.02384628757558243, 0.8651414668064941, 2.546124317239677, 1.588903490374756, -1.515368764898831, -0.9177975579606121, -3.205416515658623, -3.6908527880983115]}],                        {\"autosize\": false, \"hovermode\": \"closest\", \"margin\": {\"b\": 20, \"l\": 5, \"r\": 5, \"t\": 40}, \"showlegend\": false, \"template\": {\"data\": {\"bar\": [{\"error_x\": {\"color\": \"rgb(36,36,36)\"}, \"error_y\": {\"color\": \"rgb(36,36,36)\"}, \"marker\": {\"line\": {\"color\": \"white\", \"width\": 0.5}}, \"type\": \"bar\"}], \"barpolar\": [{\"marker\": {\"line\": {\"color\": \"white\", \"width\": 0.5}}, \"type\": \"barpolar\"}], \"carpet\": [{\"aaxis\": {\"endlinecolor\": \"rgb(36,36,36)\", \"gridcolor\": \"white\", \"linecolor\": \"white\", \"minorgridcolor\": \"white\", \"startlinecolor\": \"rgb(36,36,36)\"}, \"baxis\": {\"endlinecolor\": \"rgb(36,36,36)\", \"gridcolor\": \"white\", \"linecolor\": \"white\", \"minorgridcolor\": \"white\", \"startlinecolor\": \"rgb(36,36,36)\"}, \"type\": \"carpet\"}], \"choropleth\": [{\"colorbar\": {\"outlinewidth\": 1, \"tickcolor\": \"rgb(36,36,36)\", \"ticks\": \"outside\"}, \"type\": \"choropleth\"}], \"contour\": [{\"colorbar\": {\"outlinewidth\": 1, \"tickcolor\": \"rgb(36,36,36)\", \"ticks\": \"outside\"}, \"colorscale\": [[0.0, \"#440154\"], [0.1111111111111111, \"#482878\"], [0.2222222222222222, \"#3e4989\"], [0.3333333333333333, \"#31688e\"], [0.4444444444444444, \"#26828e\"], [0.5555555555555556, \"#1f9e89\"], [0.6666666666666666, \"#35b779\"], [0.7777777777777778, \"#6ece58\"], [0.8888888888888888, \"#b5de2b\"], [1.0, \"#fde725\"]], \"type\": \"contour\"}], \"contourcarpet\": [{\"colorbar\": {\"outlinewidth\": 1, \"tickcolor\": \"rgb(36,36,36)\", \"ticks\": \"outside\"}, \"type\": \"contourcarpet\"}], \"heatmap\": [{\"colorbar\": {\"outlinewidth\": 1, \"tickcolor\": \"rgb(36,36,36)\", \"ticks\": \"outside\"}, \"colorscale\": [[0.0, \"#440154\"], [0.1111111111111111, \"#482878\"], [0.2222222222222222, \"#3e4989\"], [0.3333333333333333, \"#31688e\"], [0.4444444444444444, \"#26828e\"], [0.5555555555555556, \"#1f9e89\"], [0.6666666666666666, \"#35b779\"], [0.7777777777777778, \"#6ece58\"], [0.8888888888888888, \"#b5de2b\"], [1.0, \"#fde725\"]], \"type\": \"heatmap\"}], \"heatmapgl\": [{\"colorbar\": {\"outlinewidth\": 1, \"tickcolor\": \"rgb(36,36,36)\", \"ticks\": \"outside\"}, \"colorscale\": [[0.0, \"#440154\"], [0.1111111111111111, \"#482878\"], [0.2222222222222222, \"#3e4989\"], [0.3333333333333333, \"#31688e\"], [0.4444444444444444, \"#26828e\"], [0.5555555555555556, \"#1f9e89\"], [0.6666666666666666, \"#35b779\"], [0.7777777777777778, \"#6ece58\"], [0.8888888888888888, \"#b5de2b\"], [1.0, \"#fde725\"]], \"type\": \"heatmapgl\"}], \"histogram\": [{\"marker\": {\"line\": {\"color\": \"white\", \"width\": 0.6}}, \"type\": \"histogram\"}], \"histogram2d\": [{\"colorbar\": {\"outlinewidth\": 1, \"tickcolor\": \"rgb(36,36,36)\", \"ticks\": \"outside\"}, \"colorscale\": [[0.0, \"#440154\"], [0.1111111111111111, \"#482878\"], [0.2222222222222222, \"#3e4989\"], [0.3333333333333333, \"#31688e\"], [0.4444444444444444, \"#26828e\"], [0.5555555555555556, \"#1f9e89\"], [0.6666666666666666, \"#35b779\"], [0.7777777777777778, \"#6ece58\"], [0.8888888888888888, \"#b5de2b\"], [1.0, \"#fde725\"]], \"type\": \"histogram2d\"}], \"histogram2dcontour\": [{\"colorbar\": {\"outlinewidth\": 1, \"tickcolor\": \"rgb(36,36,36)\", \"ticks\": \"outside\"}, \"colorscale\": [[0.0, \"#440154\"], [0.1111111111111111, \"#482878\"], [0.2222222222222222, \"#3e4989\"], [0.3333333333333333, \"#31688e\"], [0.4444444444444444, \"#26828e\"], [0.5555555555555556, \"#1f9e89\"], [0.6666666666666666, \"#35b779\"], [0.7777777777777778, \"#6ece58\"], [0.8888888888888888, \"#b5de2b\"], [1.0, \"#fde725\"]], \"type\": \"histogram2dcontour\"}], \"mesh3d\": [{\"colorbar\": {\"outlinewidth\": 1, \"tickcolor\": \"rgb(36,36,36)\", \"ticks\": \"outside\"}, \"type\": \"mesh3d\"}], \"parcoords\": [{\"line\": {\"colorbar\": {\"outlinewidth\": 1, \"tickcolor\": \"rgb(36,36,36)\", \"ticks\": \"outside\"}}, \"type\": \"parcoords\"}], \"pie\": [{\"automargin\": true, \"type\": \"pie\"}], \"scatter\": [{\"marker\": {\"colorbar\": {\"outlinewidth\": 1, \"tickcolor\": \"rgb(36,36,36)\", \"ticks\": \"outside\"}}, \"type\": \"scatter\"}], \"scatter3d\": [{\"line\": {\"colorbar\": {\"outlinewidth\": 1, \"tickcolor\": \"rgb(36,36,36)\", \"ticks\": \"outside\"}}, \"marker\": {\"colorbar\": {\"outlinewidth\": 1, \"tickcolor\": \"rgb(36,36,36)\", \"ticks\": \"outside\"}}, \"type\": \"scatter3d\"}], \"scattercarpet\": [{\"marker\": {\"colorbar\": {\"outlinewidth\": 1, \"tickcolor\": \"rgb(36,36,36)\", \"ticks\": \"outside\"}}, \"type\": \"scattercarpet\"}], \"scattergeo\": [{\"marker\": {\"colorbar\": {\"outlinewidth\": 1, \"tickcolor\": \"rgb(36,36,36)\", \"ticks\": \"outside\"}}, \"type\": \"scattergeo\"}], \"scattergl\": [{\"marker\": {\"colorbar\": {\"outlinewidth\": 1, \"tickcolor\": \"rgb(36,36,36)\", \"ticks\": \"outside\"}}, \"type\": \"scattergl\"}], \"scattermapbox\": [{\"marker\": {\"colorbar\": {\"outlinewidth\": 1, \"tickcolor\": \"rgb(36,36,36)\", \"ticks\": \"outside\"}}, \"type\": \"scattermapbox\"}], \"scatterpolar\": [{\"marker\": {\"colorbar\": {\"outlinewidth\": 1, \"tickcolor\": \"rgb(36,36,36)\", \"ticks\": \"outside\"}}, \"type\": \"scatterpolar\"}], \"scatterpolargl\": [{\"marker\": {\"colorbar\": {\"outlinewidth\": 1, \"tickcolor\": \"rgb(36,36,36)\", \"ticks\": \"outside\"}}, \"type\": \"scatterpolargl\"}], \"scatterternary\": [{\"marker\": {\"colorbar\": {\"outlinewidth\": 1, \"tickcolor\": \"rgb(36,36,36)\", \"ticks\": \"outside\"}}, \"type\": \"scatterternary\"}], \"surface\": [{\"colorbar\": {\"outlinewidth\": 1, \"tickcolor\": \"rgb(36,36,36)\", \"ticks\": \"outside\"}, \"colorscale\": [[0.0, \"#440154\"], [0.1111111111111111, \"#482878\"], [0.2222222222222222, \"#3e4989\"], [0.3333333333333333, \"#31688e\"], [0.4444444444444444, \"#26828e\"], [0.5555555555555556, \"#1f9e89\"], [0.6666666666666666, \"#35b779\"], [0.7777777777777778, \"#6ece58\"], [0.8888888888888888, \"#b5de2b\"], [1.0, \"#fde725\"]], \"type\": \"surface\"}], \"table\": [{\"cells\": {\"fill\": {\"color\": \"rgb(237,237,237)\"}, \"line\": {\"color\": \"white\"}}, \"header\": {\"fill\": {\"color\": \"rgb(217,217,217)\"}, \"line\": {\"color\": \"white\"}}, \"type\": \"table\"}]}, \"layout\": {\"annotationdefaults\": {\"arrowhead\": 0, \"arrowwidth\": 1}, \"autotypenumbers\": \"strict\", \"coloraxis\": {\"colorbar\": {\"outlinewidth\": 1, \"tickcolor\": \"rgb(36,36,36)\", \"ticks\": \"outside\"}}, \"colorscale\": {\"diverging\": [[0.0, \"rgb(103,0,31)\"], [0.1, \"rgb(178,24,43)\"], [0.2, \"rgb(214,96,77)\"], [0.3, \"rgb(244,165,130)\"], [0.4, \"rgb(253,219,199)\"], [0.5, \"rgb(247,247,247)\"], [0.6, \"rgb(209,229,240)\"], [0.7, \"rgb(146,197,222)\"], [0.8, \"rgb(67,147,195)\"], [0.9, \"rgb(33,102,172)\"], [1.0, \"rgb(5,48,97)\"]], \"sequential\": [[0.0, \"#440154\"], [0.1111111111111111, \"#482878\"], [0.2222222222222222, \"#3e4989\"], [0.3333333333333333, \"#31688e\"], [0.4444444444444444, \"#26828e\"], [0.5555555555555556, \"#1f9e89\"], [0.6666666666666666, \"#35b779\"], [0.7777777777777778, \"#6ece58\"], [0.8888888888888888, \"#b5de2b\"], [1.0, \"#fde725\"]], \"sequentialminus\": [[0.0, \"#440154\"], [0.1111111111111111, \"#482878\"], [0.2222222222222222, \"#3e4989\"], [0.3333333333333333, \"#31688e\"], [0.4444444444444444, \"#26828e\"], [0.5555555555555556, \"#1f9e89\"], [0.6666666666666666, \"#35b779\"], [0.7777777777777778, \"#6ece58\"], [0.8888888888888888, \"#b5de2b\"], [1.0, \"#fde725\"]]}, \"colorway\": [\"#1F77B4\", \"#FF7F0E\", \"#2CA02C\", \"#D62728\", \"#9467BD\", \"#8C564B\", \"#E377C2\", \"#7F7F7F\", \"#BCBD22\", \"#17BECF\"], \"font\": {\"color\": \"rgb(36,36,36)\"}, \"geo\": {\"bgcolor\": \"white\", \"lakecolor\": \"white\", \"landcolor\": \"white\", \"showlakes\": true, \"showland\": true, \"subunitcolor\": \"white\"}, \"hoverlabel\": {\"align\": \"left\"}, \"hovermode\": \"closest\", \"mapbox\": {\"style\": \"light\"}, \"paper_bgcolor\": \"white\", \"plot_bgcolor\": \"white\", \"polar\": {\"angularaxis\": {\"gridcolor\": \"rgb(232,232,232)\", \"linecolor\": \"rgb(36,36,36)\", \"showgrid\": false, \"showline\": true, \"ticks\": \"outside\"}, \"bgcolor\": \"white\", \"radialaxis\": {\"gridcolor\": \"rgb(232,232,232)\", \"linecolor\": \"rgb(36,36,36)\", \"showgrid\": false, \"showline\": true, \"ticks\": \"outside\"}}, \"scene\": {\"xaxis\": {\"backgroundcolor\": \"white\", \"gridcolor\": \"rgb(232,232,232)\", \"gridwidth\": 2, \"linecolor\": \"rgb(36,36,36)\", \"showbackground\": true, \"showgrid\": false, \"showline\": true, \"ticks\": \"outside\", \"zeroline\": false, \"zerolinecolor\": \"rgb(36,36,36)\"}, \"yaxis\": {\"backgroundcolor\": \"white\", \"gridcolor\": \"rgb(232,232,232)\", \"gridwidth\": 2, \"linecolor\": \"rgb(36,36,36)\", \"showbackground\": true, \"showgrid\": false, \"showline\": true, \"ticks\": \"outside\", \"zeroline\": false, \"zerolinecolor\": \"rgb(36,36,36)\"}, \"zaxis\": {\"backgroundcolor\": \"white\", \"gridcolor\": \"rgb(232,232,232)\", \"gridwidth\": 2, \"linecolor\": \"rgb(36,36,36)\", \"showbackground\": true, \"showgrid\": false, \"showline\": true, \"ticks\": \"outside\", \"zeroline\": false, \"zerolinecolor\": \"rgb(36,36,36)\"}}, \"shapedefaults\": {\"fillcolor\": \"black\", \"line\": {\"width\": 0}, \"opacity\": 0.3}, \"ternary\": {\"aaxis\": {\"gridcolor\": \"rgb(232,232,232)\", \"linecolor\": \"rgb(36,36,36)\", \"showgrid\": false, \"showline\": true, \"ticks\": \"outside\"}, \"baxis\": {\"gridcolor\": \"rgb(232,232,232)\", \"linecolor\": \"rgb(36,36,36)\", \"showgrid\": false, \"showline\": true, \"ticks\": \"outside\"}, \"bgcolor\": \"white\", \"caxis\": {\"gridcolor\": \"rgb(232,232,232)\", \"linecolor\": \"rgb(36,36,36)\", \"showgrid\": false, \"showline\": true, \"ticks\": \"outside\"}}, \"title\": {\"x\": 0.05}, \"xaxis\": {\"automargin\": true, \"gridcolor\": \"rgb(232,232,232)\", \"linecolor\": \"rgb(36,36,36)\", \"showgrid\": false, \"showline\": true, \"ticks\": \"outside\", \"title\": {\"standoff\": 15}, \"zeroline\": false, \"zerolinecolor\": \"rgb(36,36,36)\"}, \"yaxis\": {\"automargin\": true, \"gridcolor\": \"rgb(232,232,232)\", \"linecolor\": \"rgb(36,36,36)\", \"showgrid\": false, \"showline\": true, \"ticks\": \"outside\", \"title\": {\"standoff\": 15}, \"zeroline\": false, \"zerolinecolor\": \"rgb(36,36,36)\"}}}, \"title\": {\"text\": \"\"}, \"updatemenus\": [{\"direction\": \"down\", \"pad\": {\"r\": 10, \"t\": 10}, \"showactive\": true, \"x\": 0.11, \"xanchor\": \"left\", \"y\": 1.1, \"yanchor\": \"top\"}], \"xaxis\": {\"showgrid\": false, \"showline\": false, \"showticklabels\": false, \"ticks\": \"\", \"title\": {\"text\": \"\"}, \"zeroline\": false}, \"yaxis\": {\"showgrid\": false, \"showline\": false, \"showticklabels\": false, \"ticks\": \"\", \"title\": {\"text\": \"\"}, \"zeroline\": false}},                        {\"scrollZoom\": true, \"responsive\": true}                    ).then(function(){\n",
              "                            \n",
              "var gd = document.getElementById('47562cf1-9a80-4d35-a01b-4c60f62fd146');\n",
              "var x = new MutationObserver(function (mutations, observer) {{\n",
              "        var display = window.getComputedStyle(gd).display;\n",
              "        if (!display || display === 'none') {{\n",
              "            console.log([gd, 'removed!']);\n",
              "            Plotly.purge(gd);\n",
              "            observer.disconnect();\n",
              "        }}\n",
              "}});\n",
              "\n",
              "// Listen for the removal of the full notebook cells\n",
              "var notebookContainer = gd.closest('#notebook-container');\n",
              "if (notebookContainer) {{\n",
              "    x.observe(notebookContainer, {childList: true});\n",
              "}}\n",
              "\n",
              "// Listen for the clearing of the current output cell\n",
              "var outputEl = gd.closest('.output');\n",
              "if (outputEl) {{\n",
              "    x.observe(outputEl, {childList: true});\n",
              "}}\n",
              "\n",
              "                        })                };                            </script>        </div>\n",
              "</body>\n",
              "</html>"
            ]
          },
          "metadata": {
            "tags": []
          }
        }
      ]
    },
    {
      "cell_type": "code",
      "metadata": {
        "colab": {
          "base_uri": "https://localhost:8080/",
          "height": 542
        },
        "id": "yOgOL6RyT1ej",
        "outputId": "86e6e183-7dab-41e1-b793-9c6bccd462b6"
      },
      "source": [
        "plotly_params = {\"node_trace\": {\"marker_colorscale\": \"RdBu\"}}\n",
        "fig = plot_static_mapper_graph(pipe_mapper,\n",
        "                               intermediate_output_2, \n",
        "                               layout='fruchterman_reingold',\n",
        "                               #color_by_columns_dropdown=True,\n",
        "                               color_variable =clean['pIC50'],\n",
        "                               node_scale =20,\n",
        "                               plotly_params=plotly_params)\n",
        "fig.show(config={'scrollZoom': True})"
      ],
      "execution_count": 27,
      "outputs": [
        {
          "output_type": "display_data",
          "data": {
            "text/html": [
              "<html>\n",
              "<head><meta charset=\"utf-8\" /></head>\n",
              "<body>\n",
              "    <div>            <script src=\"https://cdnjs.cloudflare.com/ajax/libs/mathjax/2.7.5/MathJax.js?config=TeX-AMS-MML_SVG\"></script><script type=\"text/javascript\">if (window.MathJax) {MathJax.Hub.Config({SVG: {font: \"STIX-Web\"}});}</script>                <script type=\"text/javascript\">window.PlotlyConfig = {MathJaxConfig: 'local'};</script>\n",
              "        <script src=\"https://cdn.plot.ly/plotly-latest.min.js\"></script>                <div id=\"c68471f1-dd8a-41ca-8de8-2ee009eff332\" class=\"plotly-graph-div\" style=\"height:525px; width:100%;\"></div>            <script type=\"text/javascript\">                                    window.PLOTLYENV=window.PLOTLYENV || {};                                    if (document.getElementById(\"c68471f1-dd8a-41ca-8de8-2ee009eff332\")) {                    Plotly.newPlot(                        \"c68471f1-dd8a-41ca-8de8-2ee009eff332\",                        [{\"hoverinfo\": \"none\", \"line\": {\"color\": \"#888\", \"width\": 1}, \"mode\": \"lines\", \"name\": \"edge_trace\", \"type\": \"scatter\", \"uid\": \"e28ac068-9fa7-4edf-bb5a-8a1a23e1c46c\", \"x\": [4.2980886331153885, 3.366551725623806, null, 3.366551725623806, 2.3099295927606085, null, 2.3099295927606085, 1.1101072550261155, null, 1.5958229650397224, 2.27261306676027, null, 1.5958229650397224, 0.8087547863356181, null, 2.27261306676027, 3.048208812591021, null, 1.9800653059509108, 2.820641435252188, null, 1.1101072550261155, 0.5568116076241587, null, 1.1101072550261155, 0.29649757210177735, null, 0.5568116076241587, 0.332904677172124, null, -2.1714411695501843, -1.8871335786094332, null, -2.1714411695501843, -2.4719937097942393, null, -1.5960444233227171, -2.1968704767664846, null, -1.5960444233227171, -0.7090062045562063, null, 0.23792217869451984, -0.5598659468487373, null, 0.29649757210177735, -0.7090062045562063, null, 0.332904677172124, 0.8087547863356181, null], \"y\": [-0.648925471935138, -0.6185707785863575, null, -0.6185707785863575, -0.815147270952581, null, -0.815147270952581, -1.061506618868533, null, 2.587354918597001, 3.2733918884236153, null, 2.587354918597001, 1.9185556569074431, null, 3.2733918884236153, 3.677059678897059, null, -3.0537269694857265, -2.6994463363615053, null, -1.061506618868533, -0.054595455377573765, null, -1.061506618868533, -1.9494964938566077, null, -0.054595455377573765, 0.9897138737223851, null, 1.6532787671605438, 2.5216827713871894, null, 1.6532787671605438, 0.7953215270990514, null, -1.7359473843499338, -0.9943883287347534, null, -1.7359473843499338, -2.2576890351770107, null, 4.143095395069156, 3.7693633915534956, null, -1.9494964938566077, -2.2576890351770107, null, 0.9897138737223851, 1.9185556569074431, null]}, {\"hoverinfo\": \"text\", \"hovertext\": [\"Node ID: 0<br>Pullback set label: 0<br>Partial cluster label: 0<br>Node size: 42<br>Summary statistic: -1.17\", \"Node ID: 1<br>Pullback set label: 1<br>Partial cluster label: 0<br>Node size: 21<br>Summary statistic: -0.84\", \"Node ID: 2<br>Pullback set label: 2<br>Partial cluster label: 0<br>Node size: 20<br>Summary statistic: -0.807\", \"Node ID: 3<br>Pullback set label: 7<br>Partial cluster label: 0<br>Node size: 4<br>Summary statistic: 0.0915\", \"Node ID: 4<br>Pullback set label: 8<br>Partial cluster label: 0<br>Node size: 4<br>Summary statistic: 0.018\", \"Node ID: 5<br>Pullback set label: 15<br>Partial cluster label: 0<br>Node size: 2<br>Summary statistic: -1.17\", \"Node ID: 6<br>Pullback set label: 3<br>Partial cluster label: 0<br>Node size: 9<br>Summary statistic: -1.21\", \"Node ID: 7<br>Pullback set label: 4<br>Partial cluster label: 0<br>Node size: 4<br>Summary statistic: -1.64\", \"Node ID: 8<br>Pullback set label: 11<br>Partial cluster label: 0<br>Node size: 3<br>Summary statistic: -1.31\", \"Node ID: 9<br>Pullback set label: 12<br>Partial cluster label: -1<br>Node size: 1<br>Summary statistic: -1.78\", \"Node ID: 10<br>Pullback set label: 13<br>Partial cluster label: -1<br>Node size: 1<br>Summary statistic: -1.78\", \"Node ID: 11<br>Pullback set label: 6<br>Partial cluster label: 0<br>Node size: 4<br>Summary statistic: -1.45\", \"Node ID: 12<br>Pullback set label: 7<br>Partial cluster label: 1<br>Node size: 2<br>Summary statistic: -2.42\", \"Node ID: 13<br>Pullback set label: 8<br>Partial cluster label: 1<br>Node size: 3<br>Summary statistic: -1.8\", \"Node ID: 14<br>Pullback set label: 9<br>Partial cluster label: 0<br>Node size: 3<br>Summary statistic: -1.8\", \"Node ID: 15<br>Pullback set label: 4<br>Partial cluster label: 1<br>Node size: 3<br>Summary statistic: -1.48\", \"Node ID: 16<br>Pullback set label: 5<br>Partial cluster label: 0<br>Node size: 4<br>Summary statistic: -0.971\", \"Node ID: 17<br>Pullback set label: 5<br>Partial cluster label: 1<br>Node size: 2<br>Summary statistic: -1.04\", \"Node ID: 18<br>Pullback set label: 6<br>Partial cluster label: 1<br>Node size: 2<br>Summary statistic: 0.211\", \"Node ID: 19<br>Pullback set label: 13<br>Partial cluster label: 0<br>Node size: 3<br>Summary statistic: -0.22\", \"Node ID: 20<br>Pullback set label: 9<br>Partial cluster label: -1<br>Node size: 1<br>Summary statistic: 0.907\", \"Node ID: 21<br>Pullback set label: 10<br>Partial cluster label: 0<br>Node size: 2<br>Summary statistic: -1.07\", \"Node ID: 22<br>Pullback set label: 14<br>Partial cluster label: -1<br>Node size: 1<br>Summary statistic: -0.742\"], \"marker\": {\"color\": [-1.1740352174523805, -0.8404332110000002, -0.8066679547500002, 0.09150946500000001, 0.01798918100000002, -1.1719995345, -1.2105667013333332, -1.6437969612500003, -1.3082149566666668, -1.77815125, -1.77815125, -1.450592505, -2.42254902, -1.8026368640000001, -1.8026368640000001, -1.4761888683333335, -0.9711605857500001, -1.039590623, 0.21125410049999999, -0.22004553899999998, 0.906578315, -1.07324681, -0.741939078], \"colorbar\": {\"thickness\": 15, \"title\": {\"side\": \"right\", \"text\": \"\"}, \"xanchor\": \"left\"}, \"colorscale\": [[0.0, \"rgb(103,0,31)\"], [0.1, \"rgb(178,24,43)\"], [0.2, \"rgb(214,96,77)\"], [0.3, \"rgb(244,165,130)\"], [0.4, \"rgb(253,219,199)\"], [0.5, \"rgb(247,247,247)\"], [0.6, \"rgb(209,229,240)\"], [0.7, \"rgb(146,197,222)\"], [0.8, \"rgb(67,147,195)\"], [0.9, \"rgb(33,102,172)\"], [1.0, \"rgb(5,48,97)\"]], \"line\": {\"color\": \"#888\", \"width\": 1}, \"opacity\": 1.0, \"reversescale\": false, \"showscale\": true, \"size\": [42, 21, 20, 4, 4, 2, 9, 4, 3, 1, 1, 4, 2, 3, 3, 3, 4, 2, 2, 3, 1, 2, 1], \"sizemin\": 4, \"sizemode\": \"area\", \"sizeref\": 0.21}, \"mode\": \"markers\", \"name\": \"node_trace\", \"type\": \"scatter\", \"uid\": \"60ff81cc-5c13-4651-8774-383ba6e2f318\", \"x\": [4.2980886331153885, 3.366551725623806, 2.3099295927606085, 1.5958229650397224, 2.27261306676027, 1.9800653059509108, 1.1101072550261155, 0.5568116076241587, -2.1714411695501843, -1.8871335786094332, 4.033235148664402, -1.5960444233227171, -2.1968704767664846, 0.23792217869451984, -0.5598659468487373, 0.29649757210177735, -0.7090062045562063, 0.332904677172124, 0.8087547863356181, 4.5387328965454925, 3.048208812591021, -2.4719937097942393, 2.820641435252188], \"y\": [-0.648925471935138, -0.6185707785863575, -0.815147270952581, 2.587354918597001, 3.2733918884236153, -3.0537269694857265, -1.061506618868533, -0.054595455377573765, 1.6532787671605438, 2.5216827713871894, 2.232871431967935, -1.7359473843499338, -0.9943883287347534, 4.143095395069156, 3.7693633915534956, -1.9494964938566077, -2.2576890351770107, 0.9897138737223851, 1.9185556569074431, 0.9879937473238767, 3.677059678897059, 0.7953215270990514, -2.6994463363615053]}],                        {\"autosize\": false, \"hovermode\": \"closest\", \"margin\": {\"b\": 20, \"l\": 5, \"r\": 5, \"t\": 40}, \"showlegend\": false, \"template\": {\"data\": {\"bar\": [{\"error_x\": {\"color\": \"rgb(36,36,36)\"}, \"error_y\": {\"color\": \"rgb(36,36,36)\"}, \"marker\": {\"line\": {\"color\": \"white\", \"width\": 0.5}}, \"type\": \"bar\"}], \"barpolar\": [{\"marker\": {\"line\": {\"color\": \"white\", \"width\": 0.5}}, \"type\": \"barpolar\"}], \"carpet\": [{\"aaxis\": {\"endlinecolor\": \"rgb(36,36,36)\", \"gridcolor\": \"white\", \"linecolor\": \"white\", \"minorgridcolor\": \"white\", \"startlinecolor\": \"rgb(36,36,36)\"}, \"baxis\": {\"endlinecolor\": \"rgb(36,36,36)\", \"gridcolor\": \"white\", \"linecolor\": \"white\", \"minorgridcolor\": \"white\", \"startlinecolor\": \"rgb(36,36,36)\"}, \"type\": \"carpet\"}], \"choropleth\": [{\"colorbar\": {\"outlinewidth\": 1, \"tickcolor\": \"rgb(36,36,36)\", \"ticks\": \"outside\"}, \"type\": \"choropleth\"}], \"contour\": [{\"colorbar\": {\"outlinewidth\": 1, \"tickcolor\": \"rgb(36,36,36)\", \"ticks\": \"outside\"}, \"colorscale\": [[0.0, \"#440154\"], [0.1111111111111111, \"#482878\"], [0.2222222222222222, \"#3e4989\"], [0.3333333333333333, \"#31688e\"], [0.4444444444444444, \"#26828e\"], [0.5555555555555556, \"#1f9e89\"], [0.6666666666666666, \"#35b779\"], [0.7777777777777778, \"#6ece58\"], [0.8888888888888888, \"#b5de2b\"], [1.0, \"#fde725\"]], \"type\": \"contour\"}], \"contourcarpet\": [{\"colorbar\": {\"outlinewidth\": 1, \"tickcolor\": \"rgb(36,36,36)\", \"ticks\": \"outside\"}, \"type\": \"contourcarpet\"}], \"heatmap\": [{\"colorbar\": {\"outlinewidth\": 1, \"tickcolor\": \"rgb(36,36,36)\", \"ticks\": \"outside\"}, \"colorscale\": [[0.0, \"#440154\"], [0.1111111111111111, \"#482878\"], [0.2222222222222222, \"#3e4989\"], [0.3333333333333333, \"#31688e\"], [0.4444444444444444, \"#26828e\"], [0.5555555555555556, \"#1f9e89\"], [0.6666666666666666, \"#35b779\"], [0.7777777777777778, \"#6ece58\"], [0.8888888888888888, \"#b5de2b\"], [1.0, \"#fde725\"]], \"type\": \"heatmap\"}], \"heatmapgl\": [{\"colorbar\": {\"outlinewidth\": 1, \"tickcolor\": \"rgb(36,36,36)\", \"ticks\": \"outside\"}, \"colorscale\": [[0.0, \"#440154\"], [0.1111111111111111, \"#482878\"], [0.2222222222222222, \"#3e4989\"], [0.3333333333333333, \"#31688e\"], [0.4444444444444444, \"#26828e\"], [0.5555555555555556, \"#1f9e89\"], [0.6666666666666666, \"#35b779\"], [0.7777777777777778, \"#6ece58\"], [0.8888888888888888, \"#b5de2b\"], [1.0, \"#fde725\"]], \"type\": \"heatmapgl\"}], \"histogram\": [{\"marker\": {\"line\": {\"color\": \"white\", \"width\": 0.6}}, \"type\": \"histogram\"}], \"histogram2d\": [{\"colorbar\": {\"outlinewidth\": 1, \"tickcolor\": \"rgb(36,36,36)\", \"ticks\": \"outside\"}, \"colorscale\": [[0.0, \"#440154\"], [0.1111111111111111, \"#482878\"], [0.2222222222222222, \"#3e4989\"], [0.3333333333333333, \"#31688e\"], [0.4444444444444444, \"#26828e\"], [0.5555555555555556, \"#1f9e89\"], [0.6666666666666666, \"#35b779\"], [0.7777777777777778, \"#6ece58\"], [0.8888888888888888, \"#b5de2b\"], [1.0, \"#fde725\"]], \"type\": \"histogram2d\"}], \"histogram2dcontour\": [{\"colorbar\": {\"outlinewidth\": 1, \"tickcolor\": \"rgb(36,36,36)\", \"ticks\": \"outside\"}, \"colorscale\": [[0.0, \"#440154\"], [0.1111111111111111, \"#482878\"], [0.2222222222222222, \"#3e4989\"], [0.3333333333333333, \"#31688e\"], [0.4444444444444444, \"#26828e\"], [0.5555555555555556, \"#1f9e89\"], [0.6666666666666666, \"#35b779\"], [0.7777777777777778, \"#6ece58\"], [0.8888888888888888, \"#b5de2b\"], [1.0, \"#fde725\"]], \"type\": \"histogram2dcontour\"}], \"mesh3d\": [{\"colorbar\": {\"outlinewidth\": 1, \"tickcolor\": \"rgb(36,36,36)\", \"ticks\": \"outside\"}, \"type\": \"mesh3d\"}], \"parcoords\": [{\"line\": {\"colorbar\": {\"outlinewidth\": 1, \"tickcolor\": \"rgb(36,36,36)\", \"ticks\": \"outside\"}}, \"type\": \"parcoords\"}], \"pie\": [{\"automargin\": true, \"type\": \"pie\"}], \"scatter\": [{\"marker\": {\"colorbar\": {\"outlinewidth\": 1, \"tickcolor\": \"rgb(36,36,36)\", \"ticks\": \"outside\"}}, \"type\": \"scatter\"}], \"scatter3d\": [{\"line\": {\"colorbar\": {\"outlinewidth\": 1, \"tickcolor\": \"rgb(36,36,36)\", \"ticks\": \"outside\"}}, \"marker\": {\"colorbar\": {\"outlinewidth\": 1, \"tickcolor\": \"rgb(36,36,36)\", \"ticks\": \"outside\"}}, \"type\": \"scatter3d\"}], \"scattercarpet\": [{\"marker\": {\"colorbar\": {\"outlinewidth\": 1, \"tickcolor\": \"rgb(36,36,36)\", \"ticks\": \"outside\"}}, \"type\": \"scattercarpet\"}], \"scattergeo\": [{\"marker\": {\"colorbar\": {\"outlinewidth\": 1, \"tickcolor\": \"rgb(36,36,36)\", \"ticks\": \"outside\"}}, \"type\": \"scattergeo\"}], \"scattergl\": [{\"marker\": {\"colorbar\": {\"outlinewidth\": 1, \"tickcolor\": \"rgb(36,36,36)\", \"ticks\": \"outside\"}}, \"type\": \"scattergl\"}], \"scattermapbox\": [{\"marker\": {\"colorbar\": {\"outlinewidth\": 1, \"tickcolor\": \"rgb(36,36,36)\", \"ticks\": \"outside\"}}, \"type\": \"scattermapbox\"}], \"scatterpolar\": [{\"marker\": {\"colorbar\": {\"outlinewidth\": 1, \"tickcolor\": \"rgb(36,36,36)\", \"ticks\": \"outside\"}}, \"type\": \"scatterpolar\"}], \"scatterpolargl\": [{\"marker\": {\"colorbar\": {\"outlinewidth\": 1, \"tickcolor\": \"rgb(36,36,36)\", \"ticks\": \"outside\"}}, \"type\": \"scatterpolargl\"}], \"scatterternary\": [{\"marker\": {\"colorbar\": {\"outlinewidth\": 1, \"tickcolor\": \"rgb(36,36,36)\", \"ticks\": \"outside\"}}, \"type\": \"scatterternary\"}], \"surface\": [{\"colorbar\": {\"outlinewidth\": 1, \"tickcolor\": \"rgb(36,36,36)\", \"ticks\": \"outside\"}, \"colorscale\": [[0.0, \"#440154\"], [0.1111111111111111, \"#482878\"], [0.2222222222222222, \"#3e4989\"], [0.3333333333333333, \"#31688e\"], [0.4444444444444444, \"#26828e\"], [0.5555555555555556, \"#1f9e89\"], [0.6666666666666666, \"#35b779\"], [0.7777777777777778, \"#6ece58\"], [0.8888888888888888, \"#b5de2b\"], [1.0, \"#fde725\"]], \"type\": \"surface\"}], \"table\": [{\"cells\": {\"fill\": {\"color\": \"rgb(237,237,237)\"}, \"line\": {\"color\": \"white\"}}, \"header\": {\"fill\": {\"color\": \"rgb(217,217,217)\"}, \"line\": {\"color\": \"white\"}}, \"type\": \"table\"}]}, \"layout\": {\"annotationdefaults\": {\"arrowhead\": 0, \"arrowwidth\": 1}, \"autotypenumbers\": \"strict\", \"coloraxis\": {\"colorbar\": {\"outlinewidth\": 1, \"tickcolor\": \"rgb(36,36,36)\", \"ticks\": \"outside\"}}, \"colorscale\": {\"diverging\": [[0.0, \"rgb(103,0,31)\"], [0.1, \"rgb(178,24,43)\"], [0.2, \"rgb(214,96,77)\"], [0.3, \"rgb(244,165,130)\"], [0.4, \"rgb(253,219,199)\"], [0.5, \"rgb(247,247,247)\"], [0.6, \"rgb(209,229,240)\"], [0.7, \"rgb(146,197,222)\"], [0.8, \"rgb(67,147,195)\"], [0.9, \"rgb(33,102,172)\"], [1.0, \"rgb(5,48,97)\"]], \"sequential\": [[0.0, \"#440154\"], [0.1111111111111111, \"#482878\"], [0.2222222222222222, \"#3e4989\"], [0.3333333333333333, \"#31688e\"], [0.4444444444444444, \"#26828e\"], [0.5555555555555556, \"#1f9e89\"], [0.6666666666666666, \"#35b779\"], [0.7777777777777778, \"#6ece58\"], [0.8888888888888888, \"#b5de2b\"], [1.0, \"#fde725\"]], \"sequentialminus\": [[0.0, \"#440154\"], [0.1111111111111111, \"#482878\"], [0.2222222222222222, \"#3e4989\"], [0.3333333333333333, \"#31688e\"], [0.4444444444444444, \"#26828e\"], [0.5555555555555556, \"#1f9e89\"], [0.6666666666666666, \"#35b779\"], [0.7777777777777778, \"#6ece58\"], [0.8888888888888888, \"#b5de2b\"], [1.0, \"#fde725\"]]}, \"colorway\": [\"#1F77B4\", \"#FF7F0E\", \"#2CA02C\", \"#D62728\", \"#9467BD\", \"#8C564B\", \"#E377C2\", \"#7F7F7F\", \"#BCBD22\", \"#17BECF\"], \"font\": {\"color\": \"rgb(36,36,36)\"}, \"geo\": {\"bgcolor\": \"white\", \"lakecolor\": \"white\", \"landcolor\": \"white\", \"showlakes\": true, \"showland\": true, \"subunitcolor\": \"white\"}, \"hoverlabel\": {\"align\": \"left\"}, \"hovermode\": \"closest\", \"mapbox\": {\"style\": \"light\"}, \"paper_bgcolor\": \"white\", \"plot_bgcolor\": \"white\", \"polar\": {\"angularaxis\": {\"gridcolor\": \"rgb(232,232,232)\", \"linecolor\": \"rgb(36,36,36)\", \"showgrid\": false, \"showline\": true, \"ticks\": \"outside\"}, \"bgcolor\": \"white\", \"radialaxis\": {\"gridcolor\": \"rgb(232,232,232)\", \"linecolor\": \"rgb(36,36,36)\", \"showgrid\": false, \"showline\": true, \"ticks\": \"outside\"}}, \"scene\": {\"xaxis\": {\"backgroundcolor\": \"white\", \"gridcolor\": \"rgb(232,232,232)\", \"gridwidth\": 2, \"linecolor\": \"rgb(36,36,36)\", \"showbackground\": true, \"showgrid\": false, \"showline\": true, \"ticks\": \"outside\", \"zeroline\": false, \"zerolinecolor\": \"rgb(36,36,36)\"}, \"yaxis\": {\"backgroundcolor\": \"white\", \"gridcolor\": \"rgb(232,232,232)\", \"gridwidth\": 2, \"linecolor\": \"rgb(36,36,36)\", \"showbackground\": true, \"showgrid\": false, \"showline\": true, \"ticks\": \"outside\", \"zeroline\": false, \"zerolinecolor\": \"rgb(36,36,36)\"}, \"zaxis\": {\"backgroundcolor\": \"white\", \"gridcolor\": \"rgb(232,232,232)\", \"gridwidth\": 2, \"linecolor\": \"rgb(36,36,36)\", \"showbackground\": true, \"showgrid\": false, \"showline\": true, \"ticks\": \"outside\", \"zeroline\": false, \"zerolinecolor\": \"rgb(36,36,36)\"}}, \"shapedefaults\": {\"fillcolor\": \"black\", \"line\": {\"width\": 0}, \"opacity\": 0.3}, \"ternary\": {\"aaxis\": {\"gridcolor\": \"rgb(232,232,232)\", \"linecolor\": \"rgb(36,36,36)\", \"showgrid\": false, \"showline\": true, \"ticks\": \"outside\"}, \"baxis\": {\"gridcolor\": \"rgb(232,232,232)\", \"linecolor\": \"rgb(36,36,36)\", \"showgrid\": false, \"showline\": true, \"ticks\": \"outside\"}, \"bgcolor\": \"white\", \"caxis\": {\"gridcolor\": \"rgb(232,232,232)\", \"linecolor\": \"rgb(36,36,36)\", \"showgrid\": false, \"showline\": true, \"ticks\": \"outside\"}}, \"title\": {\"x\": 0.05}, \"xaxis\": {\"automargin\": true, \"gridcolor\": \"rgb(232,232,232)\", \"linecolor\": \"rgb(36,36,36)\", \"showgrid\": false, \"showline\": true, \"ticks\": \"outside\", \"title\": {\"standoff\": 15}, \"zeroline\": false, \"zerolinecolor\": \"rgb(36,36,36)\"}, \"yaxis\": {\"automargin\": true, \"gridcolor\": \"rgb(232,232,232)\", \"linecolor\": \"rgb(36,36,36)\", \"showgrid\": false, \"showline\": true, \"ticks\": \"outside\", \"title\": {\"standoff\": 15}, \"zeroline\": false, \"zerolinecolor\": \"rgb(36,36,36)\"}}}, \"title\": {\"text\": \"\"}, \"updatemenus\": [{\"direction\": \"down\", \"pad\": {\"r\": 10, \"t\": 10}, \"showactive\": true, \"x\": 0.11, \"xanchor\": \"left\", \"y\": 1.1, \"yanchor\": \"top\"}], \"xaxis\": {\"showgrid\": false, \"showline\": false, \"showticklabels\": false, \"ticks\": \"\", \"title\": {\"text\": \"\"}, \"zeroline\": false}, \"yaxis\": {\"showgrid\": false, \"showline\": false, \"showticklabels\": false, \"ticks\": \"\", \"title\": {\"text\": \"\"}, \"zeroline\": false}},                        {\"scrollZoom\": true, \"responsive\": true}                    ).then(function(){\n",
              "                            \n",
              "var gd = document.getElementById('c68471f1-dd8a-41ca-8de8-2ee009eff332');\n",
              "var x = new MutationObserver(function (mutations, observer) {{\n",
              "        var display = window.getComputedStyle(gd).display;\n",
              "        if (!display || display === 'none') {{\n",
              "            console.log([gd, 'removed!']);\n",
              "            Plotly.purge(gd);\n",
              "            observer.disconnect();\n",
              "        }}\n",
              "}});\n",
              "\n",
              "// Listen for the removal of the full notebook cells\n",
              "var notebookContainer = gd.closest('#notebook-container');\n",
              "if (notebookContainer) {{\n",
              "    x.observe(notebookContainer, {childList: true});\n",
              "}}\n",
              "\n",
              "// Listen for the clearing of the current output cell\n",
              "var outputEl = gd.closest('.output');\n",
              "if (outputEl) {{\n",
              "    x.observe(outputEl, {childList: true});\n",
              "}}\n",
              "\n",
              "                        })                };                            </script>        </div>\n",
              "</body>\n",
              "</html>"
            ]
          },
          "metadata": {
            "tags": []
          }
        }
      ]
    },
    {
      "cell_type": "code",
      "metadata": {
        "colab": {
          "base_uri": "https://localhost:8080/",
          "height": 542
        },
        "id": "YdvTdYGfdRdp",
        "outputId": "6a06da4d-a012-45ff-cc6b-7e240e7de53a"
      },
      "source": [
        "plotly_params = {\"node_trace\": {\"marker_colorscale\": \"RdBu\"}}\n",
        "fig = plot_static_mapper_graph(pipe_mapper,\n",
        "                               intermediate_output_3, \n",
        "                               layout='fruchterman_reingold',\n",
        "                               #color_by_columns_dropdown=True,\n",
        "                               color_variable =clean['pIC50'],\n",
        "                               node_scale =20,\n",
        "                               plotly_params=plotly_params)\n",
        "fig.show(config={'scrollZoom': True})"
      ],
      "execution_count": 28,
      "outputs": [
        {
          "output_type": "display_data",
          "data": {
            "text/html": [
              "<html>\n",
              "<head><meta charset=\"utf-8\" /></head>\n",
              "<body>\n",
              "    <div>            <script src=\"https://cdnjs.cloudflare.com/ajax/libs/mathjax/2.7.5/MathJax.js?config=TeX-AMS-MML_SVG\"></script><script type=\"text/javascript\">if (window.MathJax) {MathJax.Hub.Config({SVG: {font: \"STIX-Web\"}});}</script>                <script type=\"text/javascript\">window.PlotlyConfig = {MathJaxConfig: 'local'};</script>\n",
              "        <script src=\"https://cdn.plot.ly/plotly-latest.min.js\"></script>                <div id=\"b2ad0ffd-e94d-444c-bb60-69359ec6c9fa\" class=\"plotly-graph-div\" style=\"height:525px; width:100%;\"></div>            <script type=\"text/javascript\">                                    window.PLOTLYENV=window.PLOTLYENV || {};                                    if (document.getElementById(\"b2ad0ffd-e94d-444c-bb60-69359ec6c9fa\")) {                    Plotly.newPlot(                        \"b2ad0ffd-e94d-444c-bb60-69359ec6c9fa\",                        [{\"hoverinfo\": \"none\", \"line\": {\"color\": \"#888\", \"width\": 1}, \"mode\": \"lines\", \"name\": \"edge_trace\", \"type\": \"scatter\", \"uid\": \"8342636a-3cc7-447d-b5fe-09bd990bd0ab\", \"x\": [2.402998483504009, 2.471616019025223, null, 2.471616019025223, 1.7020097713776372, null, -0.7293234375349554, -1.3903911006177716, null, -1.3903911006177716, -1.9252801154674009, null, 0.7219761211253586, -0.06756144788915841, null, 0.7219761211253586, 1.7020097713776372, null, -0.06756144788915841, -0.6907362413617623, null, -0.6907362413617623, -0.23714696705666363, null], \"y\": [-1.6778968464839947, -0.682992439572051, null, -0.682992439572051, -0.046763384374327255, null, 1.4580181861336257, 0.7359501342455813, null, 0.7359501342455813, -0.09310706362682769, null, -0.5130478006530146, -1.287873218388962, null, -0.5130478006530146, -0.046763384374327255, null, -1.287873218388962, -2.1057005295630034, null, -2.1057005295630034, -2.9115493724626726, null]}, {\"hoverinfo\": \"text\", \"hovertext\": [\"Node ID: 0<br>Pullback set label: 0<br>Partial cluster label: 0<br>Node size: 56<br>Summary statistic: -1.07\", \"Node ID: 1<br>Pullback set label: 1<br>Partial cluster label: 0<br>Node size: 24<br>Summary statistic: -1.23\", \"Node ID: 2<br>Pullback set label: 7<br>Partial cluster label: 0<br>Node size: 3<br>Summary statistic: -0.278\", \"Node ID: 3<br>Pullback set label: 8<br>Partial cluster label: 0<br>Node size: 4<br>Summary statistic: 0.018\", \"Node ID: 4<br>Pullback set label: 3<br>Partial cluster label: 0<br>Node size: 15<br>Summary statistic: -1.48\", \"Node ID: 5<br>Pullback set label: 4<br>Partial cluster label: 0<br>Node size: 5<br>Summary statistic: -1.34\", \"Node ID: 6<br>Pullback set label: 2<br>Partial cluster label: 0<br>Node size: 22<br>Summary statistic: -1.37\", \"Node ID: 7<br>Pullback set label: 5<br>Partial cluster label: 0<br>Node size: 2<br>Summary statistic: 0.211\", \"Node ID: 8<br>Pullback set label: 10<br>Partial cluster label: 0<br>Node size: 3<br>Summary statistic: -0.22\", \"Node ID: 9<br>Pullback set label: 6<br>Partial cluster label: -1<br>Node size: 1<br>Summary statistic: 1.2\", \"Node ID: 10<br>Pullback set label: 9<br>Partial cluster label: -1<br>Node size: 1<br>Summary statistic: 0.907\"], \"marker\": {\"color\": [-1.0665398217499997, -1.2333929945, -0.27820719699999996, 0.01798918100000002, -1.4773443858666668, -1.3356905637999998, -1.3671425860000002, 0.21125410049999999, -0.22004553899999998, 1.200659451, 0.906578315], \"colorbar\": {\"thickness\": 15, \"title\": {\"side\": \"right\", \"text\": \"\"}, \"xanchor\": \"left\"}, \"colorscale\": [[0.0, \"rgb(103,0,31)\"], [0.1, \"rgb(178,24,43)\"], [0.2, \"rgb(214,96,77)\"], [0.3, \"rgb(244,165,130)\"], [0.4, \"rgb(253,219,199)\"], [0.5, \"rgb(247,247,247)\"], [0.6, \"rgb(209,229,240)\"], [0.7, \"rgb(146,197,222)\"], [0.8, \"rgb(67,147,195)\"], [0.9, \"rgb(33,102,172)\"], [1.0, \"rgb(5,48,97)\"]], \"line\": {\"color\": \"#888\", \"width\": 1}, \"opacity\": 1.0, \"reversescale\": false, \"showscale\": true, \"size\": [56, 24, 3, 4, 15, 5, 22, 2, 3, 1, 1], \"sizemin\": 4, \"sizemode\": \"area\", \"sizeref\": 0.28}, \"mode\": \"markers\", \"name\": \"node_trace\", \"type\": \"scatter\", \"uid\": \"a764fe08-e713-44e0-a64f-b3fc8eba6ee7\", \"x\": [2.402998483504009, 2.471616019025223, -0.7293234375349554, -1.3903911006177716, 0.7219761211253586, -0.06756144788915841, 1.7020097713776372, -0.6907362413617623, 1.3080812122037164, -0.23714696705666363, -1.9252801154674009], \"y\": [-1.6778968464839947, -0.682992439572051, 1.4580181861336257, 0.7359501342455813, -0.5130478006530146, -1.287873218388962, -0.046763384374327255, -2.1057005295630034, 1.8256182899250102, -2.9115493724626726, -0.09310706362682769]}],                        {\"autosize\": false, \"hovermode\": \"closest\", \"margin\": {\"b\": 20, \"l\": 5, \"r\": 5, \"t\": 40}, \"showlegend\": false, \"template\": {\"data\": {\"bar\": [{\"error_x\": {\"color\": \"rgb(36,36,36)\"}, \"error_y\": {\"color\": \"rgb(36,36,36)\"}, \"marker\": {\"line\": {\"color\": \"white\", \"width\": 0.5}}, \"type\": \"bar\"}], \"barpolar\": [{\"marker\": {\"line\": {\"color\": \"white\", \"width\": 0.5}}, \"type\": \"barpolar\"}], \"carpet\": [{\"aaxis\": {\"endlinecolor\": \"rgb(36,36,36)\", \"gridcolor\": \"white\", \"linecolor\": \"white\", \"minorgridcolor\": \"white\", \"startlinecolor\": \"rgb(36,36,36)\"}, \"baxis\": {\"endlinecolor\": \"rgb(36,36,36)\", \"gridcolor\": \"white\", \"linecolor\": \"white\", \"minorgridcolor\": \"white\", \"startlinecolor\": \"rgb(36,36,36)\"}, \"type\": \"carpet\"}], \"choropleth\": [{\"colorbar\": {\"outlinewidth\": 1, \"tickcolor\": \"rgb(36,36,36)\", \"ticks\": \"outside\"}, \"type\": \"choropleth\"}], \"contour\": [{\"colorbar\": {\"outlinewidth\": 1, \"tickcolor\": \"rgb(36,36,36)\", \"ticks\": \"outside\"}, \"colorscale\": [[0.0, \"#440154\"], [0.1111111111111111, \"#482878\"], [0.2222222222222222, \"#3e4989\"], [0.3333333333333333, \"#31688e\"], [0.4444444444444444, \"#26828e\"], [0.5555555555555556, \"#1f9e89\"], [0.6666666666666666, \"#35b779\"], [0.7777777777777778, \"#6ece58\"], [0.8888888888888888, \"#b5de2b\"], [1.0, \"#fde725\"]], \"type\": \"contour\"}], \"contourcarpet\": [{\"colorbar\": {\"outlinewidth\": 1, \"tickcolor\": \"rgb(36,36,36)\", \"ticks\": \"outside\"}, \"type\": \"contourcarpet\"}], \"heatmap\": [{\"colorbar\": {\"outlinewidth\": 1, \"tickcolor\": \"rgb(36,36,36)\", \"ticks\": \"outside\"}, \"colorscale\": [[0.0, \"#440154\"], [0.1111111111111111, \"#482878\"], [0.2222222222222222, \"#3e4989\"], [0.3333333333333333, \"#31688e\"], [0.4444444444444444, \"#26828e\"], [0.5555555555555556, \"#1f9e89\"], [0.6666666666666666, \"#35b779\"], [0.7777777777777778, \"#6ece58\"], [0.8888888888888888, \"#b5de2b\"], [1.0, \"#fde725\"]], \"type\": \"heatmap\"}], \"heatmapgl\": [{\"colorbar\": {\"outlinewidth\": 1, \"tickcolor\": \"rgb(36,36,36)\", \"ticks\": \"outside\"}, \"colorscale\": [[0.0, \"#440154\"], [0.1111111111111111, \"#482878\"], [0.2222222222222222, \"#3e4989\"], [0.3333333333333333, \"#31688e\"], [0.4444444444444444, \"#26828e\"], [0.5555555555555556, \"#1f9e89\"], [0.6666666666666666, \"#35b779\"], [0.7777777777777778, \"#6ece58\"], [0.8888888888888888, \"#b5de2b\"], [1.0, \"#fde725\"]], \"type\": \"heatmapgl\"}], \"histogram\": [{\"marker\": {\"line\": {\"color\": \"white\", \"width\": 0.6}}, \"type\": \"histogram\"}], \"histogram2d\": [{\"colorbar\": {\"outlinewidth\": 1, \"tickcolor\": \"rgb(36,36,36)\", \"ticks\": \"outside\"}, \"colorscale\": [[0.0, \"#440154\"], [0.1111111111111111, \"#482878\"], [0.2222222222222222, \"#3e4989\"], [0.3333333333333333, \"#31688e\"], [0.4444444444444444, \"#26828e\"], [0.5555555555555556, \"#1f9e89\"], [0.6666666666666666, \"#35b779\"], [0.7777777777777778, \"#6ece58\"], [0.8888888888888888, \"#b5de2b\"], [1.0, \"#fde725\"]], \"type\": \"histogram2d\"}], \"histogram2dcontour\": [{\"colorbar\": {\"outlinewidth\": 1, \"tickcolor\": \"rgb(36,36,36)\", \"ticks\": \"outside\"}, \"colorscale\": [[0.0, \"#440154\"], [0.1111111111111111, \"#482878\"], [0.2222222222222222, \"#3e4989\"], [0.3333333333333333, \"#31688e\"], [0.4444444444444444, \"#26828e\"], [0.5555555555555556, \"#1f9e89\"], [0.6666666666666666, \"#35b779\"], [0.7777777777777778, \"#6ece58\"], [0.8888888888888888, \"#b5de2b\"], [1.0, \"#fde725\"]], \"type\": \"histogram2dcontour\"}], \"mesh3d\": [{\"colorbar\": {\"outlinewidth\": 1, \"tickcolor\": \"rgb(36,36,36)\", \"ticks\": \"outside\"}, \"type\": \"mesh3d\"}], \"parcoords\": [{\"line\": {\"colorbar\": {\"outlinewidth\": 1, \"tickcolor\": \"rgb(36,36,36)\", \"ticks\": \"outside\"}}, \"type\": \"parcoords\"}], \"pie\": [{\"automargin\": true, \"type\": \"pie\"}], \"scatter\": [{\"marker\": {\"colorbar\": {\"outlinewidth\": 1, \"tickcolor\": \"rgb(36,36,36)\", \"ticks\": \"outside\"}}, \"type\": \"scatter\"}], \"scatter3d\": [{\"line\": {\"colorbar\": {\"outlinewidth\": 1, \"tickcolor\": \"rgb(36,36,36)\", \"ticks\": \"outside\"}}, \"marker\": {\"colorbar\": {\"outlinewidth\": 1, \"tickcolor\": \"rgb(36,36,36)\", \"ticks\": \"outside\"}}, \"type\": \"scatter3d\"}], \"scattercarpet\": [{\"marker\": {\"colorbar\": {\"outlinewidth\": 1, \"tickcolor\": \"rgb(36,36,36)\", \"ticks\": \"outside\"}}, \"type\": \"scattercarpet\"}], \"scattergeo\": [{\"marker\": {\"colorbar\": {\"outlinewidth\": 1, \"tickcolor\": \"rgb(36,36,36)\", \"ticks\": \"outside\"}}, \"type\": \"scattergeo\"}], \"scattergl\": [{\"marker\": {\"colorbar\": {\"outlinewidth\": 1, \"tickcolor\": \"rgb(36,36,36)\", \"ticks\": \"outside\"}}, \"type\": \"scattergl\"}], \"scattermapbox\": [{\"marker\": {\"colorbar\": {\"outlinewidth\": 1, \"tickcolor\": \"rgb(36,36,36)\", \"ticks\": \"outside\"}}, \"type\": \"scattermapbox\"}], \"scatterpolar\": [{\"marker\": {\"colorbar\": {\"outlinewidth\": 1, \"tickcolor\": \"rgb(36,36,36)\", \"ticks\": \"outside\"}}, \"type\": \"scatterpolar\"}], \"scatterpolargl\": [{\"marker\": {\"colorbar\": {\"outlinewidth\": 1, \"tickcolor\": \"rgb(36,36,36)\", \"ticks\": \"outside\"}}, \"type\": \"scatterpolargl\"}], \"scatterternary\": [{\"marker\": {\"colorbar\": {\"outlinewidth\": 1, \"tickcolor\": \"rgb(36,36,36)\", \"ticks\": \"outside\"}}, \"type\": \"scatterternary\"}], \"surface\": [{\"colorbar\": {\"outlinewidth\": 1, \"tickcolor\": \"rgb(36,36,36)\", \"ticks\": \"outside\"}, \"colorscale\": [[0.0, \"#440154\"], [0.1111111111111111, \"#482878\"], [0.2222222222222222, \"#3e4989\"], [0.3333333333333333, \"#31688e\"], [0.4444444444444444, \"#26828e\"], [0.5555555555555556, \"#1f9e89\"], [0.6666666666666666, \"#35b779\"], [0.7777777777777778, \"#6ece58\"], [0.8888888888888888, \"#b5de2b\"], [1.0, \"#fde725\"]], \"type\": \"surface\"}], \"table\": [{\"cells\": {\"fill\": {\"color\": \"rgb(237,237,237)\"}, \"line\": {\"color\": \"white\"}}, \"header\": {\"fill\": {\"color\": \"rgb(217,217,217)\"}, \"line\": {\"color\": \"white\"}}, \"type\": \"table\"}]}, \"layout\": {\"annotationdefaults\": {\"arrowhead\": 0, \"arrowwidth\": 1}, \"autotypenumbers\": \"strict\", \"coloraxis\": {\"colorbar\": {\"outlinewidth\": 1, \"tickcolor\": \"rgb(36,36,36)\", \"ticks\": \"outside\"}}, \"colorscale\": {\"diverging\": [[0.0, \"rgb(103,0,31)\"], [0.1, \"rgb(178,24,43)\"], [0.2, \"rgb(214,96,77)\"], [0.3, \"rgb(244,165,130)\"], [0.4, \"rgb(253,219,199)\"], [0.5, \"rgb(247,247,247)\"], [0.6, \"rgb(209,229,240)\"], [0.7, \"rgb(146,197,222)\"], [0.8, \"rgb(67,147,195)\"], [0.9, \"rgb(33,102,172)\"], [1.0, \"rgb(5,48,97)\"]], \"sequential\": [[0.0, \"#440154\"], [0.1111111111111111, \"#482878\"], [0.2222222222222222, \"#3e4989\"], [0.3333333333333333, \"#31688e\"], [0.4444444444444444, \"#26828e\"], [0.5555555555555556, \"#1f9e89\"], [0.6666666666666666, \"#35b779\"], [0.7777777777777778, \"#6ece58\"], [0.8888888888888888, \"#b5de2b\"], [1.0, \"#fde725\"]], \"sequentialminus\": [[0.0, \"#440154\"], [0.1111111111111111, \"#482878\"], [0.2222222222222222, \"#3e4989\"], [0.3333333333333333, \"#31688e\"], [0.4444444444444444, \"#26828e\"], [0.5555555555555556, \"#1f9e89\"], [0.6666666666666666, \"#35b779\"], [0.7777777777777778, \"#6ece58\"], [0.8888888888888888, \"#b5de2b\"], [1.0, \"#fde725\"]]}, \"colorway\": [\"#1F77B4\", \"#FF7F0E\", \"#2CA02C\", \"#D62728\", \"#9467BD\", \"#8C564B\", \"#E377C2\", \"#7F7F7F\", \"#BCBD22\", \"#17BECF\"], \"font\": {\"color\": \"rgb(36,36,36)\"}, \"geo\": {\"bgcolor\": \"white\", \"lakecolor\": \"white\", \"landcolor\": \"white\", \"showlakes\": true, \"showland\": true, \"subunitcolor\": \"white\"}, \"hoverlabel\": {\"align\": \"left\"}, \"hovermode\": \"closest\", \"mapbox\": {\"style\": \"light\"}, \"paper_bgcolor\": \"white\", \"plot_bgcolor\": \"white\", \"polar\": {\"angularaxis\": {\"gridcolor\": \"rgb(232,232,232)\", \"linecolor\": \"rgb(36,36,36)\", \"showgrid\": false, \"showline\": true, \"ticks\": \"outside\"}, \"bgcolor\": \"white\", \"radialaxis\": {\"gridcolor\": \"rgb(232,232,232)\", \"linecolor\": \"rgb(36,36,36)\", \"showgrid\": false, \"showline\": true, \"ticks\": \"outside\"}}, \"scene\": {\"xaxis\": {\"backgroundcolor\": \"white\", \"gridcolor\": \"rgb(232,232,232)\", \"gridwidth\": 2, \"linecolor\": \"rgb(36,36,36)\", \"showbackground\": true, \"showgrid\": false, \"showline\": true, \"ticks\": \"outside\", \"zeroline\": false, \"zerolinecolor\": \"rgb(36,36,36)\"}, \"yaxis\": {\"backgroundcolor\": \"white\", \"gridcolor\": \"rgb(232,232,232)\", \"gridwidth\": 2, \"linecolor\": \"rgb(36,36,36)\", \"showbackground\": true, \"showgrid\": false, \"showline\": true, \"ticks\": \"outside\", \"zeroline\": false, \"zerolinecolor\": \"rgb(36,36,36)\"}, \"zaxis\": {\"backgroundcolor\": \"white\", \"gridcolor\": \"rgb(232,232,232)\", \"gridwidth\": 2, \"linecolor\": \"rgb(36,36,36)\", \"showbackground\": true, \"showgrid\": false, \"showline\": true, \"ticks\": \"outside\", \"zeroline\": false, \"zerolinecolor\": \"rgb(36,36,36)\"}}, \"shapedefaults\": {\"fillcolor\": \"black\", \"line\": {\"width\": 0}, \"opacity\": 0.3}, \"ternary\": {\"aaxis\": {\"gridcolor\": \"rgb(232,232,232)\", \"linecolor\": \"rgb(36,36,36)\", \"showgrid\": false, \"showline\": true, \"ticks\": \"outside\"}, \"baxis\": {\"gridcolor\": \"rgb(232,232,232)\", \"linecolor\": \"rgb(36,36,36)\", \"showgrid\": false, \"showline\": true, \"ticks\": \"outside\"}, \"bgcolor\": \"white\", \"caxis\": {\"gridcolor\": \"rgb(232,232,232)\", \"linecolor\": \"rgb(36,36,36)\", \"showgrid\": false, \"showline\": true, \"ticks\": \"outside\"}}, \"title\": {\"x\": 0.05}, \"xaxis\": {\"automargin\": true, \"gridcolor\": \"rgb(232,232,232)\", \"linecolor\": \"rgb(36,36,36)\", \"showgrid\": false, \"showline\": true, \"ticks\": \"outside\", \"title\": {\"standoff\": 15}, \"zeroline\": false, \"zerolinecolor\": \"rgb(36,36,36)\"}, \"yaxis\": {\"automargin\": true, \"gridcolor\": \"rgb(232,232,232)\", \"linecolor\": \"rgb(36,36,36)\", \"showgrid\": false, \"showline\": true, \"ticks\": \"outside\", \"title\": {\"standoff\": 15}, \"zeroline\": false, \"zerolinecolor\": \"rgb(36,36,36)\"}}}, \"title\": {\"text\": \"\"}, \"updatemenus\": [{\"direction\": \"down\", \"pad\": {\"r\": 10, \"t\": 10}, \"showactive\": true, \"x\": 0.11, \"xanchor\": \"left\", \"y\": 1.1, \"yanchor\": \"top\"}], \"xaxis\": {\"showgrid\": false, \"showline\": false, \"showticklabels\": false, \"ticks\": \"\", \"title\": {\"text\": \"\"}, \"zeroline\": false}, \"yaxis\": {\"showgrid\": false, \"showline\": false, \"showticklabels\": false, \"ticks\": \"\", \"title\": {\"text\": \"\"}, \"zeroline\": false}},                        {\"scrollZoom\": true, \"responsive\": true}                    ).then(function(){\n",
              "                            \n",
              "var gd = document.getElementById('b2ad0ffd-e94d-444c-bb60-69359ec6c9fa');\n",
              "var x = new MutationObserver(function (mutations, observer) {{\n",
              "        var display = window.getComputedStyle(gd).display;\n",
              "        if (!display || display === 'none') {{\n",
              "            console.log([gd, 'removed!']);\n",
              "            Plotly.purge(gd);\n",
              "            observer.disconnect();\n",
              "        }}\n",
              "}});\n",
              "\n",
              "// Listen for the removal of the full notebook cells\n",
              "var notebookContainer = gd.closest('#notebook-container');\n",
              "if (notebookContainer) {{\n",
              "    x.observe(notebookContainer, {childList: true});\n",
              "}}\n",
              "\n",
              "// Listen for the clearing of the current output cell\n",
              "var outputEl = gd.closest('.output');\n",
              "if (outputEl) {{\n",
              "    x.observe(outputEl, {childList: true});\n",
              "}}\n",
              "\n",
              "                        })                };                            </script>        </div>\n",
              "</body>\n",
              "</html>"
            ]
          },
          "metadata": {
            "tags": []
          }
        }
      ]
    },
    {
      "cell_type": "code",
      "metadata": {
        "colab": {
          "base_uri": "https://localhost:8080/",
          "height": 917
        },
        "id": "hZs5EAQtZICU",
        "outputId": "fb3ad9bc-7ecc-4d7e-f27e-bec9e4aefee6"
      },
      "source": [
        "\"\"\" Uniform Manifold Approximation and Projection \n",
        "for Dimensionality Reduction -UMAP\"\"\"\n",
        "#UMAP class\n",
        "n_neighbors=10\n",
        "min_dist=0.5 \n",
        "\"\"\"default 0.1 (smaller values will \n",
        "result in a more clustered/clumped embedding)\"\"\"\n",
        "umap_2d = umap.UMAP(n_neighbors=n_neighbors,\n",
        "                    #metric=metric,\n",
        "                    n_components=2, #n_components = dimensions\n",
        "                    min_dist=min_dist,\n",
        "                    init='random', \n",
        "                    random_state=0) \n",
        "\n",
        "dfData = pd.DataFrame(umap_2d.fit_transform(X))\n",
        "dfL1 = pd.DataFrame(umap_2d.fit_transform(intermediate_output_0))\n",
        "dfL2 = pd.DataFrame(umap_2d.fit_transform(intermediate_output_1))\n",
        "dfL3 = pd.DataFrame(umap_2d.fit_transform(intermediate_output_2))\n",
        "dfL4 = pd.DataFrame(umap_2d.fit_transform(intermediate_output_3))\n",
        "\n",
        "fig = make_subplots( rows=3, cols=2, \n",
        "                    subplot_titles=(\"Original Data\", \n",
        "                                    \"Layer 1\", \n",
        "                                    \"Layer 2\", \n",
        "                                    \"Layer 3\",\n",
        "                                    \"Output layer\",\n",
        "                                    \"Original Data\")\n",
        ")\n",
        "fig.add_trace(go.Scatter(x=dfData[0], y=dfData[1], \n",
        "                         mode=\"markers\", \n",
        "                         marker_color=pd.DataFrame(y)['pIC50'],\n",
        "                         marker_size = 4), \n",
        "              row=1, col=1)\n",
        "\n",
        "fig.add_trace(go.Scatter(x=dfL1[0], y=dfL1[1], \n",
        "                         mode=\"markers\", \n",
        "                         marker_color=pd.DataFrame(y)['pIC50'],\n",
        "                         marker_size = 4),\n",
        "              row=1, col=2)\n",
        "\n",
        "fig.add_trace(go.Scatter(x=dfL2[0], y=dfL2[1],\n",
        "                         mode=\"markers\", \n",
        "                         marker_color=pd.DataFrame(y)['pIC50'],\n",
        "                         marker_size = 4),\n",
        "              row=2, col=1)\n",
        "\n",
        "fig.add_trace(go.Scatter(x=dfL3[0], y=dfL3[1],\n",
        "                         mode=\"markers\", \n",
        "                         marker_color=pd.DataFrame(y)['pIC50'],\n",
        "                         marker_size = 4),\n",
        "              row=2, col=2)\n",
        "\n",
        "fig.add_trace(go.Scatter(x=dfL4[0], y=dfL4[1],\n",
        "                         mode=\"markers\", \n",
        "                         marker_color=pd.DataFrame(y)['pIC50'],\n",
        "                         marker_size = 4),\n",
        "              row=3, col=1)\n",
        "\n",
        "fig.add_trace(go.Scatter(x=dfData[0], y=dfData[1],\n",
        "                         mode=\"markers\", \n",
        "                         marker_color=pd.DataFrame(y)['pIC50'],\n",
        "                         marker_size = 4),\n",
        "              row=3, col=2)\n",
        "\n",
        "fig.update_layout(height=900, \n",
        "                  width=800, \n",
        "                  showlegend=False,\n",
        "                  title_text=\"Layers data projections\")\n",
        "fig.update_layout({'plot_bgcolor': 'aliceblue' , #or azure\n",
        "'paper_bgcolor': 'white',}, template='plotly_white')\n",
        "\n",
        "fig.show()"
      ],
      "execution_count": 31,
      "outputs": [
        {
          "output_type": "display_data",
          "data": {
            "text/html": [
              "<html>\n",
              "<head><meta charset=\"utf-8\" /></head>\n",
              "<body>\n",
              "    <div>            <script src=\"https://cdnjs.cloudflare.com/ajax/libs/mathjax/2.7.5/MathJax.js?config=TeX-AMS-MML_SVG\"></script><script type=\"text/javascript\">if (window.MathJax) {MathJax.Hub.Config({SVG: {font: \"STIX-Web\"}});}</script>                <script type=\"text/javascript\">window.PlotlyConfig = {MathJaxConfig: 'local'};</script>\n",
              "        <script src=\"https://cdn.plot.ly/plotly-latest.min.js\"></script>                <div id=\"0f6de75d-c0db-44e6-9e7b-975fc17cd35b\" class=\"plotly-graph-div\" style=\"height:900px; width:800px;\"></div>            <script type=\"text/javascript\">                                    window.PLOTLYENV=window.PLOTLYENV || {};                                    if (document.getElementById(\"0f6de75d-c0db-44e6-9e7b-975fc17cd35b\")) {                    Plotly.newPlot(                        \"0f6de75d-c0db-44e6-9e7b-975fc17cd35b\",                        [{\"marker\": {\"color\": [0, 0, 0, 0, 0, 0, 0, 0, 0, 0, 0, 0, 0, 0, 0, 0, 0, 0, 0, 0, 0, 0, 0, 0, 0, 0, 0, 0, 0, 0, 0, 1, 1, 0, 0, 0, 0, 0, 0, 0, 0, 0, 0, 0, 0, 0, 0, 0, 0, 0, 1, 1, 1, 1, 1, 1, 1, 1, 1, 1, 0, 0, 0, 0, 0, 0, 0, 0, 0, 0, 0, 0, 0, 0, 0, 0, 0, 0, 0, 0, 0, 0, 0, 0, 1, 0, 1, 0, 0, 0, 0], \"size\": 4}, \"mode\": \"markers\", \"type\": \"scatter\", \"x\": [10.21798324584961, 9.88266372680664, 10.102134704589844, 10.346914291381836, 9.881509780883789, 10.234703063964844, 9.817445755004883, 7.381198883056641, 15.058185577392578, 7.921484470367432, 12.01369857788086, 14.798757553100586, 15.024774551391602, 11.747979164123535, 11.869531631469727, 9.697942733764648, 11.571953773498535, 14.258842468261719, 14.814098358154297, 10.52048110961914, 9.338641166687012, 13.904229164123535, 14.519497871398926, 8.907366752624512, 8.454391479492188, 10.021986961364746, 11.967348098754883, 10.098012924194336, 8.214957237243652, 9.248027801513672, 8.672306060791016, 13.541289329528809, 10.661520957946777, 6.909842491149902, 9.99909496307373, 11.001181602478027, 11.350341796875, 8.030733108520508, 8.939630508422852, 9.296645164489746, 7.731480121612549, 10.632840156555176, 11.35904598236084, 10.672541618347168, 10.903812408447266, 8.4656343460083, 10.904790878295898, 8.108314514160156, 7.630740165710449, 6.096599102020264, 7.303160190582275, 8.17976188659668, 8.73051929473877, 8.660477638244629, 6.459527969360352, 6.375679016113281, 7.2163825035095215, 6.612504005432129, 6.942898750305176, 8.06662368774414, 13.280608177185059, 13.970531463623047, 12.892437934875488, 13.766144752502441, 12.722043991088867, 9.704458236694336, 10.43112564086914, 10.674084663391113, 11.298927307128906, 11.493042945861816, 12.9751558303833, 10.839734077453613, 12.924640655517578, 13.358149528503418, 11.597711563110352, 13.793850898742676, 14.544965744018555, 14.593505859375, 14.232303619384766, 14.349838256835938, 9.1573486328125, 8.762521743774414, 7.779675006866455, 11.069643020629883, 9.051796913146973, 8.697945594787598, 9.21911907196045, 8.661712646484375, 9.461418151855469, 10.290316581726074, 9.613370895385742], \"xaxis\": \"x\", \"y\": [3.173609495162964, 4.464872360229492, 3.8748016357421875, 2.5272977352142334, 1.7626065015792847, 4.733375072479248, 2.623201608657837, -1.0604777336120605, 6.719006538391113, -0.34187012910842896, 1.7600065469741821, 5.807486534118652, 6.404068470001221, 1.5279902219772339, 1.3822293281555176, 4.167477607727051, 1.7850943803787231, 5.323056697845459, 5.281750679016113, -0.2781931161880493, -0.9373322129249573, 3.762301445007324, 4.847027778625488, 0.21523213386535645, -0.2145264595746994, -4.013144016265869, -2.721977472305298, -4.48844051361084, -4.1938910484313965, -4.599919319152832, -4.358649730682373, 4.388723373413086, 4.810790538787842, -3.0146892070770264, -1.1958180665969849, -3.206482172012329, -2.8112969398498535, -2.516767978668213, 1.2334001064300537, -3.4524075984954834, -2.644153118133545, -1.4077528715133667, 1.0183141231536865, -0.9927750825881958, 1.4023808240890503, -3.3582489490509033, -0.8284079432487488, -0.9342930316925049, -1.5413576364517212, -3.362421751022339, -1.8597913980484009, -1.3827018737792969, -1.352813720703125, -1.4814581871032715, -3.5580549240112305, -3.1619205474853516, -3.4632482528686523, -2.6718153953552246, -3.177554130554199, -3.3357441425323486, 3.882136106491089, 6.191305637359619, 2.9832565784454346, 2.86685848236084, 2.207575798034668, -3.5233516693115234, -3.6387932300567627, -4.067261219024658, -3.1572444438934326, -2.746594190597534, 3.292285680770874, -3.8166773319244385, 2.4252588748931885, 2.910726547241211, -3.385633707046509, 3.5194389820098877, 6.311158180236816, 6.933568954467773, 5.587507247924805, 6.051510334014893, -3.921515703201294, 0.6305134892463684, -3.6881630420684814, -2.318476438522339, -0.5555728673934937, -3.0212490558624268, 0.9213900566101074, -2.3643064498901367, 2.197810649871826, 4.2889723777771, 3.123833656311035], \"yaxis\": \"y\"}, {\"marker\": {\"color\": [0, 0, 0, 0, 0, 0, 0, 0, 0, 0, 0, 0, 0, 0, 0, 0, 0, 0, 0, 0, 0, 0, 0, 0, 0, 0, 0, 0, 0, 0, 0, 1, 1, 0, 0, 0, 0, 0, 0, 0, 0, 0, 0, 0, 0, 0, 0, 0, 0, 0, 1, 1, 1, 1, 1, 1, 1, 1, 1, 1, 0, 0, 0, 0, 0, 0, 0, 0, 0, 0, 0, 0, 0, 0, 0, 0, 0, 0, 0, 0, 0, 0, 0, 0, 1, 0, 1, 0, 0, 0, 0], \"size\": 4}, \"mode\": \"markers\", \"type\": \"scatter\", \"x\": [2.102264165878296, 2.9521291255950928, 2.994011163711548, 2.6924946308135986, 1.9583442211151123, 3.483103036880493, 2.3292839527130127, 4.897349834442139, 9.487780570983887, 3.602179527282715, 0.43372780084609985, 8.920671463012695, 9.242385864257812, 0.3946574330329895, 0.851895272731781, 2.808300495147705, 0.7935670018196106, 7.8915534019470215, 8.376473426818848, 1.5406177043914795, 1.6826398372650146, 6.386891841888428, 7.507519721984863, 2.4637863636016846, 3.1053717136383057, -0.1883368194103241, -0.6759098768234253, -1.8176751136779785, 0.9930716156959534, -0.6150312423706055, 0.2600342631340027, 5.162586212158203, 7.42778205871582, 5.181645393371582, 0.7097219824790955, -1.9628866910934448, -1.2062374353408813, 1.4284695386886597, 2.3060197830200195, 0.06744006276130676, 1.969448447227478, 0.25497668981552124, 1.212180256843567, 0.9562191367149353, 1.5003886222839355, 1.1346564292907715, 0.5540188550949097, 3.298367738723755, 4.079711437225342, 5.962616443634033, 4.688655853271484, 2.302213430404663, 1.5974763631820679, 2.086808443069458, 5.7440080642700195, 5.956446647644043, 5.302757740020752, 5.4120025634765625, 5.253023147583008, 0.8007574677467346, 5.8241705894470215, 8.099388122558594, 5.388338565826416, 6.807557106018066, 5.132359504699707, -0.03224790841341019, -0.792156994342804, -1.2255003452301025, -1.590850591659546, -1.356872320175171, 5.338136196136475, -0.8959152698516846, 5.5089311599731445, 5.658227920532227, -1.763522744178772, 6.17205810546875, 8.761414527893066, 9.076181411743164, 7.8602705001831055, 8.531960487365723, -0.34428584575653076, 2.971719741821289, 1.4844777584075928, -0.9805328845977783, 1.9148900508880615, 0.754365086555481, 1.9552193880081177, 1.0316627025604248, 2.360806703567505, 2.5805585384368896, 2.33764910697937], \"xaxis\": \"x2\", \"y\": [7.006130218505859, 9.43039321899414, 8.71071720123291, 6.837580680847168, 6.1769256591796875, 9.641949653625488, 7.108038425445557, -0.12330412119626999, 10.40625, -0.07158377766609192, 8.528562545776367, 10.4620943069458, 9.920929908752441, 8.223732948303223, 7.910796642303467, 9.250980377197266, 8.356801986694336, 10.045952796936035, 10.210039138793945, 5.5231428146362305, 0.5462748408317566, 10.34014892578125, 9.918473243713379, 0.0031925865914672613, -0.1781231015920639, 4.4587907791137695, 7.400618076324463, 5.4625773429870605, 2.542466163635254, 4.1551618576049805, 2.840399742126465, 10.166507720947266, 10.53956413269043, 0.5876819491386414, 5.239699840545654, 6.086979866027832, 7.011263847351074, 1.7534279823303223, -0.31642717123031616, 3.3889358043670654, 2.0040369033813477, 5.568077564239502, 8.155858039855957, 5.836459636688232, 7.674360275268555, 1.8788979053497314, 5.854654788970947, 0.5084528923034668, 0.3328433632850647, 0.6752908825874329, 0.32978367805480957, 1.133775234222412, 1.212612509727478, 1.0071932077407837, 0.4542098343372345, 0.2232198268175125, 0.10646283626556396, -0.40591466426849365, -0.10478391498327255, 1.867655873298645, 10.351993560791016, 10.546798706054688, 11.241729736328125, 10.446638107299805, 11.042030334472656, 3.9569859504699707, 4.6978983879089355, 5.222604751586914, 6.385876178741455, 6.492149829864502, 10.612982749938965, 5.213717937469482, 11.43503189086914, 10.625616073608398, 6.1785478591918945, 10.620497703552246, 9.821917533874512, 10.265320777893066, 10.268269538879395, 10.5717191696167, 3.6602447032928467, 0.35121461749076843, 2.2568018436431885, 6.067449569702148, 0.3606518805027008, 2.18862247467041, -0.07779175043106079, 1.1790271997451782, 6.536462306976318, 9.076058387756348, 7.725430965423584], \"yaxis\": \"y2\"}, {\"marker\": {\"color\": [0, 0, 0, 0, 0, 0, 0, 0, 0, 0, 0, 0, 0, 0, 0, 0, 0, 0, 0, 0, 0, 0, 0, 0, 0, 0, 0, 0, 0, 0, 0, 1, 1, 0, 0, 0, 0, 0, 0, 0, 0, 0, 0, 0, 0, 0, 0, 0, 0, 0, 1, 1, 1, 1, 1, 1, 1, 1, 1, 1, 0, 0, 0, 0, 0, 0, 0, 0, 0, 0, 0, 0, 0, 0, 0, 0, 0, 0, 0, 0, 0, 0, 0, 0, 1, 0, 1, 0, 0, 0, 0], \"size\": 4}, \"mode\": \"markers\", \"type\": \"scatter\", \"x\": [15.46554183959961, 5.387669563293457, 5.725114822387695, 15.804133415222168, 13.966819763183594, 5.646053314208984, 15.779303550720215, 7.27902889251709, 4.864050388336182, 7.9777936935424805, 5.222995758056641, 4.6712470054626465, 4.357687950134277, 5.112435340881348, 5.546000003814697, 5.445470333099365, 5.862706661224365, 5.1004438400268555, 4.5012946128845215, 14.16722583770752, 10.629591941833496, 5.970284938812256, 4.844673156738281, 8.802513122558594, 7.928413391113281, 15.367868423461914, 4.823282718658447, 15.412557601928711, 10.866372108459473, 15.967784881591797, 13.890594482421875, 6.062825679779053, 5.428065299987793, 7.906157970428467, 15.207706451416016, 15.42275619506836, 5.425032138824463, 9.303133010864258, 8.891398429870605, 14.197830200195312, 8.530961990356445, 16.106719970703125, 14.880888938903809, 16.048673629760742, 15.320481300354004, 11.165977478027344, 16.436195373535156, 8.308753967285156, 7.77118444442749, 7.648477554321289, 7.725169658660889, 9.365706443786621, 10.397378921508789, 9.806661605834961, 7.913666725158691, 7.9255757331848145, 7.8926005363464355, 7.439699649810791, 7.168478012084961, 10.203939437866211, 6.295106887817383, 4.266882419586182, 5.414632797241211, 5.756505966186523, 5.79840087890625, 15.053083419799805, 15.850436210632324, 15.694998741149902, 14.643416404724121, 15.211000442504883, 5.730490684509277, 15.92810344696045, 5.475037574768066, 5.8605241775512695, 14.75992202758789, 5.916690826416016, 4.499756336212158, 5.160489559173584, 4.879091739654541, 5.022049903869629, 14.684452056884766, 8.2579345703125, 8.941761016845703, 15.554353713989258, 11.002193450927734, 10.849909782409668, 10.548406600952148, 11.120360374450684, 14.93623161315918, 5.061925411224365, 15.063214302062988], \"xaxis\": \"x3\", \"y\": [4.949944496154785, 15.796222686767578, 17.445518493652344, 4.649931907653809, 3.419238328933716, 15.206278800964355, 5.505420684814453, -8.174383163452148, 10.01783275604248, -6.594512462615967, 16.61801528930664, 10.451939582824707, 10.074233055114746, 17.65937614440918, 17.991838455200195, 17.163854598999023, 17.842832565307617, 11.617314338684082, 11.299334526062012, 2.972891092300415, -2.9813544750213623, 12.860250473022461, 12.150931358337402, -5.291133403778076, -6.010985374450684, 3.959242582321167, 17.172908782958984, 9.026212692260742, -2.943739891052246, 5.175322532653809, 2.8406877517700195, 14.174613952636719, 12.210705757141113, -7.483532428741455, 4.250192642211914, 9.251116752624512, 18.052396774291992, -4.8566460609436035, -4.481923580169678, 3.389258861541748, -4.953362941741943, 6.009659767150879, 9.582969665527344, 4.767497539520264, 8.42794132232666, -3.455401659011841, 5.253998279571533, -5.897830963134766, -7.077321529388428, -9.063253402709961, -7.8544602394104, -5.021912097930908, -4.227372646331787, -3.6761579513549805, -9.123456001281738, -8.913182258605957, -8.426290512084961, -8.434868812561035, -8.533074378967285, -4.095721244812012, 13.421456336975098, 11.176198959350586, 14.044137954711914, 12.518754959106445, 14.736751556396484, 4.058933734893799, 6.490750789642334, 7.486332416534424, 8.891124725341797, 9.178762435913086, 13.618010520935059, 7.002573490142822, 14.663949012756348, 13.873106002807617, 9.379706382751465, 13.005650520324707, 10.825470924377441, 10.369791984558105, 11.310688018798828, 10.939909934997559, 3.5937609672546387, -6.180867671966553, -5.44782829284668, 8.04689884185791, -3.0369389057159424, -2.1884708404541016, -3.750166177749634, -2.4631855487823486, 4.700577259063721, 17.049964904785156, 8.622207641601562], \"yaxis\": \"y3\"}, {\"marker\": {\"color\": [0, 0, 0, 0, 0, 0, 0, 0, 0, 0, 0, 0, 0, 0, 0, 0, 0, 0, 0, 0, 0, 0, 0, 0, 0, 0, 0, 0, 0, 0, 0, 1, 1, 0, 0, 0, 0, 0, 0, 0, 0, 0, 0, 0, 0, 0, 0, 0, 0, 0, 1, 1, 1, 1, 1, 1, 1, 1, 1, 1, 0, 0, 0, 0, 0, 0, 0, 0, 0, 0, 0, 0, 0, 0, 0, 0, 0, 0, 0, 0, 0, 0, 0, 0, 1, 0, 1, 0, 0, 0, 0], \"size\": 4}, \"mode\": \"markers\", \"type\": \"scatter\", \"x\": [9.671563148498535, 2.791447639465332, 4.822833061218262, 10.192811012268066, 9.370595932006836, 2.1062815189361572, 9.828227043151855, -2.843714475631714, -3.4143614768981934, -1.4554508924484253, 3.7041239738464355, -2.877377986907959, -3.2124223709106445, 4.244266033172607, 5.204904556274414, 4.744632720947266, 4.580608367919922, -1.7352184057235718, -2.388549327850342, 8.908554077148438, 1.7776178121566772, -0.47191914916038513, -1.7481414079666138, 0.4944083094596863, -1.0452252626419067, 10.605170249938965, 4.154929161071777, 9.088215827941895, 2.1573338508605957, 10.360589027404785, 9.061899185180664, 0.8175490498542786, -1.2030030488967896, -2.3198163509368896, 10.129300117492676, 9.185935020446777, 5.082109451293945, 0.6957468390464783, 0.3480088710784912, 9.574951171875, 0.02345498465001583, 10.088178634643555, 8.578734397888184, 10.203444480895996, 8.836523056030273, 2.1896727085113525, 9.858098983764648, -0.8531383872032166, -1.8402220010757446, -3.525458812713623, -2.7266759872436523, -0.12230389565229416, 1.2423484325408936, 0.8409698605537415, -3.488266944885254, -3.348238706588745, -2.736422061920166, -2.4140889644622803, -2.7296297550201416, 1.2250109910964966, 0.1945161670446396, -2.6334211826324463, 1.0216333866119385, -0.9369071125984192, 1.595735788345337, 9.852741241455078, 9.932083129882812, 9.561677932739258, 8.683052062988281, 8.414514541625977, 0.15462087094783783, 9.782844543457031, 1.4450725317001343, 0.5757828950881958, 8.242615699768066, -0.47139814496040344, -3.0807182788848877, -3.0828657150268555, -2.302252769470215, -2.4875805377960205, 9.89723014831543, -0.838782012462616, 0.3379315733909607, 9.33884334564209, 2.3191936016082764, 1.707501769065857, 1.427263855934143, 2.0397775173187256, 9.916930198669434, 4.137819766998291, 8.828274726867676], \"xaxis\": \"x4\", \"y\": [3.968316078186035, 6.002567768096924, 5.557760715484619, 4.098063945770264, 2.2517290115356445, 6.090108871459961, 5.247213363647461, -9.407722473144531, 7.274773120880127, -8.148335456848145, 5.953413486480713, 7.422796249389648, 7.554251194000244, 6.328516483306885, 6.08652925491333, 6.325148105621338, 5.764425277709961, 6.948790550231934, 6.517037868499756, 2.3665833473205566, -5.331361770629883, 6.892865180969238, 6.476933002471924, -7.95991849899292, -8.582976341247559, 3.500626802444458, 5.890383243560791, 9.148995399475098, -4.685268402099609, 4.926039695739746, 1.7982540130615234, 6.478947639465332, 6.86106014251709, -8.612255096435547, 3.254175901412964, 8.87623405456543, 5.875679016113281, -7.356159687042236, -7.664699554443359, 2.4179599285125732, -8.208539009094238, 5.565743923187256, 9.609328269958496, 4.67488431930542, 8.2346773147583, -5.284939289093018, 4.783943176269531, -8.216133117675781, -8.309118270874023, -8.959186553955078, -8.569441795349121, -7.426882743835449, -5.916171550750732, -6.027451992034912, -9.320294380187988, -8.741313934326172, -9.179193496704102, -9.255033493041992, -9.599632263183594, -6.373666763305664, 6.573426246643066, 6.335669994354248, 6.708440780639648, 6.449957370758057, 6.12218713760376, 3.377976655960083, 5.992464542388916, 7.13366174697876, 8.978338241577148, 9.532840728759766, 6.087046146392822, 6.519156455993652, 6.4767279624938965, 6.067356586456299, 9.017131805419922, 6.538540840148926, 6.735111713409424, 6.976205825805664, 6.757865905761719, 7.018348217010498, 2.8581862449645996, -8.118688583374023, -8.312504768371582, 7.717573642730713, -5.353316783905029, -4.595665454864502, -5.599973201751709, -4.718630313873291, 3.5575945377349854, 5.641643047332764, 8.645146369934082], \"yaxis\": \"y4\"}, {\"marker\": {\"color\": [0, 0, 0, 0, 0, 0, 0, 0, 0, 0, 0, 0, 0, 0, 0, 0, 0, 0, 0, 0, 0, 0, 0, 0, 0, 0, 0, 0, 0, 0, 0, 1, 1, 0, 0, 0, 0, 0, 0, 0, 0, 0, 0, 0, 0, 0, 0, 0, 0, 0, 1, 1, 1, 1, 1, 1, 1, 1, 1, 1, 0, 0, 0, 0, 0, 0, 0, 0, 0, 0, 0, 0, 0, 0, 0, 0, 0, 0, 0, 0, 0, 0, 0, 0, 1, 0, 1, 0, 0, 0, 0], \"size\": 4}, \"mode\": \"markers\", \"type\": \"scatter\", \"x\": [5.590249538421631, 5.024751663208008, 0.3449912667274475, 5.42055606842041, 6.973140716552734, 4.8840837478637695, 4.317620754241943, 8.575726509094238, 4.071370601654053, 9.460274696350098, 1.0676352977752686, 3.5272350311279297, 3.623199939727783, 1.3002426624298096, 0.5470427870750427, 0.4294319152832031, 0.7044703960418701, 3.6590638160705566, 4.161083221435547, 7.446758270263672, 11.094511985778809, 4.142241954803467, 3.3952016830444336, 9.758727073669434, 8.942081451416016, 6.0524468421936035, 1.0593292713165283, 1.942622184753418, 11.176584243774414, 4.724464416503906, 7.272974491119385, 4.469159126281738, 4.072716236114502, 9.108144760131836, 5.776754379272461, 2.1113805770874023, 0.23602522909641266, 10.199263572692871, 9.695083618164062, 6.754370212554932, 9.47525691986084, 4.1400227546691895, 1.224537968635559, 5.060851573944092, 1.9964187145233154, 10.512064933776855, 5.078625202178955, 9.546018600463867, 9.298759460449219, 9.43576717376709, 8.714481353759766, 9.843235969543457, 11.1091947555542, 10.732940673828125, 9.349414825439453, 9.579513549804688, 8.312460899353027, 8.399447441101074, 8.51214599609375, 10.228392601013184, 4.08240270614624, 4.362528324127197, 4.159572124481201, 3.756288528442383, 4.7801008224487305, 6.07280158996582, 3.706383228302002, 2.9395151138305664, 1.7045999765396118, 1.2090805768966675, 3.7701539993286133, 3.367202043533325, 4.872900009155273, 4.235003471374512, 1.3026437759399414, 3.7974581718444824, 3.31006121635437, 3.8149142265319824, 3.7108607292175293, 3.897129774093628, 6.276233196258545, 9.187479972839355, 9.268265724182129, 2.565753221511841, 10.786005020141602, 11.553333282470703, 10.665513038635254, 11.510090827941895, 6.286739826202393, 0.7849150896072388, 1.8499071598052979], \"xaxis\": \"x5\", \"y\": [6.025005340576172, 20.648433685302734, 8.875212669372559, 6.5339579582214355, 7.4315056800842285, 20.509763717651367, 6.14837121963501, -5.8367486000061035, 15.843853950500488, -3.7575621604919434, 10.145753860473633, 16.117427825927734, 15.560807228088379, 9.62185287475586, 8.737770080566406, 9.759800910949707, 9.276297569274902, 17.211204528808594, 17.02530288696289, 7.385941982269287, 0.6772339940071106, 18.457929611206055, 17.390748977661133, -2.520897626876831, -3.3519976139068604, 6.465820789337158, 9.687679290771484, 7.375141620635986, 1.0256242752075195, 5.871776103973389, 7.074650764465332, 19.763959884643555, 17.656091690063477, -4.636096000671387, 6.796597957611084, 7.0033135414123535, 9.212089538574219, -2.007523536682129, -1.7901039123535156, 7.582672595977783, -2.2968413829803467, 5.632091999053955, 7.726377010345459, 6.3100762367248535, 6.347327709197998, 0.4861464500427246, 5.77931022644043, -3.163437604904175, -4.112653732299805, -5.670005798339844, -4.850834369659424, -2.3110899925231934, -0.23069722950458527, -0.5070865750312805, -5.834753036499023, -5.4695940017700195, -5.833073139190674, -5.358634948730469, -5.506037712097168, -0.4253460466861725, 19.13273048400879, 16.758987426757812, 20.049352645874023, 17.848445892333984, 20.321489334106445, 7.022287368774414, 5.705187797546387, 6.115398406982422, 6.959157943725586, 7.1695556640625, 19.25519371032715, 5.8985419273376465, 19.974748611450195, 19.36119270324707, 6.784809112548828, 18.71616554260254, 16.439931869506836, 15.679577827453613, 16.623043060302734, 16.52322006225586, 7.167630672454834, -3.1339876651763916, -2.188941478729248, 6.3079915046691895, 0.8386191725730896, 0.5678632259368896, 0.026430996134877205, 0.41727155447006226, 6.38551139831543, 10.214803695678711, 6.382254123687744], \"yaxis\": \"y5\"}, {\"marker\": {\"color\": [0, 0, 0, 0, 0, 0, 0, 0, 0, 0, 0, 0, 0, 0, 0, 0, 0, 0, 0, 0, 0, 0, 0, 0, 0, 0, 0, 0, 0, 0, 0, 1, 1, 0, 0, 0, 0, 0, 0, 0, 0, 0, 0, 0, 0, 0, 0, 0, 0, 0, 1, 1, 1, 1, 1, 1, 1, 1, 1, 1, 0, 0, 0, 0, 0, 0, 0, 0, 0, 0, 0, 0, 0, 0, 0, 0, 0, 0, 0, 0, 0, 0, 0, 0, 1, 0, 1, 0, 0, 0, 0], \"size\": 4}, \"mode\": \"markers\", \"type\": \"scatter\", \"x\": [10.21798324584961, 9.88266372680664, 10.102134704589844, 10.346914291381836, 9.881509780883789, 10.234703063964844, 9.817445755004883, 7.381198883056641, 15.058185577392578, 7.921484470367432, 12.01369857788086, 14.798757553100586, 15.024774551391602, 11.747979164123535, 11.869531631469727, 9.697942733764648, 11.571953773498535, 14.258842468261719, 14.814098358154297, 10.52048110961914, 9.338641166687012, 13.904229164123535, 14.519497871398926, 8.907366752624512, 8.454391479492188, 10.021986961364746, 11.967348098754883, 10.098012924194336, 8.214957237243652, 9.248027801513672, 8.672306060791016, 13.541289329528809, 10.661520957946777, 6.909842491149902, 9.99909496307373, 11.001181602478027, 11.350341796875, 8.030733108520508, 8.939630508422852, 9.296645164489746, 7.731480121612549, 10.632840156555176, 11.35904598236084, 10.672541618347168, 10.903812408447266, 8.4656343460083, 10.904790878295898, 8.108314514160156, 7.630740165710449, 6.096599102020264, 7.303160190582275, 8.17976188659668, 8.73051929473877, 8.660477638244629, 6.459527969360352, 6.375679016113281, 7.2163825035095215, 6.612504005432129, 6.942898750305176, 8.06662368774414, 13.280608177185059, 13.970531463623047, 12.892437934875488, 13.766144752502441, 12.722043991088867, 9.704458236694336, 10.43112564086914, 10.674084663391113, 11.298927307128906, 11.493042945861816, 12.9751558303833, 10.839734077453613, 12.924640655517578, 13.358149528503418, 11.597711563110352, 13.793850898742676, 14.544965744018555, 14.593505859375, 14.232303619384766, 14.349838256835938, 9.1573486328125, 8.762521743774414, 7.779675006866455, 11.069643020629883, 9.051796913146973, 8.697945594787598, 9.21911907196045, 8.661712646484375, 9.461418151855469, 10.290316581726074, 9.613370895385742], \"xaxis\": \"x6\", \"y\": [3.173609495162964, 4.464872360229492, 3.8748016357421875, 2.5272977352142334, 1.7626065015792847, 4.733375072479248, 2.623201608657837, -1.0604777336120605, 6.719006538391113, -0.34187012910842896, 1.7600065469741821, 5.807486534118652, 6.404068470001221, 1.5279902219772339, 1.3822293281555176, 4.167477607727051, 1.7850943803787231, 5.323056697845459, 5.281750679016113, -0.2781931161880493, -0.9373322129249573, 3.762301445007324, 4.847027778625488, 0.21523213386535645, -0.2145264595746994, -4.013144016265869, -2.721977472305298, -4.48844051361084, -4.1938910484313965, -4.599919319152832, -4.358649730682373, 4.388723373413086, 4.810790538787842, -3.0146892070770264, -1.1958180665969849, -3.206482172012329, -2.8112969398498535, -2.516767978668213, 1.2334001064300537, -3.4524075984954834, -2.644153118133545, -1.4077528715133667, 1.0183141231536865, -0.9927750825881958, 1.4023808240890503, -3.3582489490509033, -0.8284079432487488, -0.9342930316925049, -1.5413576364517212, -3.362421751022339, -1.8597913980484009, -1.3827018737792969, -1.352813720703125, -1.4814581871032715, -3.5580549240112305, -3.1619205474853516, -3.4632482528686523, -2.6718153953552246, -3.177554130554199, -3.3357441425323486, 3.882136106491089, 6.191305637359619, 2.9832565784454346, 2.86685848236084, 2.207575798034668, -3.5233516693115234, -3.6387932300567627, -4.067261219024658, -3.1572444438934326, -2.746594190597534, 3.292285680770874, -3.8166773319244385, 2.4252588748931885, 2.910726547241211, -3.385633707046509, 3.5194389820098877, 6.311158180236816, 6.933568954467773, 5.587507247924805, 6.051510334014893, -3.921515703201294, 0.6305134892463684, -3.6881630420684814, -2.318476438522339, -0.5555728673934937, -3.0212490558624268, 0.9213900566101074, -2.3643064498901367, 2.197810649871826, 4.2889723777771, 3.123833656311035], \"yaxis\": \"y6\"}],                        {\"annotations\": [{\"font\": {\"size\": 16}, \"showarrow\": false, \"text\": \"Original Data\", \"x\": 0.225, \"xanchor\": \"center\", \"xref\": \"paper\", \"y\": 1.0, \"yanchor\": \"bottom\", \"yref\": \"paper\"}, {\"font\": {\"size\": 16}, \"showarrow\": false, \"text\": \"Layer 1\", \"x\": 0.775, \"xanchor\": \"center\", \"xref\": \"paper\", \"y\": 1.0, \"yanchor\": \"bottom\", \"yref\": \"paper\"}, {\"font\": {\"size\": 16}, \"showarrow\": false, \"text\": \"Layer 2\", \"x\": 0.225, \"xanchor\": \"center\", \"xref\": \"paper\", \"y\": 0.6111111111111112, \"yanchor\": \"bottom\", \"yref\": \"paper\"}, {\"font\": {\"size\": 16}, \"showarrow\": false, \"text\": \"Layer 3\", \"x\": 0.775, \"xanchor\": \"center\", \"xref\": \"paper\", \"y\": 0.6111111111111112, \"yanchor\": \"bottom\", \"yref\": \"paper\"}, {\"font\": {\"size\": 16}, \"showarrow\": false, \"text\": \"Output layer\", \"x\": 0.225, \"xanchor\": \"center\", \"xref\": \"paper\", \"y\": 0.22222222222222224, \"yanchor\": \"bottom\", \"yref\": \"paper\"}, {\"font\": {\"size\": 16}, \"showarrow\": false, \"text\": \"Original Data\", \"x\": 0.775, \"xanchor\": \"center\", \"xref\": \"paper\", \"y\": 0.22222222222222224, \"yanchor\": \"bottom\", \"yref\": \"paper\"}], \"height\": 900, \"paper_bgcolor\": \"white\", \"plot_bgcolor\": \"aliceblue\", \"showlegend\": false, \"template\": {\"data\": {\"bar\": [{\"error_x\": {\"color\": \"#2a3f5f\"}, \"error_y\": {\"color\": \"#2a3f5f\"}, \"marker\": {\"line\": {\"color\": \"white\", \"width\": 0.5}}, \"type\": \"bar\"}], \"barpolar\": [{\"marker\": {\"line\": {\"color\": \"white\", \"width\": 0.5}}, \"type\": \"barpolar\"}], \"carpet\": [{\"aaxis\": {\"endlinecolor\": \"#2a3f5f\", \"gridcolor\": \"#C8D4E3\", \"linecolor\": \"#C8D4E3\", \"minorgridcolor\": \"#C8D4E3\", \"startlinecolor\": \"#2a3f5f\"}, \"baxis\": {\"endlinecolor\": \"#2a3f5f\", \"gridcolor\": \"#C8D4E3\", \"linecolor\": \"#C8D4E3\", \"minorgridcolor\": \"#C8D4E3\", \"startlinecolor\": \"#2a3f5f\"}, \"type\": \"carpet\"}], \"choropleth\": [{\"colorbar\": {\"outlinewidth\": 0, \"ticks\": \"\"}, \"type\": \"choropleth\"}], \"contour\": [{\"colorbar\": {\"outlinewidth\": 0, \"ticks\": \"\"}, \"colorscale\": [[0.0, \"#0d0887\"], [0.1111111111111111, \"#46039f\"], [0.2222222222222222, \"#7201a8\"], [0.3333333333333333, \"#9c179e\"], [0.4444444444444444, \"#bd3786\"], [0.5555555555555556, \"#d8576b\"], [0.6666666666666666, \"#ed7953\"], [0.7777777777777778, \"#fb9f3a\"], [0.8888888888888888, \"#fdca26\"], [1.0, \"#f0f921\"]], \"type\": \"contour\"}], \"contourcarpet\": [{\"colorbar\": {\"outlinewidth\": 0, \"ticks\": \"\"}, \"type\": \"contourcarpet\"}], \"heatmap\": [{\"colorbar\": {\"outlinewidth\": 0, \"ticks\": \"\"}, \"colorscale\": [[0.0, \"#0d0887\"], [0.1111111111111111, \"#46039f\"], [0.2222222222222222, \"#7201a8\"], [0.3333333333333333, \"#9c179e\"], [0.4444444444444444, \"#bd3786\"], [0.5555555555555556, \"#d8576b\"], [0.6666666666666666, \"#ed7953\"], [0.7777777777777778, \"#fb9f3a\"], [0.8888888888888888, \"#fdca26\"], [1.0, \"#f0f921\"]], \"type\": \"heatmap\"}], \"heatmapgl\": [{\"colorbar\": {\"outlinewidth\": 0, \"ticks\": \"\"}, \"colorscale\": [[0.0, \"#0d0887\"], [0.1111111111111111, \"#46039f\"], [0.2222222222222222, \"#7201a8\"], [0.3333333333333333, \"#9c179e\"], [0.4444444444444444, \"#bd3786\"], [0.5555555555555556, \"#d8576b\"], [0.6666666666666666, \"#ed7953\"], [0.7777777777777778, \"#fb9f3a\"], [0.8888888888888888, \"#fdca26\"], [1.0, \"#f0f921\"]], \"type\": \"heatmapgl\"}], \"histogram\": [{\"marker\": {\"colorbar\": {\"outlinewidth\": 0, \"ticks\": \"\"}}, \"type\": \"histogram\"}], \"histogram2d\": [{\"colorbar\": {\"outlinewidth\": 0, \"ticks\": \"\"}, \"colorscale\": [[0.0, \"#0d0887\"], [0.1111111111111111, \"#46039f\"], [0.2222222222222222, \"#7201a8\"], [0.3333333333333333, \"#9c179e\"], [0.4444444444444444, \"#bd3786\"], [0.5555555555555556, \"#d8576b\"], [0.6666666666666666, \"#ed7953\"], [0.7777777777777778, \"#fb9f3a\"], [0.8888888888888888, \"#fdca26\"], [1.0, \"#f0f921\"]], \"type\": \"histogram2d\"}], \"histogram2dcontour\": [{\"colorbar\": {\"outlinewidth\": 0, \"ticks\": \"\"}, \"colorscale\": [[0.0, \"#0d0887\"], [0.1111111111111111, \"#46039f\"], [0.2222222222222222, \"#7201a8\"], [0.3333333333333333, \"#9c179e\"], [0.4444444444444444, \"#bd3786\"], [0.5555555555555556, \"#d8576b\"], [0.6666666666666666, \"#ed7953\"], [0.7777777777777778, \"#fb9f3a\"], [0.8888888888888888, \"#fdca26\"], [1.0, \"#f0f921\"]], \"type\": \"histogram2dcontour\"}], \"mesh3d\": [{\"colorbar\": {\"outlinewidth\": 0, \"ticks\": \"\"}, \"type\": \"mesh3d\"}], \"parcoords\": [{\"line\": {\"colorbar\": {\"outlinewidth\": 0, \"ticks\": \"\"}}, \"type\": \"parcoords\"}], \"pie\": [{\"automargin\": true, \"type\": \"pie\"}], \"scatter\": [{\"marker\": {\"colorbar\": {\"outlinewidth\": 0, \"ticks\": \"\"}}, \"type\": \"scatter\"}], \"scatter3d\": [{\"line\": {\"colorbar\": {\"outlinewidth\": 0, \"ticks\": \"\"}}, \"marker\": {\"colorbar\": {\"outlinewidth\": 0, \"ticks\": \"\"}}, \"type\": \"scatter3d\"}], \"scattercarpet\": [{\"marker\": {\"colorbar\": {\"outlinewidth\": 0, \"ticks\": \"\"}}, \"type\": \"scattercarpet\"}], \"scattergeo\": [{\"marker\": {\"colorbar\": {\"outlinewidth\": 0, \"ticks\": \"\"}}, \"type\": \"scattergeo\"}], \"scattergl\": [{\"marker\": {\"colorbar\": {\"outlinewidth\": 0, \"ticks\": \"\"}}, \"type\": \"scattergl\"}], \"scattermapbox\": [{\"marker\": {\"colorbar\": {\"outlinewidth\": 0, \"ticks\": \"\"}}, \"type\": \"scattermapbox\"}], \"scatterpolar\": [{\"marker\": {\"colorbar\": {\"outlinewidth\": 0, \"ticks\": \"\"}}, \"type\": \"scatterpolar\"}], \"scatterpolargl\": [{\"marker\": {\"colorbar\": {\"outlinewidth\": 0, \"ticks\": \"\"}}, \"type\": \"scatterpolargl\"}], \"scatterternary\": [{\"marker\": {\"colorbar\": {\"outlinewidth\": 0, \"ticks\": \"\"}}, \"type\": \"scatterternary\"}], \"surface\": [{\"colorbar\": {\"outlinewidth\": 0, \"ticks\": \"\"}, \"colorscale\": [[0.0, \"#0d0887\"], [0.1111111111111111, \"#46039f\"], [0.2222222222222222, \"#7201a8\"], [0.3333333333333333, \"#9c179e\"], [0.4444444444444444, \"#bd3786\"], [0.5555555555555556, \"#d8576b\"], [0.6666666666666666, \"#ed7953\"], [0.7777777777777778, \"#fb9f3a\"], [0.8888888888888888, \"#fdca26\"], [1.0, \"#f0f921\"]], \"type\": \"surface\"}], \"table\": [{\"cells\": {\"fill\": {\"color\": \"#EBF0F8\"}, \"line\": {\"color\": \"white\"}}, \"header\": {\"fill\": {\"color\": \"#C8D4E3\"}, \"line\": {\"color\": \"white\"}}, \"type\": \"table\"}]}, \"layout\": {\"annotationdefaults\": {\"arrowcolor\": \"#2a3f5f\", \"arrowhead\": 0, \"arrowwidth\": 1}, \"autotypenumbers\": \"strict\", \"coloraxis\": {\"colorbar\": {\"outlinewidth\": 0, \"ticks\": \"\"}}, \"colorscale\": {\"diverging\": [[0, \"#8e0152\"], [0.1, \"#c51b7d\"], [0.2, \"#de77ae\"], [0.3, \"#f1b6da\"], [0.4, \"#fde0ef\"], [0.5, \"#f7f7f7\"], [0.6, \"#e6f5d0\"], [0.7, \"#b8e186\"], [0.8, \"#7fbc41\"], [0.9, \"#4d9221\"], [1, \"#276419\"]], \"sequential\": [[0.0, \"#0d0887\"], [0.1111111111111111, \"#46039f\"], [0.2222222222222222, \"#7201a8\"], [0.3333333333333333, \"#9c179e\"], [0.4444444444444444, \"#bd3786\"], [0.5555555555555556, \"#d8576b\"], [0.6666666666666666, \"#ed7953\"], [0.7777777777777778, \"#fb9f3a\"], [0.8888888888888888, \"#fdca26\"], [1.0, \"#f0f921\"]], \"sequentialminus\": [[0.0, \"#0d0887\"], [0.1111111111111111, \"#46039f\"], [0.2222222222222222, \"#7201a8\"], [0.3333333333333333, \"#9c179e\"], [0.4444444444444444, \"#bd3786\"], [0.5555555555555556, \"#d8576b\"], [0.6666666666666666, \"#ed7953\"], [0.7777777777777778, \"#fb9f3a\"], [0.8888888888888888, \"#fdca26\"], [1.0, \"#f0f921\"]]}, \"colorway\": [\"#636efa\", \"#EF553B\", \"#00cc96\", \"#ab63fa\", \"#FFA15A\", \"#19d3f3\", \"#FF6692\", \"#B6E880\", \"#FF97FF\", \"#FECB52\"], \"font\": {\"color\": \"#2a3f5f\"}, \"geo\": {\"bgcolor\": \"white\", \"lakecolor\": \"white\", \"landcolor\": \"white\", \"showlakes\": true, \"showland\": true, \"subunitcolor\": \"#C8D4E3\"}, \"hoverlabel\": {\"align\": \"left\"}, \"hovermode\": \"closest\", \"mapbox\": {\"style\": \"light\"}, \"paper_bgcolor\": \"white\", \"plot_bgcolor\": \"white\", \"polar\": {\"angularaxis\": {\"gridcolor\": \"#EBF0F8\", \"linecolor\": \"#EBF0F8\", \"ticks\": \"\"}, \"bgcolor\": \"white\", \"radialaxis\": {\"gridcolor\": \"#EBF0F8\", \"linecolor\": \"#EBF0F8\", \"ticks\": \"\"}}, \"scene\": {\"xaxis\": {\"backgroundcolor\": \"white\", \"gridcolor\": \"#DFE8F3\", \"gridwidth\": 2, \"linecolor\": \"#EBF0F8\", \"showbackground\": true, \"ticks\": \"\", \"zerolinecolor\": \"#EBF0F8\"}, \"yaxis\": {\"backgroundcolor\": \"white\", \"gridcolor\": \"#DFE8F3\", \"gridwidth\": 2, \"linecolor\": \"#EBF0F8\", \"showbackground\": true, \"ticks\": \"\", \"zerolinecolor\": \"#EBF0F8\"}, \"zaxis\": {\"backgroundcolor\": \"white\", \"gridcolor\": \"#DFE8F3\", \"gridwidth\": 2, \"linecolor\": \"#EBF0F8\", \"showbackground\": true, \"ticks\": \"\", \"zerolinecolor\": \"#EBF0F8\"}}, \"shapedefaults\": {\"line\": {\"color\": \"#2a3f5f\"}}, \"ternary\": {\"aaxis\": {\"gridcolor\": \"#DFE8F3\", \"linecolor\": \"#A2B1C6\", \"ticks\": \"\"}, \"baxis\": {\"gridcolor\": \"#DFE8F3\", \"linecolor\": \"#A2B1C6\", \"ticks\": \"\"}, \"bgcolor\": \"white\", \"caxis\": {\"gridcolor\": \"#DFE8F3\", \"linecolor\": \"#A2B1C6\", \"ticks\": \"\"}}, \"title\": {\"x\": 0.05}, \"xaxis\": {\"automargin\": true, \"gridcolor\": \"#EBF0F8\", \"linecolor\": \"#EBF0F8\", \"ticks\": \"\", \"title\": {\"standoff\": 15}, \"zerolinecolor\": \"#EBF0F8\", \"zerolinewidth\": 2}, \"yaxis\": {\"automargin\": true, \"gridcolor\": \"#EBF0F8\", \"linecolor\": \"#EBF0F8\", \"ticks\": \"\", \"title\": {\"standoff\": 15}, \"zerolinecolor\": \"#EBF0F8\", \"zerolinewidth\": 2}}}, \"title\": {\"text\": \"Layers data projections\"}, \"width\": 800, \"xaxis\": {\"anchor\": \"y\", \"domain\": [0.0, 0.45]}, \"xaxis2\": {\"anchor\": \"y2\", \"domain\": [0.55, 1.0]}, \"xaxis3\": {\"anchor\": \"y3\", \"domain\": [0.0, 0.45]}, \"xaxis4\": {\"anchor\": \"y4\", \"domain\": [0.55, 1.0]}, \"xaxis5\": {\"anchor\": \"y5\", \"domain\": [0.0, 0.45]}, \"xaxis6\": {\"anchor\": \"y6\", \"domain\": [0.55, 1.0]}, \"yaxis\": {\"anchor\": \"x\", \"domain\": [0.7777777777777778, 1.0]}, \"yaxis2\": {\"anchor\": \"x2\", \"domain\": [0.7777777777777778, 1.0]}, \"yaxis3\": {\"anchor\": \"x3\", \"domain\": [0.3888888888888889, 0.6111111111111112]}, \"yaxis4\": {\"anchor\": \"x4\", \"domain\": [0.3888888888888889, 0.6111111111111112]}, \"yaxis5\": {\"anchor\": \"x5\", \"domain\": [0.0, 0.22222222222222224]}, \"yaxis6\": {\"anchor\": \"x6\", \"domain\": [0.0, 0.22222222222222224]}},                        {\"responsive\": true}                    ).then(function(){\n",
              "                            \n",
              "var gd = document.getElementById('0f6de75d-c0db-44e6-9e7b-975fc17cd35b');\n",
              "var x = new MutationObserver(function (mutations, observer) {{\n",
              "        var display = window.getComputedStyle(gd).display;\n",
              "        if (!display || display === 'none') {{\n",
              "            console.log([gd, 'removed!']);\n",
              "            Plotly.purge(gd);\n",
              "            observer.disconnect();\n",
              "        }}\n",
              "}});\n",
              "\n",
              "// Listen for the removal of the full notebook cells\n",
              "var notebookContainer = gd.closest('#notebook-container');\n",
              "if (notebookContainer) {{\n",
              "    x.observe(notebookContainer, {childList: true});\n",
              "}}\n",
              "\n",
              "// Listen for the clearing of the current output cell\n",
              "var outputEl = gd.closest('.output');\n",
              "if (outputEl) {{\n",
              "    x.observe(outputEl, {childList: true});\n",
              "}}\n",
              "\n",
              "                        })                };                            </script>        </div>\n",
              "</body>\n",
              "</html>"
            ]
          },
          "metadata": {
            "tags": []
          }
        }
      ]
    }
  ]
}